{
 "cells": [
  {
   "cell_type": "markdown",
   "metadata": {
    "slideshow": {
     "slide_type": "slide"
    }
   },
   "source": [
    "# Beyond Unit Testing for Data Intensive Apps\n",
    "## Eyal Trabelsi"
   ]
  },
  {
   "cell_type": "markdown",
   "metadata": {
    "slideshow": {
     "slide_type": "notes"
    }
   },
   "source": [
    "- thanks for watching, I am Eyal I live in Tel Aviv and work for Salesforce.\n",
    "- and today I am going to talk to you about how to properly test data intensive apps."
   ]
  },
  {
   "cell_type": "markdown",
   "metadata": {
    "slideshow": {
     "slide_type": "slide"
    }
   },
   "source": [
    "## What's Data Intensive App 📊"
   ]
  },
  {
   "cell_type": "markdown",
   "metadata": {
    "slideshow": {
     "slide_type": "fragment"
    }
   },
   "source": [
    "- Amount of data\n"
   ]
  },
  {
   "cell_type": "markdown",
   "metadata": {
    "slideshow": {
     "slide_type": "fragment"
    }
   },
   "source": [
    "- Complexity of data\n"
   ]
  },
  {
   "cell_type": "markdown",
   "metadata": {
    "slideshow": {
     "slide_type": "fragment"
    }
   },
   "source": [
    "- Data is changing frequently"
   ]
  },
  {
   "cell_type": "markdown",
   "metadata": {},
   "source": [
    "## tests a definition"
   ]
  },
  {
   "cell_type": "markdown",
   "metadata": {},
   "source": [
    "\n",
    "ac contract between your current self and your future self. what you exect to be right now should hold true in the future. what you expect to be wrong now should still be wrong in the future. unless the requirements have changed"
   ]
  },
  {
   "cell_type": "markdown",
   "metadata": {
    "slideshow": {
     "slide_type": "slide"
    }
   },
   "source": [
    "## Why Testing 🤨"
   ]
  },
  {
   "cell_type": "markdown",
   "metadata": {
    "slideshow": {
     "slide_type": "fragment"
    }
   },
   "source": [
    "- Find bugs"
   ]
  },
  {
   "cell_type": "markdown",
   "metadata": {
    "slideshow": {
     "slide_type": "fragment"
    }
   },
   "source": [
    "- Validate assumptions"
   ]
  },
  {
   "cell_type": "markdown",
   "metadata": {
    "slideshow": {
     "slide_type": "fragment"
    }
   },
   "source": [
    "- Simplier code"
   ]
  },
  {
   "cell_type": "markdown",
   "metadata": {
    "slideshow": {
     "slide_type": "fragment"
    }
   },
   "source": [
    "- Data is messy"
   ]
  },
  {
   "cell_type": "markdown",
   "metadata": {
    "slideshow": {
     "slide_type": "slide"
    }
   },
   "source": [
    "## Testing Strategies 🎮\n"
   ]
  },
  {
   "cell_type": "markdown",
   "metadata": {
    "slideshow": {
     "slide_type": "fragment"
    }
   },
   "source": [
    "- Unit tests \n"
   ]
  },
  {
   "cell_type": "markdown",
   "metadata": {
    "slideshow": {
     "slide_type": "fragment"
    }
   },
   "source": [
    "- Property testing\n"
   ]
  },
  {
   "cell_type": "markdown",
   "metadata": {
    "slideshow": {
     "slide_type": "fragment"
    }
   },
   "source": [
    "- Component tests\n"
   ]
  },
  {
   "cell_type": "markdown",
   "metadata": {
    "slideshow": {
     "slide_type": "fragment"
    }
   },
   "source": [
    "- Integration Testing\n"
   ]
  },
  {
   "cell_type": "markdown",
   "metadata": {
    "slideshow": {
     "slide_type": "fragment"
    }
   },
   "source": [
    "- Regression tests\n"
   ]
  },
  {
   "cell_type": "markdown",
   "metadata": {
    "slideshow": {
     "slide_type": "fragment"
    }
   },
   "source": [
    "- Data tests"
   ]
  },
  {
   "attachments": {},
   "cell_type": "markdown",
   "metadata": {
    "slideshow": {
     "slide_type": "slide"
    }
   },
   "source": [
    "https://dev.to/nfrankel/different-kinds-of-testing-j9f"
   ]
  },
  {
   "cell_type": "markdown",
   "metadata": {
    "slideshow": {
     "slide_type": "skip"
    }
   },
   "source": [
    "## Base"
   ]
  },
  {
   "cell_type": "markdown",
   "metadata": {
    "slideshow": {
     "slide_type": "skip"
    }
   },
   "source": [
    "- [Preventing, Finding, and Fixing Bugs On a Time Budget](https://www.youtube.com/watch?v=ARKbfWk4Xyw)\n",
    "- [Example](https://github.com/ericmjl/data-testing-tutorial)\n",
    "- [Test smarter, not harder](https://lukeplant.me.uk/blog/posts/test-smarter-not-harder/)\n",
    "- [12 TRAITS OF HIGHLY EFFECTIVE TESTS](https://automationpanda.com/2020/07/09/12-traits-of-highly-effective-tests/)\n"
   ]
  },
  {
   "cell_type": "markdown",
   "metadata": {
    "slideshow": {
     "slide_type": "skip"
    }
   },
   "source": [
    "## Doctests"
   ]
  },
  {
   "cell_type": "markdown",
   "metadata": {
    "slideshow": {
     "slide_type": "skip"
    }
   },
   "source": [
    "- https://www.hillelwayne.com/post/python-doctests/\n",
    "- https://blog.startifact.com/posts/older/i-like-doctests.html\n",
    "- https://stackoverflow.com/questions/361675/python-doctest-vs-unittest"
   ]
  },
  {
   "cell_type": "markdown",
   "metadata": {
    "slideshow": {
     "slide_type": "skip"
    }
   },
   "source": [
    "## Unit tests"
   ]
  },
  {
   "cell_type": "code",
   "execution_count": null,
   "metadata": {},
   "outputs": [],
   "source": [
    "\"It's a system for testing your thoughts against the universe, and seeing whether they match\" Isaac Asimov.\n",
    "Most of the code in a data pipeline consists of a data cleaning process. Each of the functions used to do data cleaning has a clear goal. Let's say, for example, that one of the features that we have chosen for out model is the change of a value between the previous and current day.\n",
    "For each piece of independent functionality, you would write a unit test, making sure that each part of the data transformation process has the expected effect on the data. For each piece of functionality you should also consider different scenarios (is there an if statement? then all conditionals should be tested). These would then be ran as part of your continuous integration (CI) pipeline on every commit.\n",
    "In addition to checking that the code does what is intended, unit tests also give us a hand when debugging a problem. By adding a test that reproduces a newly discovered bug, we can ensure that the bug is fixed when we think that is fixed, and we can ensure that the bug does not happen again.\n",
    "Lastly, these tests not only check that the code does what is intended, but also help us document the expectations that we had when creating the functionality."
   ]
  },
  {
   "cell_type": "markdown",
   "metadata": {
    "slideshow": {
     "slide_type": "skip"
    }
   },
   "source": [
    "- https://towardsdatascience.com/pytest-features-that-you-need-in-your-testing-life-31488dc7d9eb\n",
    "- https://www.youtube.com/watch?v=fv259R38gqc\n"
   ]
  },
  {
   "cell_type": "markdown",
   "metadata": {
    "slideshow": {
     "slide_type": "skip"
    }
   },
   "source": [
    "## Property tests"
   ]
  },
  {
   "cell_type": "markdown",
   "metadata": {
    "slideshow": {
     "slide_type": "skip"
    }
   },
   "source": [
    "\n",
    "- https://github.com/HypothesisWorks/hypothesis\n",
    "- https://engineering.hexacta.com/testing-pandas-b65c0ea8a28es\n",
    "- https://www.hillelwayne.com/post/contract-examples/\n",
    "- https://hypothesis.readthedocs.io/en/latest/stateful.html\n",
    "- https://hypothesis.readthedocs.io/en/latest/examples.html\n",
    "- https://www.hillelwayne.com/post/property-testing-complex-inputs/\n"
   ]
  },
  {
   "cell_type": "markdown",
   "metadata": {
    "slideshow": {
     "slide_type": "skip"
    }
   },
   "source": [
    "## Regression tests\n"
   ]
  },
  {
   "cell_type": "markdown",
   "metadata": {
    "slideshow": {
     "slide_type": "skip"
    }
   },
   "source": [
    "- nbval pytests\n",
    "- tdda\n"
   ]
  },
  {
   "cell_type": "markdown",
   "metadata": {
    "slideshow": {
     "slide_type": "skip"
    }
   },
   "source": [
    "## Mock"
   ]
  },
  {
   "cell_type": "markdown",
   "metadata": {
    "slideshow": {
     "slide_type": "skip"
    }
   },
   "source": [
    "- https://github.com/obspy/vcr\n",
    "- https://blog.daftcode.pl/the-cleaning-hand-of-pytest-28f434f4b684\n",
    "- https://medium.com/@light_khan/mock-testing-in-python-using-vcrpy-ff3eb05ae5ec\n",
    "- https://github.com/spulec/freezegun\n",
    "- https://github.com/lk-geimfari/mimesis\n",
    "- https://github.com/joke2k/faker\n"
   ]
  },
  {
   "cell_type": "markdown",
   "metadata": {
    "slideshow": {
     "slide_type": "skip"
    }
   },
   "source": [
    "## Contract tests\n"
   ]
  },
  {
   "cell_type": "markdown",
   "metadata": {
    "slideshow": {
     "slide_type": "skip"
    }
   },
   "source": [
    "- https://github.com/deadpixi/contract\n",
    "- https://www.hillelwayne.com/post/pbt-contracts/\n"
   ]
  },
  {
   "cell_type": "markdown",
   "metadata": {},
   "source": [
    "## Integration tests\n"
   ]
  },
  {
   "cell_type": "markdown",
   "metadata": {},
   "source": [
    "Because \"The unclouded eye was better, no matter what it saw.\" Frank Herbert.\n",
    "These tests aim to determine whether modules that have been developed separately work as expected when brought together. In terms of a data pipeline, these can check that:\n",
    "The data cleaning process results in a dataset appropriate for the model\n",
    "The model training can handle the data provided to it and outputs results (ensurign that code can be refactored in the future)"
   ]
  },
  {
   "cell_type": "markdown",
   "metadata": {
    "slideshow": {
     "slide_type": "skip"
    }
   },
   "source": [
    "## Data tests"
   ]
  },
  {
   "cell_type": "markdown",
   "metadata": {
    "slideshow": {
     "slide_type": "skip"
    }
   },
   "source": [
    "\n",
    "- https://github.com/great-expectations/great_expectations\n",
    "\n"
   ]
  },
  {
   "cell_type": "markdown",
   "metadata": {},
   "source": [
    "ml testing\n",
    "functional \n",
    "does my model output prediction in the expected range\n",
    "does my preprocessing parse and engineer the correct features\n",
    "non-functional\n",
    "can my model handle 1000 request per minutes\n",
    "can it respond to a request within 100ms\n",
    "model performance\n",
    "how does it perform on different tests datasets\n",
    "does it perform worse than a previous iteration\n",
    "\n",
    "\n",
    "ML Validation\n",
    "Why? \"To exhibit the perfect uselessness of knowing the answer to the wrong question.\" Ursula K. Le Guin.\n",
    "Now that we have tested our code, we need to also test that the ML component is solving the problem that we are trying to solve. When we talk about product development, the raw results of an ML model (however accurate based on statistical methods) are almost never the desired end outputs. These results are usually combined with other business rules before consumed by a user or another application. For this reason, we need to validate that the model solves the user problem, and not only that the accuracy/f1-score/other statistical measure is high enough.\n",
    "How does this help us?\n",
    "It ensures that the model actually helps the product solve the problem at hand\n",
    "It ensures that the values produced by the model make sense in terms of the industry\n",
    "It provides an extra layer of documentation of the decisions made, helping engineers joining the team later in the process.\n",
    "It provides visibility of the ML components of the product in a common language understood by clients, product managers and engineers in the same way.\n",
    "\n",
    "https://www.jeremyjordan.me/testing-ml/"
   ]
  },
  {
   "cell_type": "markdown",
   "metadata": {
    "slideshow": {
     "slide_type": "skip"
    }
   },
   "source": [
    "## Others"
   ]
  },
  {
   "cell_type": "markdown",
   "metadata": {
    "slideshow": {
     "slide_type": "skip"
    }
   },
   "source": [
    "- https://www.youtube.com/watch?v=GEqM9uJi64Q\n",
    "- https://medium.com/@copyconstruct/testing-in-production-the-hard-parts-3f06cefaf592\n",
    "- https://github.com/locustio/locust\n",
    "- https://www.simform.com/functional-testing-types/#sanity\n",
    "- https://tyrrrz.me/blog/unit-testing-is-overrated"
   ]
  },
  {
   "cell_type": "markdown",
   "metadata": {},
   "source": [
    "- immutable data\n",
    "- canonical formats\n",
    "- well defined interface\n",
    "- separation io and computation logic\n",
    "- explicit arguments for all dependencies\n",
    "- deterministic behavior\n",
    "- lots of assertions"
   ]
  },
  {
   "cell_type": "code",
   "execution_count": null,
   "metadata": {},
   "outputs": [],
   "source": []
  }
 ],
 "metadata": {
  "kernelspec": {
   "display_name": "Python 3",
   "language": "python",
   "name": "python3"
  },
  "language_info": {
   "codemirror_mode": {
    "name": "ipython",
    "version": 3
   },
   "file_extension": ".py",
   "mimetype": "text/x-python",
   "name": "python",
   "nbconvert_exporter": "python",
   "pygments_lexer": "ipython3",
   "version": "3.7.4"
  }
 },
 "nbformat": 4,
 "nbformat_minor": 4
}
