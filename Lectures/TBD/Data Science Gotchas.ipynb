{
 "cells": [
  {
   "cell_type": "markdown",
   "id": "546467a4",
   "metadata": {},
   "source": [
    "-   for technical reasons null cant be used in pivot so we  fill it with empty string\n",
    "\n",
    "      .fillna(\"\")                                  .pivot_table(index=index_cols, columns=\"field\", values=\"value\", aggfunc=\"first\")\n"
   ]
  },
  {
   "cell_type": "code",
   "execution_count": null,
   "id": "c8bd5cd5",
   "metadata": {},
   "outputs": [],
   "source": []
  }
 ],
 "metadata": {
  "kernelspec": {
   "display_name": "Python 3 (ipykernel)",
   "language": "python",
   "name": "python3"
  },
  "language_info": {
   "codemirror_mode": {
    "name": "ipython",
    "version": 3
   },
   "file_extension": ".py",
   "mimetype": "text/x-python",
   "name": "python",
   "nbconvert_exporter": "python",
   "pygments_lexer": "ipython3",
   "version": "3.7.10"
  }
 },
 "nbformat": 4,
 "nbformat_minor": 5
}
