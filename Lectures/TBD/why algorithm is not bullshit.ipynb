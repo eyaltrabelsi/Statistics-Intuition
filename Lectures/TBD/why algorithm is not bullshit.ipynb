{
 "cells": [
  {
   "cell_type": "code",
   "execution_count": null,
   "id": "b9b00856",
   "metadata": {},
   "outputs": [],
   "source": [
    "Cracking a junior dev interview doesn’t depend on how much you know, but how you end up with the execution.\n"
   ]
  },
  {
   "cell_type": "code",
   "execution_count": null,
   "id": "cdf1431c",
   "metadata": {},
   "outputs": [],
   "source": [
    "Never miss on the niceties. How have you been can be easily extended to weather hasn’t been so cheery. It must be super hard to reach office these days.\n",
    "Stop sounding robotic. Don’t use tech jargon heavy speech. Instead, give a summary of what you did using what technologies in shortest possible way. (Good example: I developed entire back end using Node.js and deployed using Docker.)\n",
    "Appreciate what’s worth appreciating e.g. flexibility in interview scheduling, or directions help while reaching to the interview spot.\n",
    "Avoid using lingos that resemble Corporate Mission statements (Bad example: I am committed to provide the best combination of quality and integrity for your esteemed organization. Good example: I believe in writing robust, testable code that is well-documented.)\n"
   ]
  },
  {
   "cell_type": "code",
   "execution_count": null,
   "id": "b1686ad8",
   "metadata": {},
   "outputs": [],
   "source": [
    "They don’t really test what you’ll want them to do once hired — Perhaps the most egregious aspect of using coding interviews with senior engineers is that they only test a small aspect what you’re hiring them to do. Senior engineers typically make 3–5x (or more) than new grads. Expecting them to produce 3–5x more code than a new grad is obviously not reasonable — there just aren’t enough hours in the day. Instead, you’re looking for them to enable teams of junior engineers, mentor those people, identify systemic problems, debug the most complex of issues, and when coding, understand complex systems and the intricate work required to code within them. None of these aspects are tested in a coding interview, and it’s one of the main reasons why senior engineers hate them.\n"
   ]
  }
 ],
 "metadata": {
  "kernelspec": {
   "display_name": "Python 3 (ipykernel)",
   "language": "python",
   "name": "python3"
  },
  "language_info": {
   "codemirror_mode": {
    "name": "ipython",
    "version": 3
   },
   "file_extension": ".py",
   "mimetype": "text/x-python",
   "name": "python",
   "nbconvert_exporter": "python",
   "pygments_lexer": "ipython3",
   "version": "3.7.10"
  }
 },
 "nbformat": 4,
 "nbformat_minor": 5
}
