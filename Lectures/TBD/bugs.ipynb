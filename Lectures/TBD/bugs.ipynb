{
 "cells": [
  {
   "cell_type": "markdown",
   "id": "ad65f0af",
   "metadata": {},
   "source": [
    "- https://jvns.ca/blog/2021/06/08/reasons-why-bugs-might-feel-impossible/"
   ]
  },
  {
   "cell_type": "code",
   "execution_count": null,
   "id": "84eb8978",
   "metadata": {},
   "outputs": [],
   "source": [
    "ostrich algorithms\n",
    "rubber duck debugging"
   ]
  }
 ],
 "metadata": {
  "kernelspec": {
   "display_name": "Python 3 (ipykernel)",
   "language": "python",
   "name": "python3"
  },
  "language_info": {
   "codemirror_mode": {
    "name": "ipython",
    "version": 3
   },
   "file_extension": ".py",
   "mimetype": "text/x-python",
   "name": "python",
   "nbconvert_exporter": "python",
   "pygments_lexer": "ipython3",
   "version": "3.7.10"
  }
 },
 "nbformat": 4,
 "nbformat_minor": 5
}
