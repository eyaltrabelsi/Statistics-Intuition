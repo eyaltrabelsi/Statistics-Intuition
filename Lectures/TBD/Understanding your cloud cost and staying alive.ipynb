{
 "cells": [
  {
   "cell_type": "code",
   "execution_count": null,
   "id": "72e8a938",
   "metadata": {},
   "outputs": [],
   "source": [
    "Finops\n",
    "https://www.youtube.com/watch?v=BgOMUE0lPrQ&list=WL&index=2&ab_channel=AmazonWebServices\n",
    "\n",
    "It's everywhere because it works. Distributed computing, it turns out, is more effective at distributing resources and providing high-quality and low-latency service to internet users. And for companies that have been around a while - since before AWS burst onto the scene, a little over a decade ago - cloud is simply cheaper than having to run those old-fashioned data centers on your premises.\n",
    "Dvir: So if I wanted to buy hardware in the old world, there was a procurement process that we actually had negotiations and pricing and we had budget approvals and there was a whole process of many teams related to the cost that governed the actual cost.\n",
    "Basically, it was expensive to run mini data centers, but it was predictable and easy to track. If you need to buy a server, an ethernet cord, whatever, you go to a manufacturer and buy it. Simple. By contrast…\n",
    "Dvir: If you want to purchase hardware or infrastructure on the cloud, all you have to do is click a button. And because of that, it creates a financial challenge, because there is no actual governance on how much cost or how much infrastructure - there is no limit on how much you can provision in the cloud. And therefore the margin for error is a lot larger than on-premises datacenter.\n",
    "Dvir: When we're talking about visibility and monitoring, the day to day would be to create that visibility on the cloud, what we're paying for. But that's the initial phase. What we want to do is to highlight anomalies and red flags.\n",
    "Dvir: We want to create that monitoring framework to let everyone know if there is a financial incident. And that's how we categorize that, like an incident and not like someone wasting a lot of money. It's an actual production incident.\n",
    "When we have that framework of monitoring and we have those alerts and budget in place, so we will know that everything is aligned - that creates governance.\n",
    "That leads us to the second pillar of FinOps: design and optimization. Not just seeing where the existing holes are, not just patching them, but going that one step further.\n",
    "Dvir: The strength of the engineering side is to actually do a proactive approach and not a reactive approach. Don't change your infrastructure after your provision date. But proactively design and be part of the architecture of the provisioning team and the way that your company is built on the cloud.\n",
    "Dvir: And for me, the most important thing, a part of the FinOps culture, the thing that this function has to implement in the organization - is to change the engineering mindset.\n",
    "Dvir: We don't look to override the financial KPI on top of other criteria. For example, if there might be a chance that I will lose completely a redundancy topology, because of cost, we probably won't do it. To be honest, everyone knows Wix and our company. We're a public company. So downtime for Wix will cost a lot more than any optimization that we'll do.\n",
    "Dvir: Now it's something that I like to say in my lectures, but I know that the financial KPI doesn't have to be in the top five KPIs of an engineer and that's OK, right? We have dev velocity, performance, resilience, redundancy. We have a lot of KPIs that the engineer has to keep. Financial KPI is not really one of them. But it is still a KPI and when we're talking to the engineering team…\n",
    "So those are the three pillars: visibility, design, and culture. FinOps, in a nutshell."
   ]
  }
 ],
 "metadata": {
  "kernelspec": {
   "display_name": "Python 3 (ipykernel)",
   "language": "python",
   "name": "python3"
  },
  "language_info": {
   "codemirror_mode": {
    "name": "ipython",
    "version": 3
   },
   "file_extension": ".py",
   "mimetype": "text/x-python",
   "name": "python",
   "nbconvert_exporter": "python",
   "pygments_lexer": "ipython3",
   "version": "3.7.10"
  }
 },
 "nbformat": 4,
 "nbformat_minor": 5
}
