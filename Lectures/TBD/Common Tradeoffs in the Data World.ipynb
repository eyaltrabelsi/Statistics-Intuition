{
 "cells": [
  {
   "cell_type": "markdown",
   "id": "9f33c76a",
   "metadata": {},
   "source": [
    "- https://vimeo.com/43536417\n",
    "- https://www.youtube.com/watch?v=v55IV8IhwKM&list=WL&index=6&ab_channel=Thoughtworks\n",
    "- https://eugeneyan.com/writing/simplicity/\n",
    "- https://www.youtube.com/watch?v=oCW5y4_8uGU&ab_channel=GOTOConferences\n",
    "- https://www.youtube.com/watch?v=BUUWEkpGWsM&ab_channel=NDCConferences\n",
    "- https://www.youtube.com/watch?v=57UK46qfBLY&ab_channel=GOTOConferences\n",
    "- https://www.youtube.com/watch?v=uKYdOmXO4D0&ab_channel=TechLeadJournal\n",
    "- https://www.youtube.com/watch?v=A3Mvy8WMk04&ab_channel=TechPrimers\n",
    "- https://www.youtube.com/watch?v=52haYbu80e8&ab_channel=MarkRichards\n",
    "- https://www.infoq.com/presentations/build-buy-tradeoff/\n",
    "- https://www.usenix.org/conference/lisa15/conference-program/presentation/krishnan\n",
    "- https://www.podbean.com/media/share/dir-s2nf8-13456062\n",
    "- https://martinfowler.com/articles/value-architectural-attribute.html\n",
    "- https://kislayverma.com/software-architecture/the-mechanics-of-software-evolution/\n",
    "- https://medium.com/redbubble/trade-offs-in-decision-making-92a33c7a308e\n",
    "- https://www.youtube.com/watch?v=TETsm-YxhEI\n",
    "- https://gotopia.tech/articles/expert-talk-devops-software-architecture\n",
    "- https://medium.com/@alex.wauters/how-to-make-architecture-trade-off-decisions-cb23482e1dfe\n",
    "- https://www.brendangregg.com/blog/2022-03-19/why-dont-you-use.html\n",
    "- https://medium.com/@alex.wauters/how-to-make-architecture-trade-off-decisions-cb23482e1dfe"
   ]
  },
  {
   "cell_type": "code",
   "execution_count": null,
   "id": "dbcc2bc5",
   "metadata": {},
   "outputs": [],
   "source": [
    "the  people designing software must understand technolegy all decisions involve tradeoffs"
   ]
  },
  {
   "cell_type": "markdown",
   "id": "04acdbab",
   "metadata": {},
   "source": [
    "we need real time everyhitng\n",
    "- result now >> result in two hours ?\n",
    "- today numbers >> yestarday?\n",
    "- fraud analysis must be quick"
   ]
  },
  {
   "cell_type": "code",
   "execution_count": null,
   "id": "bb75675f",
   "metadata": {},
   "outputs": [],
   "source": [
    "tradeoffs deployment:\n",
    "    automated vs manual deployment\n",
    "    vertical vs horizontal scaling\n",
    "    hosted vs inhouse"
   ]
  },
  {
   "cell_type": "markdown",
   "id": "d002517e",
   "metadata": {},
   "source": [
    " ## API\n",
    "- Synchronous & follows a contract\n",
    "- inference for an integrated ecosystem\n",
    "- http, grpc, graphql, rsocket etc\n",
    "- request response model\n",
    "\n",
    "\n",
    "## EVENTS\n",
    "- Asynchronous & follows a contract\n",
    "- reacts to a state change\n",
    "- AMQP, MQTT, STOMP, etc\n",
    "- subscription mode\n",
    "\n",
    "## use API when\n",
    "\n",
    "- tight coupling\n",
    "- instant response\n",
    "- reuseable data\n",
    "\n",
    "\n",
    "\n",
    "## use EVENTS when\n",
    "- loosely coupled systems flexibility\n",
    "- reacts to a state change\n",
    "- orchestration\n",
    " \n",
    " \n",
    " ## sync\n",
    " + easy to model transactional behavior\n",
    " + easy to implment\n",
    " + mimics non distributed method calls\n",
    " - performance impact on highly interactive systems\n",
    " - creates dynamic quantum entaglements\n",
    " - creates limitations in distributed architectures\n",
    " \n",
    " ## async\n",
    " + allow highly decoupled systems\n",
    " + common performance tunning technique\n",
    " + high performance and scale\n",
    " - complex to build and debug\n",
    " - present difficulties for transactional behaviors\n",
    " - error handling\n",
    " \n",
    "## Mutable/unmutable/shared/unshared\n",
    " - shared mutable data needs synchronisation\n",
    " - unshared mutable data needs no synchronization\n",
    " - shared imutable data needs no synchronisation\n",
    " - unshared imutable data needs no synchronisation"
   ]
  },
  {
   "cell_type": "markdown",
   "id": "fadf7e84",
   "metadata": {},
   "source": [
    "biusness tradeoffs\n",
    "- cost\n",
    "    - more compute is more expensive\n",
    "    - price to performance is key\n",
    "- SLA\n",
    "    - high quality of service is important\n",
    "    - accurate, unbiased and fast models are key for certain usecases"
   ]
  },
  {
   "cell_type": "markdown",
   "id": "2bc938ee",
   "metadata": {},
   "source": [
    "arcitecture consideration and tradeoffs\n",
    "- how to split work and data\n",
    "- how to coordinate state\n",
    "- robustness and managing failure\n",
    "- scale bottlenecks and efficiency\n",
    "- understanbility and predictiability\n",
    "- maintainability"
   ]
  },
  {
   "cell_type": "code",
   "execution_count": null,
   "id": "ace35d20",
   "metadata": {},
   "outputs": [],
   "source": []
  },
  {
   "cell_type": "markdown",
   "id": "e52366a4",
   "metadata": {},
   "source": []
  },
  {
   "cell_type": "markdown",
   "id": "ca842ff0",
   "metadata": {},
   "source": []
  },
  {
   "cell_type": "markdown",
   "id": "ed39e00e",
   "metadata": {},
   "source": []
  },
  {
   "cell_type": "code",
   "execution_count": null,
   "id": "e3ad0008",
   "metadata": {},
   "outputs": [],
   "source": []
  }
 ],
 "metadata": {
  "kernelspec": {
   "display_name": "Python 3 (ipykernel)",
   "language": "python",
   "name": "python3"
  },
  "language_info": {
   "codemirror_mode": {
    "name": "ipython",
    "version": 3
   },
   "file_extension": ".py",
   "mimetype": "text/x-python",
   "name": "python",
   "nbconvert_exporter": "python",
   "pygments_lexer": "ipython3",
   "version": "3.7.10"
  }
 },
 "nbformat": 4,
 "nbformat_minor": 5
}
