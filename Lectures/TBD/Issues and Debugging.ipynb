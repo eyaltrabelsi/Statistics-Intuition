{
 "cells": [
  {
   "cell_type": "markdown",
   "id": "1e2c9949",
   "metadata": {},
   "source": [
    "Four types of errors:\n",
    "- Failed to compile\n",
    "- Exit abnormally\n",
    "- program can run but give wrong result\n",
    "- result is correct but program consume more resources than expected"
   ]
  },
  {
   "cell_type": "markdown",
   "id": "319e6163",
   "metadata": {},
   "source": [
    "### Print\n",
    "\"on the other hand, ofther the quickest way to debug a program is to add a few print statements to the source\"\n",
    "### Why\n",
    "- available out of the box\n",
    "- no redundent information\n",
    "- normally wont change program behavior\n",
    "### Why not\n",
    "- requires decent familarity with code\n",
    "- require code modification\n",
    "- lack context\n",
    "- hard to manage output"
   ]
  },
  {
   "cell_type": "markdown",
   "id": "090ae63e",
   "metadata": {},
   "source": [
    "### Why debugger\n",
    "- powerful, with more features\n",
    "- Doesnt require familarity with code\n",
    "- help you find root cause more easily"
   ]
  },
  {
   "cell_type": "markdown",
   "id": "c9e83602",
   "metadata": {},
   "source": [
    "#### tools\n",
    "- the debugger-gdb what is my program doing\n",
    "- record and replay-rr what just happened\n",
    "- dynamic checkers valgrid did thing x happen\n",
    "- static analysis  could thing x happen"
   ]
  }
 ],
 "metadata": {
  "kernelspec": {
   "display_name": "Python 3 (ipykernel)",
   "language": "python",
   "name": "python3"
  },
  "language_info": {
   "codemirror_mode": {
    "name": "ipython",
    "version": 3
   },
   "file_extension": ".py",
   "mimetype": "text/x-python",
   "name": "python",
   "nbconvert_exporter": "python",
   "pygments_lexer": "ipython3",
   "version": "3.7.10"
  }
 },
 "nbformat": 4,
 "nbformat_minor": 5
}
