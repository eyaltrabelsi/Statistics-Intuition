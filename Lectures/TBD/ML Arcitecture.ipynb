{
 "cells": [
  {
   "cell_type": "markdown",
   "id": "51fcbbd7",
   "metadata": {},
   "source": [
    "- https://www.montecarlodata.com/why-production-machine-learning-fails-and-how-to-fix-it/\n",
    "- https://towardsdatascience.com/framework-for-a-successful-continuous-training-strategy-8c83d17bb9dc\n",
    "- https://towardsdatascience.com/the-only-3-ml-tools-you-need-1aa750778d33\n",
    "- https://towardsdatascience.com/fcds-b2d2e6b08d34\n",
    "- https://www.youtube.com/watch?v=-IZ3b6m9GgI&ab_channel=PyData\n",
    "- https://affine.medium.com/making-our-data-scientists-and-ml-engineers-more-efficient-11ebff102c33\n",
    "- https://towardsdatascience.com/ml-infrastructure-tools-for-data-preparation-70d79e70f8d4\n",
    "- https://kislayverma.com/software-architecture/the-mechanics-of-software-evolution/\n",
    "- https://learningdaily.dev/the-complete-guide-to-system-design-in-2022-31e319a91cac\n",
    "- https://martin.zinkevich.org/rules_of_ml/rules_of_ml.pdf\n",
    "- https://www.oreilly.com/radar/why-best-of-breed-is-a-better-choice-than-all-in-one-platforms-for-data-science/"
   ]
  },
  {
   "cell_type": "markdown",
   "id": "40f2464e",
   "metadata": {},
   "source": [
    "- https://towardsdatascience.com/the-building-blocks-of-a-modern-data-platform-92e46061165\n",
    "- https://medium.com/@_nancychauhan/idempotency-in-api-design-bc4ea812a881\n",
    "- https://medium.com/@Integral_io/elegant-multi-tenancy-for-microservices-part-i-why-bother-a88234f9d293\n",
    "- https://medium.com/crunchyroll/multi-tenancy-for-big-data-part-2-c8b66a3fae89\n",
    "- https://medium.com/gooddata-developers/4-architecture-options-for-your-multitenant-analytics-solution-630c68ff6467\n",
    "- http://ai.stanford.edu/~zayd/why-is-machine-learning-hard.html\n",
    "- https://medium.com/billie-finanzratgeber/unlocking-our-data-with-a-feature-store-402ade0743b\n",
    "- https://huyenchip.com/2022/02/07/data-distribution-shifts-and-monitoring.html"
   ]
  },
  {
   "cell_type": "code",
   "execution_count": null,
   "id": "22c9083b",
   "metadata": {},
   "outputs": [],
   "source": []
  }
 ],
 "metadata": {
  "kernelspec": {
   "display_name": "Python 3 (ipykernel)",
   "language": "python",
   "name": "python3"
  },
  "language_info": {
   "codemirror_mode": {
    "name": "ipython",
    "version": 3
   },
   "file_extension": ".py",
   "mimetype": "text/x-python",
   "name": "python",
   "nbconvert_exporter": "python",
   "pygments_lexer": "ipython3",
   "version": "3.7.10"
  }
 },
 "nbformat": 4,
 "nbformat_minor": 5
}
