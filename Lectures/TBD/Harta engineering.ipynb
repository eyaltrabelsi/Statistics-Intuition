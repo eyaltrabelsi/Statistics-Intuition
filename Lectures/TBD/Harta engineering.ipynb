{
 "cells": [
  {
   "cell_type": "markdown",
   "id": "42c29ec5",
   "metadata": {},
   "source": [
    "- when you are fundraising its AI.\n",
    "  when you are hiring, its ML.\n",
    "  when you are implmenting, its linear regression\n",
    "  when you are debugging, its printf\n",
    " - "
   ]
  },
  {
   "cell_type": "markdown",
   "id": "b2f0b964",
   "metadata": {},
   "source": [
    "https://www.youtube.com/watch?v=4Zc9ci9L5wY\n",
    "\tidempotent\n",
    "\tephemeral\n",
    "\tanonymous\n",
    "\tpredicate\n",
    "\tmemoization\n",
    "\tserialization\n",
    "\n",
    "\n",
    "agile\n",
    "api\n",
    "cache\n",
    "cdn\n",
    "feature store\n",
    "deployment\n",
    "dom\n",
    "full stack\n",
    "mvp\n",
    "\n",
    "feature flag\n",
    "feature env\n",
    "\n",
    "\n",
    "In my talk, I argue how the use of buzzwords and other education jargon prevents us from truly engaging in meaningful discussions around teaching and learning.\n",
    "\n",
    "\n",
    ". Why do we feel the need to change our dialogue when our audience changes? Formal settings such as faculty meetings, staff development or even interviews becomes a breeding ground for buzzwords which often keep the discussion superficial and takes us away from the heart of deeply reflecting on our important work.\n",
    "\n",
    "\n",
    "\n",
    "\n",
    "\n",
    "https://www.quora.com/What-are-some-trade-offs-and-decisions-made-in-programming\n",
    "\n",
    "\"HARTA Engineering\" buzzwords demistified\n",
    "\n",
    "\n",
    "\n",
    "\n",
    "Today's microservices systems are complex, distributed and they are constantly changing. Keeping track of so many moving parts in so many places often seems nearly impossible. That’s where Komodor comes in. Komodor is the missing piece in your DevOps toolchain - offering one unified platform from which you can gain a deep understanding of all of your system events and changes. We integrate with all of your tools, monitor changes and alerts and organize information on a clear digestible dashboard and provide you with the right context at the right time. via source control not source control\n"
   ]
  },
  {
   "cell_type": "code",
   "execution_count": null,
   "id": "6aa36e3b",
   "metadata": {},
   "outputs": [],
   "source": []
  }
 ],
 "metadata": {
  "kernelspec": {
   "display_name": "Python 3 (ipykernel)",
   "language": "python",
   "name": "python3"
  },
  "language_info": {
   "codemirror_mode": {
    "name": "ipython",
    "version": 3
   },
   "file_extension": ".py",
   "mimetype": "text/x-python",
   "name": "python",
   "nbconvert_exporter": "python",
   "pygments_lexer": "ipython3",
   "version": "3.7.10"
  }
 },
 "nbformat": 4,
 "nbformat_minor": 5
}
