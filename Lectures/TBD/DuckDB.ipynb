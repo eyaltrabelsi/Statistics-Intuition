{
 "cells": [
  {
   "cell_type": "markdown",
   "id": "f9715bc2",
   "metadata": {},
   "source": [
    "- https://towardsdatascience.com/how-to-be-confident-in-your-neural-network-confidence-10d10dcf8003\n",
    "- https://towardsdatascience.com/duckdb-sqlite-for-data-analysis-a279bdf94399\n",
    "- https://medium.com/hyrise/query-plan-optimization-sub-plan-memoization-25232491ddbc\n",
    "- https://duckdb.org/\n",
    "- https://shekhargulati.com/2019/12/15/the-5-minute-introduction-to-duckdb-the-sqlite-for-analytics/"
   ]
  },
  {
   "cell_type": "code",
   "execution_count": null,
   "id": "c912abf3",
   "metadata": {},
   "outputs": [],
   "source": []
  }
 ],
 "metadata": {
  "kernelspec": {
   "display_name": "Python 3 (ipykernel)",
   "language": "python",
   "name": "python3"
  },
  "language_info": {
   "codemirror_mode": {
    "name": "ipython",
    "version": 3
   },
   "file_extension": ".py",
   "mimetype": "text/x-python",
   "name": "python",
   "nbconvert_exporter": "python",
   "pygments_lexer": "ipython3",
   "version": "3.7.10"
  }
 },
 "nbformat": 4,
 "nbformat_minor": 5
}
