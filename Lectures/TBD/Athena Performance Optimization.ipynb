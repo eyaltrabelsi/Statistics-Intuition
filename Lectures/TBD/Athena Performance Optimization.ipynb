{
 "cells": [
  {
   "cell_type": "code",
   "execution_count": null,
   "id": "c9599a59",
   "metadata": {},
   "outputs": [],
   "source": [
    "Explained explained (athena)\n",
    "https://rumproarious.com/2019/12/15/performance-matters/\n",
    "    https://rumproarious.com/2019/12/11/helpful-numbers-for-designing-technical-systems/\n",
    "        \n",
    "presto architecture\n",
    "\n",
    "\n",
    "\n"
   ]
  },
  {
   "cell_type": "code",
   "execution_count": null,
   "id": "890707bd",
   "metadata": {},
   "outputs": [],
   "source": [
    "presto concepcepts:\n",
    "    - plan is created from query\n",
    "    - a plan is made up of 1 or more fragment \n",
    "    - a fragment is represented by a physical stage\n",
    "    - a stage has tasks where tasks are distributed over a network of presto workers\n",
    "    - a task has pipelines which is a template of the execution drivers\n",
    "    - a pipiline has execution drivers that operates on splits of data\n",
    "    - a driver is an instance of a pipeline and contains operators the driver drives pages of data through the operators\n",
    "    - operators do the actual data prossing in presto\n",
    "    -= a split is part of a table or intermidiate data"
   ]
  },
  {
   "cell_type": "code",
   "execution_count": null,
   "id": "9d5c1f46",
   "metadata": {},
   "outputs": [],
   "source": [
    "- we can create table with partitions and distinct and then ask only specific files\n",
    "\n",
    "\n",
    "- does your pipiline need ability to handle streaming data\n",
    "- what kind of data volumn do you anticipate\n",
    "- how much and what sort of processing is needed\n",
    "- are planning to construct the pipiline using microservices\n",
    "- is there particular technology in which yuoujr team already proficient developing and maintaining"
   ]
  }
 ],
 "metadata": {
  "kernelspec": {
   "display_name": "Python 3 (ipykernel)",
   "language": "python",
   "name": "python3"
  },
  "language_info": {
   "codemirror_mode": {
    "name": "ipython",
    "version": 3
   },
   "file_extension": ".py",
   "mimetype": "text/x-python",
   "name": "python",
   "nbconvert_exporter": "python",
   "pygments_lexer": "ipython3",
   "version": "3.7.10"
  }
 },
 "nbformat": 4,
 "nbformat_minor": 5
}
