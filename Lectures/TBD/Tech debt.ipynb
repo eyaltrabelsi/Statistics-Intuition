{
 "cells": [
  {
   "cell_type": "markdown",
   "id": "3353335b",
   "metadata": {},
   "source": [
    "definition: misaligment of what is easy to do with your code base and data structures vs what you need them to do for your product to be more succesull"
   ]
  },
  {
   "cell_type": "markdown",
   "id": "65065eb0",
   "metadata": {},
   "source": [
    "- https://dondo.org/2021/02/22/on-technical-debt/\n",
    "- https://www.infoq.com/articles/managing-technical-debt-microservices/\n",
    "- https://www.infoq.com/articles/reduce-technical-debt/\n",
    "- https://kislayverma.com/programming/uncertainty-and-learning-as-tech-debt/\n",
    "- https://www.youtube.com/watch?v=SdUewLCHWvU&ab_channel=GOTOConferences\n",
    "- https://www.youtube.com/watch?v=FnmYGqZAAuI&ab_channel=GOTOConferences\n",
    "- https://www.youtube.com/watch?v=fl4aZ2KXBsQ&ab_channel=GOTOConferences\n",
    "- https://increment.com/planning/reframing-tech-debt/\n",
    "- https://marker.medium.com/why-you-should-learn-to-stop-worrying-and-love-technical-debt-55bb5684f94c    \n",
    "- https://medium.com/@akis.tsiotsios/managing-the-data-science-debt-8699f9e1ce33\n",
    "- https://www.reforge.com/blog/managing-tech-debt\n",
    "\n",
    "\t- https://dondo.org/2021/02/22/on-technical-debt/\n",
    "\t- https://www.infoq.com/articles/managing-technical-debt-microservices/\n",
    "\t- https://www.infoq.com/articles/reduce-technical-debt/\n",
    "\t- https://kislayverma.com/programming/uncertainty-and-learning-as-tech-debt/\n",
    "\t- https://www.youtube.com/watch?v=SdUewLCHWvU&ab_channel=GOTOConferences\n",
    "\t- https://www.youtube.com/watch?v=FnmYGqZAAuI&ab_channel=GOTOConferences\n",
    "\t- https://www.youtube.com/watch?v=fl4aZ2KXBsQ&ab_channel=GOTOConferences\n",
    "\t- https://increment.com/planning/reframing-tech-debt/\n",
    "\t- https://marker.medium.com/why-you-should-learn-to-stop-worrying-and-love-technical-debt-55bb5684f94c    \n",
    "\t- https://medium.com/@akis.tsiotsios/managing-the-data-science-debt-8699f9e1ce33\n",
    "\t- https://www.reforge.com/blog/managing-tech-debt\n",
    "\t- https://adlrocha.substack.com/p/adlrocha-the-risks-of-technical-debt?s=r\n",
    "    - https://www.infoq.com/podcasts/managing-tech-debt/\n",
    "    - https://technology.riotgames.com/news/taxonomy-tech-debt\n",
    "    - https://www.youtube.com/watch?v=7Mf4jNux4T8\n",
    "-   https://www.linkedin.com/pulse/technical-debt-sink-you-lee-atchison/"
   ]
  },
  {
   "cell_type": "code",
   "execution_count": null,
   "id": "04b112e1",
   "metadata": {},
   "outputs": [],
   "source": []
  }
 ],
 "metadata": {
  "kernelspec": {
   "display_name": "Python 3 (ipykernel)",
   "language": "python",
   "name": "python3"
  },
  "language_info": {
   "codemirror_mode": {
    "name": "ipython",
    "version": 3
   },
   "file_extension": ".py",
   "mimetype": "text/x-python",
   "name": "python",
   "nbconvert_exporter": "python",
   "pygments_lexer": "ipython3",
   "version": "3.7.10"
  }
 },
 "nbformat": 4,
 "nbformat_minor": 5
}
