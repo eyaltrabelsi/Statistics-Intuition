{
 "cells": [
  {
   "cell_type": "markdown",
   "id": "f2c8e1c6",
   "metadata": {},
   "source": [
    "- https://www.youtube.com/watch?v=q4A76i6TOCc&list=WL&index=32\n",
    "- https://www.youtube.com/watch?v=FipRjQRaCz8&list=WL&index=33\n",
    "- https://www.youtube.com/watch?v=q4A76i6TOCc&list=WL&index=33\n",
    "- https://medium.com/heuritech/learning-deep-neural-networks-incrementally-3e005e4fb4bc\n",
    "- https://medium.com/analytics-vidhya/https-medium-com-dannybutvinik-online-machine-learning-842b1e999880\n",
    "- https://www.youtube.com/watch?v=1gGrb7Vpe80&list=WL&index=25"
   ]
  },
  {
   "cell_type": "code",
   "execution_count": null,
   "id": "6eb28ed7",
   "metadata": {},
   "outputs": [],
   "source": []
  }
 ],
 "metadata": {
  "kernelspec": {
   "display_name": "Python 3 (ipykernel)",
   "language": "python",
   "name": "python3"
  },
  "language_info": {
   "codemirror_mode": {
    "name": "ipython",
    "version": 3
   },
   "file_extension": ".py",
   "mimetype": "text/x-python",
   "name": "python",
   "nbconvert_exporter": "python",
   "pygments_lexer": "ipython3",
   "version": "3.7.10"
  }
 },
 "nbformat": 4,
 "nbformat_minor": 5
}
