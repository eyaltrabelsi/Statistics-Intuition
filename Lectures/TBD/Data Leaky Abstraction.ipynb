{
 "cells": [
  {
   "cell_type": "markdown",
   "id": "59b8a340",
   "metadata": {},
   "source": [
    "- http://ai.stanford.edu/~zayd/why-is-machine-learning-hard.html\n",
    "- https://www.joelonsoftware.com/2002/11/11/the-law-of-leaky-abstractions/\n",
    "- https://www.youtube.com/watch?v=x9pxbnFC4aQ&list=WL&index=4&ab_channel=Metosin\\\n",
    "- https://rumproarious.com/2019/12/16/good-api-design/\n",
    "- https://jacobbuckman.com/2022-04-19-bad-ml-abstractions-i-generative-vs-discriminative-models/\n",
    "- https://jacobbuckman.com/2022-02-21-abstraction-enables-thought/\n",
    "\n"
   ]
  },
  {
   "cell_type": "code",
   "execution_count": null,
   "id": "4f62fd9a",
   "metadata": {},
   "outputs": [],
   "source": [
    "abstraction maps the internal model into external semantics\n",
    "invariants constrains the interrnal models\n",
    "\n",
    "\n",
    "not only code rots abstraction rot too its okay to occasionaly favor code duplication and avoid non meaningful abstraction\n",
    "when an abstraction rots stop do a reverse and return to code duplications"
   ]
  }
 ],
 "metadata": {
  "kernelspec": {
   "display_name": "Python 3 (ipykernel)",
   "language": "python",
   "name": "python3"
  },
  "language_info": {
   "codemirror_mode": {
    "name": "ipython",
    "version": 3
   },
   "file_extension": ".py",
   "mimetype": "text/x-python",
   "name": "python",
   "nbconvert_exporter": "python",
   "pygments_lexer": "ipython3",
   "version": "3.7.10"
  }
 },
 "nbformat": 4,
 "nbformat_minor": 5
}
