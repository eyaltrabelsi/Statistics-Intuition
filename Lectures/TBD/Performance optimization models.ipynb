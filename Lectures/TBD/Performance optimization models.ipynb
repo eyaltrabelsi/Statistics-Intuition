{
 "cells": [
  {
   "cell_type": "code",
   "execution_count": null,
   "id": "932eaca2",
   "metadata": {},
   "outputs": [],
   "source": [
    "https://medium.com/@augustinechang/computational-complexity-theory-in-ml-modeling-66b5a5fa610f\n",
    "https://kasperfred.com/posts/just-how-fast-is-your-algorithm\n",
    "https://kasperfred.com/series/introduction-to-neural-networks/computational-complexity-of-neural-networks\n",
    "https://medium.com/analytics-vidhya/time-complexity-of-ml-models-4ec39fad2770\n",
    "https://stackoverflow.com/questions/53843459/neural-networks-and-big-o"
   ]
  }
 ],
 "metadata": {
  "kernelspec": {
   "display_name": "Python 3 (ipykernel)",
   "language": "python",
   "name": "python3"
  },
  "language_info": {
   "codemirror_mode": {
    "name": "ipython",
    "version": 3
   },
   "file_extension": ".py",
   "mimetype": "text/x-python",
   "name": "python",
   "nbconvert_exporter": "python",
   "pygments_lexer": "ipython3",
   "version": "3.7.10"
  }
 },
 "nbformat": 4,
 "nbformat_minor": 5
}
