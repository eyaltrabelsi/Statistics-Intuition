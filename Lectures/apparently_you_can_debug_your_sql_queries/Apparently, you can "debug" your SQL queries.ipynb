{
 "cells": [
  {
   "cell_type": "markdown",
   "metadata": {},
   "source": [
    "# Apparently, you can \"debug\" your SQL queries"
   ]
  },
  {
   "cell_type": "markdown",
   "metadata": {
    "slideshow": {
     "slide_type": "notes"
    }
   },
   "source": [
    "- Hi everyone \n",
    "- as you all know SQL is everywhere in today's data-driven world. \n",
    "- From extracting niche information to analyzing a company's finances\n",
    "- Today, we are here to explore a fascinating aspect of SQL queries that you may not have been aware of:\n",
    "- the ability to actually 'debug' them.\n",
    "- In this session, we will delve into this world\n"
   ]
  },
  {
   "cell_type": "markdown",
   "metadata": {
    "slideshow": {
     "slide_type": "slide"
    }
   },
   "source": [
    "``` postgresql\n",
    "FROM users\n",
    "SELECT subject, \n",
    "       COUNT(*)  \n",
    "GROUP BY 1\n",
    "WHERE twitter = 'donaldtrump';\n",
    "```"
   ]
  },
  {
   "cell_type": "markdown",
   "metadata": {
    "slideshow": {
     "slide_type": "notes"
    }
   },
   "source": [
    "\n",
    "- like any other code, SQL queries are prone to bugs. \n",
    "- While fixing syntax errors like that might seem trivial.\n",
    "- identifying and resolving other issues in queries can be quite challenging.\n",
    "- as things aren't always what they seem."
   ]
  },
  {
   "cell_type": "markdown",
   "metadata": {
    "slideshow": {
     "slide_type": "subslide"
    }
   },
   "source": [
    "<img src=\"https://s.yimg.com/ny/api/res/1.2/qxkYjAVGiKW5FCEAn4LDpQ--/YXBwaWQ9aGlnaGxhbmRlcjt3PTEyMDA7aD05NzE-/https://media.zenfs.com/en/homerun/feed_manager_auto_publish_494/569b1e56005ffe081dc7af020417caa6\" width=\"400\" height=\"600\">"
   ]
  },
  {
   "cell_type": "markdown",
   "metadata": {
    "slideshow": {
     "slide_type": "notes"
    }
   },
   "source": [
    "- Silent errors lurking beneath the surface, waiting to catch us off guard. \n",
    "- these silent errors can be particularly elusive when they go undetected until the later stages of the data pipeline.\n",
    "- making it challenging to spot discrepancies in the dashboard or at the end of the funnel"
   ]
  },
  {
   "cell_type": "markdown",
   "metadata": {
    "slideshow": {
     "slide_type": "subslide"
    }
   },
   "source": [
    "<img src=\"https://platform.sh/static/observability-suite-from-deployment-to-production-1eab3eddd9f751e47035d24b08e4410a.png\" width=\"400\" height=\"600\">"
   ]
  },
  {
   "cell_type": "markdown",
   "metadata": {
    "slideshow": {
     "slide_type": "notes"
    }
   },
   "source": [
    "- In the realm of regular software development, bugs can be uncovered through various means \n",
    "- such as debugging, testing, monitoring, and even user feedback\n",
    "- However, in this talk, our primary focus will be on the art of debugging SQL queries.\n",
    "- while acknowledging the significant relevance of monitoring using similar techniques"
   ]
  },
  {
   "cell_type": "markdown",
   "metadata": {
    "slideshow": {
     "slide_type": "subslide"
    }
   },
   "source": [
    "- Missing records.\n",
    "- Too many records.\n",
    "- Duplications. \n",
    "- Nulls."
   ]
  },
  {
   "cell_type": "markdown",
   "metadata": {
    "slideshow": {
     "slide_type": "notes"
    }
   },
   "source": [
    "- there are many kinds of issues Missing records, Too many records, Duplications, Nulls, and so on"
   ]
  },
  {
   "cell_type": "markdown",
   "metadata": {
    "slideshow": {
     "slide_type": "subslide"
    }
   },
   "source": [
    "<img src=\"The-5-Basic-SQL-Queries-Explained-with-Examples-Blog.jpg\" width=\"400\" height=\"600\">"
   ]
  },
  {
   "cell_type": "markdown",
   "metadata": {
    "slideshow": {
     "slide_type": "notes"
    }
   },
   "source": [
    "- In an ideal scenario, it would be great to have built-in functionality for debugging SQL queries. . \n",
    "- While there are theoretical databases that offer similar functionality by materializing sub-expressions\n",
    "- most commonly used databases avoid it due to concerns about performance, overwhelming output and, complexity. \n",
    "- So, before revealing an alternative approach let me tell you about myself"
   ]
  },
  {
   "cell_type": "markdown",
   "metadata": {
    "slideshow": {
     "slide_type": "slide"
    }
   },
   "source": [
    "# About Me 🙈"
   ]
  },
  {
   "cell_type": "markdown",
   "metadata": {},
   "source": [
    " "
   ]
  },
  {
   "cell_type": "markdown",
   "metadata": {
    "slideshow": {
     "slide_type": "-"
    }
   },
   "source": [
    "- Architect at bigabid 👷.\n",
    "- Big passion for python, big data, databases and machine learning 🐍🤖.\n",
    "- Online at [medium](https://medium.com/@Eyaltra) | [website](https://eyaltrabelsi.github.io/) 🌐"
   ]
  },
  {
   "cell_type": "markdown",
   "metadata": {
    "slideshow": {
     "slide_type": "subslide"
    }
   },
   "source": [
    " # Identify flaws in queries is tough🩺\n"
   ]
  },
  {
   "cell_type": "markdown",
   "metadata": {
    "slideshow": {
     "slide_type": "-"
    }
   },
   "source": [
    " "
   ]
  },
  {
   "cell_type": "markdown",
   "metadata": {
    "slideshow": {
     "slide_type": "fragment"
    }
   },
   "source": [
    "- Require skills and experience.\n",
    "- Databases dont provide debuggers.\n"
   ]
  },
  {
   "cell_type": "markdown",
   "metadata": {
    "slideshow": {
     "slide_type": "notes"
    }
   },
   "source": [
    "\n",
    "- Its require skill to write sql queries without error.\n",
    "- Databases dont provide debuggers.\n",
    "-  in a complex black box systems like neural networks or databases\n",
    "- its hard to create tooling that wont overwhelme you with information"
   ]
  },
  {
   "cell_type": "markdown",
   "metadata": {
    "slideshow": {
     "slide_type": "fragment"
    }
   },
   "source": [
    "- Databases do provide execution plans."
   ]
  },
  {
   "cell_type": "markdown",
   "metadata": {
    "slideshow": {
     "slide_type": "notes"
    }
   },
   "source": [
    "- so how it work behind the scenes"
   ]
  },
  {
   "cell_type": "markdown",
   "metadata": {
    "slideshow": {
     "slide_type": "subslide"
    }
   },
   "source": [
    "# Query Execution Flow 🪜\n",
    "\n"
   ]
  },
  {
   "cell_type": "markdown",
   "metadata": {
    "slideshow": {
     "slide_type": "-"
    }
   },
   "source": [
    " "
   ]
  },
  {
   "cell_type": "markdown",
   "metadata": {
    "slideshow": {
     "slide_type": "-"
    }
   },
   "source": [
    "\n",
    "<img src=\"execution_flow.png\" width=\"400\" height=\"600\">\n"
   ]
  },
  {
   "cell_type": "markdown",
   "metadata": {
    "slideshow": {
     "slide_type": "notes"
    }
   },
   "source": [
    "\n",
    "- SQL query execution involves several essential steps. The journey from parsing to execution includes: \n",
    "- parsing include structuring and some basic validation\n",
    "- analysis include semantic validation\n",
    "- rewriting include optimization on the tree by modifing it\n",
    "- planning  include execution strategy selection that hold valuble information,\n",
    "- and execution  include result generation that hold additional valuble information. \n"
   ]
  },
  {
   "cell_type": "markdown",
   "metadata": {
    "slideshow": {
     "slide_type": "slide"
    }
   },
   "source": [
    "# Buzzword alert !! 🐝"
   ]
  },
  {
   "cell_type": "markdown",
   "metadata": {
    "slideshow": {
     "slide_type": "notes"
    }
   },
   "source": [
    "- using the execution plan information from above will allow us to \n",
    "-  debug those systems is through tracing\n",
    "- it will allow us to understand the behavior of the database\n",
    "- we can use the execution plan to identify bottlenecks, and bugs.\n"
   ]
  },
  {
   "cell_type": "markdown",
   "metadata": {
    "slideshow": {
     "slide_type": "fragment"
    }
   },
   "source": [
    "#        Democratization of execution plans  🗳️ "
   ]
  },
  {
   "cell_type": "markdown",
   "metadata": {
    "slideshow": {
     "slide_type": "notes"
    }
   },
   "source": [
    "- so lets democratized execution plans\n"
   ]
  },
  {
   "cell_type": "markdown",
   "metadata": {
    "slideshow": {
     "slide_type": "slide"
    }
   },
   "source": [
    "# Let's explain Explain 📜\n"
   ]
  },
  {
   "cell_type": "markdown",
   "metadata": {},
   "source": [
    " "
   ]
  },
  {
   "cell_type": "markdown",
   "metadata": {
    "slideshow": {
     "slide_type": "skip"
    }
   },
   "source": [
    "\n",
    "- **explain**: show what the planner planned to do.\n",
    "- **explain analyze**: what the planner did (**executes the query**)\n",
    "\n"
   ]
  },
  {
   "cell_type": "markdown",
   "metadata": {
    "slideshow": {
     "slide_type": "fragment"
    }
   },
   "source": [
    "``` mysql\n",
    "EXPLAIN [ ( option [, ...] ) ] statement\n",
    "```\n",
    "``` sql\n",
    "- ANALYZE [ boolean ]\n",
    "- VERBOSE [ boolean ]\n",
    "- COSTS [ boolean ]\n",
    "- SETTINGS [ boolean ]\n",
    "- BUFFERS [ boolean ]\n",
    "- WAL [ boolean ]\n",
    "- TIMING [ boolean ]\n",
    "- SUMMARY [ boolean ]\n",
    "- FORMAT { TEXT | XML | JSON | YAML }\n",
    "\n",
    "```\n",
    "\n"
   ]
  },
  {
   "cell_type": "markdown",
   "metadata": {},
   "source": [
    " "
   ]
  },
  {
   "cell_type": "markdown",
   "metadata": {
    "slideshow": {
     "slide_type": "notes"
    }
   },
   "source": [
    "- This is example of execution plan in postgresql \n",
    "- but execution plans in different databases are quite similar\n",
    "- You got the term explain followed by additional options/configurations and than a query statement\n",
    "- ANALYZE: Specifies whether to collect actual runtime statistics during the query execution.\n",
    "- FORMAT: Specifies the output format for the execution plan (TEXT, XML, JSON, or YAML).\n",
    "- VERBOSE, COST, SETTINGS, AND THE REST : provides additional informations and statistics\n"
   ]
  },
  {
   "cell_type": "markdown",
   "metadata": {
    "slideshow": {
     "slide_type": "subslide"
    }
   },
   "source": [
    " **Pro Tip**💃: go over an execution plan at least once; similar across databases.\n"
   ]
  },
  {
   "cell_type": "markdown",
   "metadata": {
    "slideshow": {
     "slide_type": "skip"
    }
   },
   "source": [
    "- **Pro Tip**💃: prefer EXPLAIN ANALYZE as it holds more information.\n"
   ]
  },
  {
   "cell_type": "markdown",
   "metadata": {
    "slideshow": {
     "slide_type": "subslide"
    }
   },
   "source": [
    "# Explain Anatomy🫀"
   ]
  },
  {
   "cell_type": "markdown",
   "metadata": {
    "slideshow": {
     "slide_type": "fragment"
    }
   },
   "source": [
    "``` postgresql\n",
    "EXPLAIN ANALYZE\n",
    "SELECT COUNT(*) FROM users WHERE twitter != '';\n",
    "```\n",
    "![](basic_execution_plan.png)\n"
   ]
  },
  {
   "cell_type": "markdown",
   "metadata": {
    "slideshow": {
     "slide_type": "fragment"
    }
   },
   "source": [
    "- Look crypted at first :( . \n",
    "- It's longer than our query :(( .\n",
    "- Real-world execution plans are overwhelming:(( . "
   ]
  },
  {
   "cell_type": "markdown",
   "metadata": {
    "slideshow": {
     "slide_type": "subslide"
    }
   },
   "source": [
    "![](basic_execution_plan_high_level_stats.png)"
   ]
  },
  {
   "cell_type": "markdown",
   "metadata": {
    "slideshow": {
     "slide_type": "fragment"
    }
   },
   "source": [
    "- Query execution took 1.27 seconds.\n",
    "- Query planning took 0.4 millis."
   ]
  },
  {
   "cell_type": "markdown",
   "metadata": {
    "slideshow": {
     "slide_type": "subslide"
    }
   },
   "source": [
    "![](node_details_execution_plan.png)\n"
   ]
  },
  {
   "cell_type": "markdown",
   "metadata": {
    "slideshow": {
     "slide_type": "fragment"
    }
   },
   "source": [
    "- Structured as inverse tree.\n",
    "- Many operations: \n",
    "      - 'Seq Scan', 'Values Scan', 'Sample Scan', 'Function Scan', 'CTEScan', 'Index Scan', 'Bitmap Heap Scan',\n",
    "        'Bitmap Index Scan', 'Index Only Scan','Subquery Scan', \n",
    "      - 'Hash Join','Hash','Nested Loop', 'Merge Join', \n",
    "      - GroupAggregate','Aggregate', 'HashAggregate', 'WindowAgg',\n",
    "      - 'Gather', 'Gather Merge','Unique','Result', 'SetOp', ' 'Limit', 'Sort', 'materialize', \n",
    "        'LockRows', 'Append', 'Merge Append' etc."
   ]
  },
  {
   "cell_type": "markdown",
   "metadata": {},
   "source": [
    " "
   ]
  },
  {
   "cell_type": "markdown",
   "metadata": {
    "slideshow": {
     "slide_type": "subslide"
    }
   },
   "source": [
    " **Pro Tip**💃: Cheat on your homework."
   ]
  },
  {
   "cell_type": "markdown",
   "metadata": {
    "slideshow": {
     "slide_type": "subslide"
    }
   },
   "source": [
    "![](node_metrics_execution_plan.png)\n"
   ]
  },
  {
   "cell_type": "markdown",
   "metadata": {
    "slideshow": {
     "slide_type": "fragment"
    }
   },
   "source": [
    "- **Plan Rows**: the estimated number of produced rows of Aggregate node is 1.\n",
    "- **Actual Rows**: the actual number of produced rows of Aggregate node is 1 (per-loop average).\n",
    "- **Plan Width**: the estimated average size of rows of Aggregate node is 8 bytes."
   ]
  },
  {
   "cell_type": "markdown",
   "metadata": {
    "slideshow": {
     "slide_type": "subslide"
    }
   },
   "source": [
    "![](node_metrics_execution_plan.png)\n"
   ]
  },
  {
   "cell_type": "markdown",
   "metadata": {
    "slideshow": {
     "slide_type": "fragment"
    }
   },
   "source": [
    "- **Startup Cost**: arbirary units that represent estimated time to return the first row of Aggregate is 845110 (total).\n",
    "- **Total Cost**: arbirary units that represent estimated time to return all the rows  of Aggregate is 845110 (total). \n",
    "- **Actual Startup Time**: time to return the first row in ms  of Aggregate is 1271.157 (total). \n",
    "- **Actual Total Time**:  time to return all the rows in ms of Aggregate is 1271.158 (per-loop average and total).\n"
   ]
  },
  {
   "cell_type": "markdown",
   "metadata": {
    "slideshow": {
     "slide_type": "subslide"
    }
   },
   "source": [
    "![](node_metrics_execution_plan.png)\n",
    "\n",
    "\n",
    " "
   ]
  },
  {
   "cell_type": "markdown",
   "metadata": {
    "slideshow": {
     "slide_type": "fragment"
    }
   },
   "source": [
    "- **Actual Loops**: the number of loops the same node was executed is 1.\n",
    "- To make the numbers comparable with the way the cost estimates are shown.\n",
    "- To get the total time and rows, the actual time and rows need to be multiplied by loops values."
   ]
  },
  {
   "cell_type": "markdown",
   "metadata": {},
   "source": [
    " "
   ]
  },
  {
   "cell_type": "markdown",
   "metadata": {
    "slideshow": {
     "slide_type": "subslide"
    }
   },
   "source": [
    "- **Pro Tip**💃: every database has its wild card."
   ]
  },
  {
   "cell_type": "markdown",
   "metadata": {
    "slideshow": {
     "slide_type": "subslide"
    }
   },
   "source": [
    "![](basic_execution_plan_high_level_stats.png)"
   ]
  },
  {
   "cell_type": "markdown",
   "metadata": {
    "slideshow": {
     "slide_type": "subslide"
    }
   },
   "source": [
    "<img src=\"https://i0.wp.com/bdtechtalks.com/wp-content/uploads/2023/01/google-search-openai-chatgpt.jpg?ssl=1\" width=\"400\" height=\"600\">\n"
   ]
  },
  {
   "cell_type": "markdown",
   "metadata": {
    "slideshow": {
     "slide_type": "notes"
    }
   },
   "source": [
    "- If you need further assistance in understanding execution plans\n",
    "- you can always rely on resources like ChatGPT or Google. \n",
    "- These platforms can provide explanations for each component of the execution plan\n",
    "- Moreover, once you identify any issues within the plan\n",
    "- you can leverage these resources to find appropriate solutions"
   ]
  },
  {
   "cell_type": "markdown",
   "metadata": {
    "slideshow": {
     "slide_type": "skip"
    }
   },
   "source": [
    "# Why shouldn't I always use explain analyze? 😵‍💫\n"
   ]
  },
  {
   "cell_type": "markdown",
   "metadata": {
    "slideshow": {
     "slide_type": "skip"
    }
   },
   "source": [
    " "
   ]
  },
  {
   "cell_type": "markdown",
   "metadata": {
    "slideshow": {
     "slide_type": "skip"
    }
   },
   "source": [
    "- Destructive operations.\n",
    "- When resources are scarce:\n",
    "    - The query never finishes.\n",
    "    - Monitoring production.\n",
    "- When checking query compilation."
   ]
  },
  {
   "cell_type": "markdown",
   "metadata": {
    "slideshow": {
     "slide_type": "skip"
    }
   },
   "source": [
    "- use transactions in case of destructive operations so that you can ROLLBACk the changes."
   ]
  },
  {
   "cell_type": "markdown",
   "metadata": {
    "slideshow": {
     "slide_type": "slide"
    }
   },
   "source": [
    "# Example: Empty Results🐛"
   ]
  },
  {
   "cell_type": "markdown",
   "metadata": {},
   "source": [
    " "
   ]
  },
  {
   "cell_type": "markdown",
   "metadata": {
    "slideshow": {
     "slide_type": "fragment"
    }
   },
   "source": [
    "``` postgresql\n",
    "EXPLAIN ANALYZE\n",
    "SELECT COUNT(*) FROM users WHERE twitter = 'd0n@ldtrump';\n",
    "```\n",
    "![](empty_execution_plan_broken.png)"
   ]
  },
  {
   "cell_type": "markdown",
   "metadata": {},
   "source": [
    " "
   ]
  },
  {
   "cell_type": "markdown",
   "metadata": {
    "slideshow": {
     "slide_type": "fragment"
    }
   },
   "source": [
    "- We perform a [sequential scan](https://www.pgmustard.com/docs/explain/sequential-scan) on the users table.\n",
    "- The scan filters out all rows using a Filter.\n",
    "- in the first operation.\n",
    "- so we dropped all the events at the donaldtrump predicate"
   ]
  },
  {
   "cell_type": "markdown",
   "metadata": {
    "slideshow": {
     "slide_type": "subslide"
    }
   },
   "source": [
    "![](twitter.png)"
   ]
  },
  {
   "cell_type": "markdown",
   "metadata": {
    "slideshow": {
     "slide_type": "subslide"
    }
   },
   "source": [
    "``` postgresql\n",
    "EXPLAIN ANALYZE\n",
    "SELECT COUNT(*) FROM users WHERE twitter = 'donaldtrump';\n",
    "```\n",
    "![](empty_execution_plan_fixed.png)\n"
   ]
  },
  {
   "cell_type": "markdown",
   "metadata": {
    "slideshow": {
     "slide_type": "fragment"
    }
   },
   "source": [
    "- **Pro Tip**💃: in case we know a problem exists it is a productivity tool."
   ]
  },
  {
   "cell_type": "markdown",
   "metadata": {
    "slideshow": {
     "slide_type": "fragment"
    }
   },
   "source": [
    "- **Pro Tip**💃: in case we don't know a problem exists it may protect us."
   ]
  },
  {
   "cell_type": "markdown",
   "metadata": {
    "slideshow": {
     "slide_type": "subslide"
    }
   },
   "source": [
    "![](long_json.gif)"
   ]
  },
  {
   "cell_type": "markdown",
   "metadata": {
    "slideshow": {
     "slide_type": "notes"
    }
   },
   "source": [
    "- but for complex queries it can be overwhelming"
   ]
  },
  {
   "cell_type": "markdown",
   "metadata": {
    "slideshow": {
     "slide_type": "slide"
    }
   },
   "source": [
    "# Aren't there easier ways?!🙏\n"
   ]
  },
  {
   "cell_type": "markdown",
   "metadata": {},
   "source": [
    " "
   ]
  },
  {
   "cell_type": "markdown",
   "metadata": {
    "slideshow": {
     "slide_type": "fragment"
    }
   },
   "source": [
    "- UI is nice."
   ]
  },
  {
   "cell_type": "markdown",
   "metadata": {
    "slideshow": {
     "slide_type": "fragment"
    }
   },
   "source": [
    "- Hints why/where a particular issue orinated.\n"
   ]
  },
  {
   "cell_type": "markdown",
   "metadata": {
    "slideshow": {
     "slide_type": "fragment"
    }
   },
   "source": [
    "- Hints how how rewrite your queries. "
   ]
  },
  {
   "cell_type": "markdown",
   "metadata": {
    "slideshow": {
     "slide_type": "notes"
    }
   },
   "source": [
    "- chatgpt / google"
   ]
  },
  {
   "cell_type": "markdown",
   "metadata": {
    "slideshow": {
     "slide_type": "fragment"
    }
   },
   "source": [
    "- Saving traces for rainy day"
   ]
  },
  {
   "cell_type": "markdown",
   "metadata": {},
   "source": [
    " "
   ]
  },
  {
   "cell_type": "markdown",
   "metadata": {
    "slideshow": {
     "slide_type": "notes"
    }
   },
   "source": [
    "- Data is live, so in cases an error is rare you should be able to save execution plans\n",
    "- So this debugging functionality can help you even in monitoring important queries. "
   ]
  },
  {
   "cell_type": "markdown",
   "metadata": {
    "slideshow": {
     "slide_type": "notes"
    }
   },
   "source": [
    "- unfortunatly Most tools focus on performance we got [eversql](https://www.eversql.com/), metis and more\n",
    "- I believe that correctness is even more important [QueryFlow](https://github.com/eyaltrabelsi/query-flow)"
   ]
  },
  {
   "cell_type": "markdown",
   "metadata": {
    "slideshow": {
     "slide_type": "subslide"
    }
   },
   "source": [
    "## [QueryFlow](https://github.com/eyaltrabelsi/query-flow)"
   ]
  },
  {
   "cell_type": "markdown",
   "metadata": {},
   "source": [
    "<!-- <img src='duration.png'> -->"
   ]
  },
  {
   "cell_type": "markdown",
   "metadata": {
    "slideshow": {
     "slide_type": "subslide"
    }
   },
   "source": [
    "``` postgresql\n",
    "\n",
    "SELECT  title_id\n",
    "FROM titles\n",
    "INNER JOIN crew ON crew.title_id = titles.title_id\n",
    "INNER JOIN people ON people.person_id = crew.person_id\n",
    "WHERE crew.name = 'Rowan Atkinson'\n",
    "```"
   ]
  },
  {
   "cell_type": "markdown",
   "metadata": {
    "slideshow": {
     "slide_type": "fragment"
    }
   },
   "source": [
    "<img src=\"image30.png\" width=\"900\" height=\"600\">\n"
   ]
  },
  {
   "cell_type": "markdown",
   "metadata": {
    "slideshow": {
     "slide_type": "subslide"
    }
   },
   "source": [
    "``` postgresql\n",
    "\n",
    "SELECT *\n",
    "FROM titles\n",
    "INNER JOIN generes \n",
    "ON generes.name like '%' || titles.genere_name || '%'\n",
    "WHERE generes.safe_for_kids\n",
    "```"
   ]
  },
  {
   "cell_type": "markdown",
   "metadata": {
    "slideshow": {
     "slide_type": "fragment"
    }
   },
   "source": [
    "<img src=\"image36.png\" width=\"900\" height=\"600\">\n"
   ]
  },
  {
   "cell_type": "markdown",
   "metadata": {
    "slideshow": {
     "slide_type": "subslide"
    }
   },
   "source": [
    "    + Support multiple metrics/queries/engines.\n",
    "    + Operations can be linkable with examples.\n",
    "    + UI indicates the proportions of metrics and problematic operations."
   ]
  },
  {
   "cell_type": "markdown",
   "metadata": {
    "slideshow": {
     "slide_type": "notes"
    }
   },
   "source": [
    "    - Not mature\n",
    "    - Very opinionated."
   ]
  },
  {
   "cell_type": "markdown",
   "metadata": {
    "slideshow": {
     "slide_type": "slide"
    }
   },
   "source": [
    "# Optimistic Future🔮\n",
    "\n"
   ]
  },
  {
   "cell_type": "markdown",
   "metadata": {
    "slideshow": {
     "slide_type": "notes"
    }
   },
   "source": [
    "- lets face it queryflow is still not mature, so dont use it\n",
    "- but making queryflow, or newer tool doesnt have to be that hard"
   ]
  },
  {
   "cell_type": "markdown",
   "metadata": {},
   "source": [
    " "
   ]
  },
  {
   "cell_type": "markdown",
   "metadata": {
    "slideshow": {
     "slide_type": "fragment"
    }
   },
   "source": [
    "- Easy and intuitive.\n",
    "- Integrated in IDEs\n",
    "- Proactive"
   ]
  },
  {
   "cell_type": "markdown",
   "metadata": {},
   "source": [
    " "
   ]
  },
  {
   "cell_type": "markdown",
   "metadata": {
    "slideshow": {
     "slide_type": "notes"
    }
   },
   "source": [
    "Tools that will be intuitive, well integrated and proactive will bring a lot of value\n",
    "and gain infinite karpa points"
   ]
  },
  {
   "cell_type": "markdown",
   "metadata": {
    "slideshow": {
     "slide_type": "slide"
    }
   },
   "source": [
    "![](https://i.pinimg.com/originals/b9/0a/79/b90a79b4c361d079144597d0bcdd61de.jpg)"
   ]
  }
 ],
 "metadata": {
  "celltoolbar": "Slideshow",
  "kernelspec": {
   "display_name": "Python 3",
   "language": "python",
   "name": "python3"
  },
  "language_info": {
   "codemirror_mode": {
    "name": "ipython",
    "version": 3
   },
   "file_extension": ".py",
   "mimetype": "text/x-python",
   "name": "python",
   "nbconvert_exporter": "python",
   "pygments_lexer": "ipython3",
   "version": "3.7.10"
  }
 },
 "nbformat": 4,
 "nbformat_minor": 4
}
