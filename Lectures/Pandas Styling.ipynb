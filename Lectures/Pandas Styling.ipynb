{
 "cells": [
  {
   "cell_type": "markdown",
   "metadata": {
    "slideshow": {
     "slide_type": "slide"
    }
   },
   "source": [
    "## What Do We Need From Slides 📑"
   ]
  },
  {
   "cell_type": "markdown",
   "metadata": {
    "slideshow": {
     "slide_type": "fragment"
    }
   },
   "source": [
    "- Easy to create."
   ]
  },
  {
   "cell_type": "markdown",
   "metadata": {
    "slideshow": {
     "slide_type": "fragment"
    }
   },
   "source": [
    "- Easy to share."
   ]
  },
  {
   "cell_type": "code",
   "execution_count": 6,
   "metadata": {
    "slideshow": {
     "slide_type": "skip"
    }
   },
   "outputs": [],
   "source": [
    "import pandas as pd\n",
    "import numpy as np\n",
    "import janitor\n",
    "import pandas_flavor as pf\n",
    "import janitor\n",
    "\n",
    "def load_data():\n",
    "    return pd.read_csv('https://github.com/Kokkalo4/Kaggle-SF-Salaries/raw/master/Salaries.csv')\\\n",
    "             .replace('Not Provided', np.nan)\\\n",
    "             .astype({\"BasePay\":float, \"OtherPay\":float}) \\\n",
    "             .select_columns([\"Id\", \"EmployeeName\", \"JobTitle\", \"BasePay\", \"OtherPay\", \"TotalPay\",\"Year\",\"Agency\"])\\\n",
    "             .head(10) "
   ]
  },
  {
   "cell_type": "markdown",
   "metadata": {
    "slideshow": {
     "slide_type": "slide"
    }
   },
   "source": [
    "## Our Data 📉"
   ]
  },
  {
   "cell_type": "code",
   "execution_count": 16,
   "metadata": {
    "slideshow": {
     "slide_type": "fragment"
    }
   },
   "outputs": [
    {
     "data": {
      "text/html": [
       "<div>\n",
       "<style scoped>\n",
       "    .dataframe tbody tr th:only-of-type {\n",
       "        vertical-align: middle;\n",
       "    }\n",
       "\n",
       "    .dataframe tbody tr th {\n",
       "        vertical-align: top;\n",
       "    }\n",
       "\n",
       "    .dataframe thead th {\n",
       "        text-align: right;\n",
       "    }\n",
       "</style>\n",
       "<table border=\"1\" class=\"dataframe\">\n",
       "  <thead>\n",
       "    <tr style=\"text-align: right;\">\n",
       "      <th></th>\n",
       "      <th>Id</th>\n",
       "      <th>EmployeeName</th>\n",
       "      <th>JobTitle</th>\n",
       "      <th>BasePay</th>\n",
       "      <th>OtherPay</th>\n",
       "      <th>TotalPay</th>\n",
       "      <th>Year</th>\n",
       "      <th>Agency</th>\n",
       "    </tr>\n",
       "  </thead>\n",
       "  <tbody>\n",
       "    <tr>\n",
       "      <th>5</th>\n",
       "      <td>6</td>\n",
       "      <td>DAVID SULLIVAN</td>\n",
       "      <td>ASSISTANT DEPUTY CHIEF II</td>\n",
       "      <td>118602.00</td>\n",
       "      <td>189082.74</td>\n",
       "      <td>316285.74</td>\n",
       "      <td>2011</td>\n",
       "      <td>San Francisco</td>\n",
       "    </tr>\n",
       "    <tr>\n",
       "      <th>6</th>\n",
       "      <td>7</td>\n",
       "      <td>ALSON LEE</td>\n",
       "      <td>BATTALION CHIEF, (FIRE DEPARTMENT)</td>\n",
       "      <td>92492.01</td>\n",
       "      <td>134426.14</td>\n",
       "      <td>315981.05</td>\n",
       "      <td>2011</td>\n",
       "      <td>San Francisco</td>\n",
       "    </tr>\n",
       "    <tr>\n",
       "      <th>7</th>\n",
       "      <td>8</td>\n",
       "      <td>DAVID KUSHNER</td>\n",
       "      <td>DEPUTY DIRECTOR OF INVESTMENTS</td>\n",
       "      <td>256576.96</td>\n",
       "      <td>51322.50</td>\n",
       "      <td>307899.46</td>\n",
       "      <td>2011</td>\n",
       "      <td>San Francisco</td>\n",
       "    </tr>\n",
       "    <tr>\n",
       "      <th>8</th>\n",
       "      <td>9</td>\n",
       "      <td>MICHAEL MORRIS</td>\n",
       "      <td>BATTALION CHIEF, (FIRE DEPARTMENT)</td>\n",
       "      <td>176932.64</td>\n",
       "      <td>40132.23</td>\n",
       "      <td>303427.55</td>\n",
       "      <td>2011</td>\n",
       "      <td>San Francisco</td>\n",
       "    </tr>\n",
       "    <tr>\n",
       "      <th>9</th>\n",
       "      <td>10</td>\n",
       "      <td>JOANNE HAYES-WHITE</td>\n",
       "      <td>CHIEF OF DEPARTMENT, (FIRE DEPARTMENT)</td>\n",
       "      <td>285262.00</td>\n",
       "      <td>17115.73</td>\n",
       "      <td>302377.73</td>\n",
       "      <td>2011</td>\n",
       "      <td>San Francisco</td>\n",
       "    </tr>\n",
       "  </tbody>\n",
       "</table>\n",
       "</div>"
      ],
      "text/plain": [
       "   Id        EmployeeName                                JobTitle    BasePay  \\\n",
       "5   6      DAVID SULLIVAN               ASSISTANT DEPUTY CHIEF II  118602.00   \n",
       "6   7           ALSON LEE      BATTALION CHIEF, (FIRE DEPARTMENT)   92492.01   \n",
       "7   8       DAVID KUSHNER          DEPUTY DIRECTOR OF INVESTMENTS  256576.96   \n",
       "8   9      MICHAEL MORRIS      BATTALION CHIEF, (FIRE DEPARTMENT)  176932.64   \n",
       "9  10  JOANNE HAYES-WHITE  CHIEF OF DEPARTMENT, (FIRE DEPARTMENT)  285262.00   \n",
       "\n",
       "    OtherPay   TotalPay  Year         Agency  \n",
       "5  189082.74  316285.74  2011  San Francisco  \n",
       "6  134426.14  315981.05  2011  San Francisco  \n",
       "7   51322.50  307899.46  2011  San Francisco  \n",
       "8   40132.23  303427.55  2011  San Francisco  \n",
       "9   17115.73  302377.73  2011  San Francisco  "
      ]
     },
     "execution_count": 16,
     "metadata": {},
     "output_type": "execute_result"
    }
   ],
   "source": [
    "df = load_data()\n",
    "df.tail()"
   ]
  },
  {
   "cell_type": "code",
   "execution_count": 8,
   "metadata": {
    "slideshow": {
     "slide_type": "subslide"
    }
   },
   "outputs": [
    {
     "data": {
      "text/html": [
       "<style  type=\"text/css\" >\n",
       "    #T_17b21f10_d7ac_11ea_9e34_3e22fb000b67row0_col0 {\n",
       "            background-color:  #f7fbff;\n",
       "            color:  #000000;\n",
       "        }    #T_17b21f10_d7ac_11ea_9e34_3e22fb000b67row0_col3 {\n",
       "            background-color:  #87bddc;\n",
       "            color:  #000000;\n",
       "        }    #T_17b21f10_d7ac_11ea_9e34_3e22fb000b67row0_col4 {\n",
       "            background-color:  #08306b;\n",
       "            color:  #f1f1f1;\n",
       "        }    #T_17b21f10_d7ac_11ea_9e34_3e22fb000b67row0_col5 {\n",
       "            background-color:  #08306b;\n",
       "            color:  #f1f1f1;\n",
       "        }    #T_17b21f10_d7ac_11ea_9e34_3e22fb000b67row0_col6 {\n",
       "            background-color:  #f7fbff;\n",
       "            color:  #000000;\n",
       "        }    #T_17b21f10_d7ac_11ea_9e34_3e22fb000b67row1_col0 {\n",
       "            background-color:  #e1edf8;\n",
       "            color:  #000000;\n",
       "        }    #T_17b21f10_d7ac_11ea_9e34_3e22fb000b67row1_col3 {\n",
       "            background-color:  #9dcae1;\n",
       "            color:  #000000;\n",
       "        }    #T_17b21f10_d7ac_11ea_9e34_3e22fb000b67row1_col4 {\n",
       "            background-color:  #b2d2e8;\n",
       "            color:  #000000;\n",
       "        }    #T_17b21f10_d7ac_11ea_9e34_3e22fb000b67row1_col5 {\n",
       "            background-color:  #084c95;\n",
       "            color:  #f1f1f1;\n",
       "        }    #T_17b21f10_d7ac_11ea_9e34_3e22fb000b67row1_col6 {\n",
       "            background-color:  #f7fbff;\n",
       "            color:  #000000;\n",
       "        }    #T_17b21f10_d7ac_11ea_9e34_3e22fb000b67row2_col0 {\n",
       "            background-color:  #ccdff1;\n",
       "            color:  #000000;\n",
       "        }    #T_17b21f10_d7ac_11ea_9e34_3e22fb000b67row2_col3 {\n",
       "            background-color:  #3b8bc2;\n",
       "            color:  #000000;\n",
       "        }    #T_17b21f10_d7ac_11ea_9e34_3e22fb000b67row2_col4 {\n",
       "            background-color:  #f7fbff;\n",
       "            color:  #000000;\n",
       "        }    #T_17b21f10_d7ac_11ea_9e34_3e22fb000b67row2_col5 {\n",
       "            background-color:  #dfebf7;\n",
       "            color:  #000000;\n",
       "        }    #T_17b21f10_d7ac_11ea_9e34_3e22fb000b67row2_col6 {\n",
       "            background-color:  #f7fbff;\n",
       "            color:  #000000;\n",
       "        }    #T_17b21f10_d7ac_11ea_9e34_3e22fb000b67row3_col0 {\n",
       "            background-color:  #abd0e6;\n",
       "            color:  #000000;\n",
       "        }    #T_17b21f10_d7ac_11ea_9e34_3e22fb000b67row3_col3 {\n",
       "            background-color:  #f7fbff;\n",
       "            color:  #000000;\n",
       "        }    #T_17b21f10_d7ac_11ea_9e34_3e22fb000b67row3_col4 {\n",
       "            background-color:  #75b4d8;\n",
       "            color:  #000000;\n",
       "        }    #T_17b21f10_d7ac_11ea_9e34_3e22fb000b67row3_col5 {\n",
       "            background-color:  #e1edf8;\n",
       "            color:  #000000;\n",
       "        }    #T_17b21f10_d7ac_11ea_9e34_3e22fb000b67row3_col6 {\n",
       "            background-color:  #f7fbff;\n",
       "            color:  #000000;\n",
       "        }    #T_17b21f10_d7ac_11ea_9e34_3e22fb000b67row4_col0 {\n",
       "            background-color:  #82bbdb;\n",
       "            color:  #000000;\n",
       "        }    #T_17b21f10_d7ac_11ea_9e34_3e22fb000b67row4_col3 {\n",
       "            background-color:  #bfd8ed;\n",
       "            color:  #000000;\n",
       "        }    #T_17b21f10_d7ac_11ea_9e34_3e22fb000b67row4_col4 {\n",
       "            background-color:  #87bddc;\n",
       "            color:  #000000;\n",
       "        }    #T_17b21f10_d7ac_11ea_9e34_3e22fb000b67row4_col5 {\n",
       "            background-color:  #e5eff9;\n",
       "            color:  #000000;\n",
       "        }    #T_17b21f10_d7ac_11ea_9e34_3e22fb000b67row4_col6 {\n",
       "            background-color:  #f7fbff;\n",
       "            color:  #000000;\n",
       "        }    #T_17b21f10_d7ac_11ea_9e34_3e22fb000b67row5_col0 {\n",
       "            background-color:  #58a1cf;\n",
       "            color:  #000000;\n",
       "        }    #T_17b21f10_d7ac_11ea_9e34_3e22fb000b67row5_col3 {\n",
       "            background-color:  #d0e2f2;\n",
       "            color:  #000000;\n",
       "        }    #T_17b21f10_d7ac_11ea_9e34_3e22fb000b67row5_col4 {\n",
       "            background-color:  #7fb9da;\n",
       "            color:  #000000;\n",
       "        }    #T_17b21f10_d7ac_11ea_9e34_3e22fb000b67row5_col5 {\n",
       "            background-color:  #edf4fc;\n",
       "            color:  #000000;\n",
       "        }    #T_17b21f10_d7ac_11ea_9e34_3e22fb000b67row5_col6 {\n",
       "            background-color:  #f7fbff;\n",
       "            color:  #000000;\n",
       "        }    #T_17b21f10_d7ac_11ea_9e34_3e22fb000b67row6_col0 {\n",
       "            background-color:  #3787c0;\n",
       "            color:  #000000;\n",
       "        }    #T_17b21f10_d7ac_11ea_9e34_3e22fb000b67row6_col3 {\n",
       "            background-color:  #eaf2fb;\n",
       "            color:  #000000;\n",
       "        }    #T_17b21f10_d7ac_11ea_9e34_3e22fb000b67row6_col4 {\n",
       "            background-color:  #b4d3e9;\n",
       "            color:  #000000;\n",
       "        }    #T_17b21f10_d7ac_11ea_9e34_3e22fb000b67row6_col5 {\n",
       "            background-color:  #edf4fc;\n",
       "            color:  #000000;\n",
       "        }    #T_17b21f10_d7ac_11ea_9e34_3e22fb000b67row6_col6 {\n",
       "            background-color:  #f7fbff;\n",
       "            color:  #000000;\n",
       "        }    #T_17b21f10_d7ac_11ea_9e34_3e22fb000b67row7_col0 {\n",
       "            background-color:  #1b69af;\n",
       "            color:  #f1f1f1;\n",
       "        }    #T_17b21f10_d7ac_11ea_9e34_3e22fb000b67row7_col3 {\n",
       "            background-color:  #0a549e;\n",
       "            color:  #f1f1f1;\n",
       "        }    #T_17b21f10_d7ac_11ea_9e34_3e22fb000b67row7_col4 {\n",
       "            background-color:  #e5eff9;\n",
       "            color:  #000000;\n",
       "        }    #T_17b21f10_d7ac_11ea_9e34_3e22fb000b67row7_col5 {\n",
       "            background-color:  #f3f8fe;\n",
       "            color:  #000000;\n",
       "        }    #T_17b21f10_d7ac_11ea_9e34_3e22fb000b67row7_col6 {\n",
       "            background-color:  #f7fbff;\n",
       "            color:  #000000;\n",
       "        }    #T_17b21f10_d7ac_11ea_9e34_3e22fb000b67row8_col0 {\n",
       "            background-color:  #084d96;\n",
       "            color:  #f1f1f1;\n",
       "        }    #T_17b21f10_d7ac_11ea_9e34_3e22fb000b67row8_col3 {\n",
       "            background-color:  #74b3d8;\n",
       "            color:  #000000;\n",
       "        }    #T_17b21f10_d7ac_11ea_9e34_3e22fb000b67row8_col4 {\n",
       "            background-color:  #ebf3fb;\n",
       "            color:  #000000;\n",
       "        }    #T_17b21f10_d7ac_11ea_9e34_3e22fb000b67row8_col5 {\n",
       "            background-color:  #f6faff;\n",
       "            color:  #000000;\n",
       "        }    #T_17b21f10_d7ac_11ea_9e34_3e22fb000b67row8_col6 {\n",
       "            background-color:  #f7fbff;\n",
       "            color:  #000000;\n",
       "        }    #T_17b21f10_d7ac_11ea_9e34_3e22fb000b67row9_col0 {\n",
       "            background-color:  #08306b;\n",
       "            color:  #f1f1f1;\n",
       "        }    #T_17b21f10_d7ac_11ea_9e34_3e22fb000b67row9_col3 {\n",
       "            background-color:  #08306b;\n",
       "            color:  #f1f1f1;\n",
       "        }    #T_17b21f10_d7ac_11ea_9e34_3e22fb000b67row9_col4 {\n",
       "            background-color:  #f7fbff;\n",
       "            color:  #000000;\n",
       "        }    #T_17b21f10_d7ac_11ea_9e34_3e22fb000b67row9_col5 {\n",
       "            background-color:  #f7fbff;\n",
       "            color:  #000000;\n",
       "        }    #T_17b21f10_d7ac_11ea_9e34_3e22fb000b67row9_col6 {\n",
       "            background-color:  #f7fbff;\n",
       "            color:  #000000;\n",
       "        }</style><table id=\"T_17b21f10_d7ac_11ea_9e34_3e22fb000b67\" ><thead>    <tr>        <th class=\"col_heading level0 col0\" >Id</th>        <th class=\"col_heading level0 col1\" >EmployeeName</th>        <th class=\"col_heading level0 col2\" >JobTitle</th>        <th class=\"col_heading level0 col3\" >BasePay</th>        <th class=\"col_heading level0 col4\" >OtherPay</th>        <th class=\"col_heading level0 col5\" >TotalPay</th>        <th class=\"col_heading level0 col6\" >Year</th>        <th class=\"col_heading level0 col7\" >Agency</th>    </tr></thead><tbody>\n",
       "                <tr>\n",
       "                                <td id=\"T_17b21f10_d7ac_11ea_9e34_3e22fb000b67row0_col0\" class=\"data row0 col0\" >1</td>\n",
       "                        <td id=\"T_17b21f10_d7ac_11ea_9e34_3e22fb000b67row0_col1\" class=\"data row0 col1\" >nathaniel ford</td>\n",
       "                        <td id=\"T_17b21f10_d7ac_11ea_9e34_3e22fb000b67row0_col2\" class=\"data row0 col2\" >general manager-metropolitan transit authority</td>\n",
       "                        <td id=\"T_17b21f10_d7ac_11ea_9e34_3e22fb000b67row0_col3\" class=\"data row0 col3\" >$             167,411</td>\n",
       "                        <td id=\"T_17b21f10_d7ac_11ea_9e34_3e22fb000b67row0_col4\" class=\"data row0 col4\" >$             400,184</td>\n",
       "                        <td id=\"T_17b21f10_d7ac_11ea_9e34_3e22fb000b67row0_col5\" class=\"data row0 col5\" >$             567,595</td>\n",
       "                        <td id=\"T_17b21f10_d7ac_11ea_9e34_3e22fb000b67row0_col6\" class=\"data row0 col6\" >2011</td>\n",
       "                        <td id=\"T_17b21f10_d7ac_11ea_9e34_3e22fb000b67row0_col7\" class=\"data row0 col7\" >San Francisco</td>\n",
       "            </tr>\n",
       "            <tr>\n",
       "                                <td id=\"T_17b21f10_d7ac_11ea_9e34_3e22fb000b67row1_col0\" class=\"data row1 col0\" >2</td>\n",
       "                        <td id=\"T_17b21f10_d7ac_11ea_9e34_3e22fb000b67row1_col1\" class=\"data row1 col1\" >gary jimenez</td>\n",
       "                        <td id=\"T_17b21f10_d7ac_11ea_9e34_3e22fb000b67row1_col2\" class=\"data row1 col2\" >captain iii (police department)</td>\n",
       "                        <td id=\"T_17b21f10_d7ac_11ea_9e34_3e22fb000b67row1_col3\" class=\"data row1 col3\" >$             155,966</td>\n",
       "                        <td id=\"T_17b21f10_d7ac_11ea_9e34_3e22fb000b67row1_col4\" class=\"data row1 col4\" >$             137,811</td>\n",
       "                        <td id=\"T_17b21f10_d7ac_11ea_9e34_3e22fb000b67row1_col5\" class=\"data row1 col5\" >$             538,909</td>\n",
       "                        <td id=\"T_17b21f10_d7ac_11ea_9e34_3e22fb000b67row1_col6\" class=\"data row1 col6\" >2011</td>\n",
       "                        <td id=\"T_17b21f10_d7ac_11ea_9e34_3e22fb000b67row1_col7\" class=\"data row1 col7\" >San Francisco</td>\n",
       "            </tr>\n",
       "            <tr>\n",
       "                                <td id=\"T_17b21f10_d7ac_11ea_9e34_3e22fb000b67row2_col0\" class=\"data row2 col0\" >3</td>\n",
       "                        <td id=\"T_17b21f10_d7ac_11ea_9e34_3e22fb000b67row2_col1\" class=\"data row2 col1\" >albert pardini</td>\n",
       "                        <td id=\"T_17b21f10_d7ac_11ea_9e34_3e22fb000b67row2_col2\" class=\"data row2 col2\" >captain iii (police department)</td>\n",
       "                        <td id=\"T_17b21f10_d7ac_11ea_9e34_3e22fb000b67row2_col3\" class=\"data row2 col3\" >$             212,739</td>\n",
       "                        <td id=\"T_17b21f10_d7ac_11ea_9e34_3e22fb000b67row2_col4\" class=\"data row2 col4\" >$              16,453</td>\n",
       "                        <td id=\"T_17b21f10_d7ac_11ea_9e34_3e22fb000b67row2_col5\" class=\"data row2 col5\" >$             335,280</td>\n",
       "                        <td id=\"T_17b21f10_d7ac_11ea_9e34_3e22fb000b67row2_col6\" class=\"data row2 col6\" >2011</td>\n",
       "                        <td id=\"T_17b21f10_d7ac_11ea_9e34_3e22fb000b67row2_col7\" class=\"data row2 col7\" >San Francisco</td>\n",
       "            </tr>\n",
       "            <tr>\n",
       "                                <td id=\"T_17b21f10_d7ac_11ea_9e34_3e22fb000b67row3_col0\" class=\"data row3 col0\" >4</td>\n",
       "                        <td id=\"T_17b21f10_d7ac_11ea_9e34_3e22fb000b67row3_col1\" class=\"data row3 col1\" >christopher chong</td>\n",
       "                        <td id=\"T_17b21f10_d7ac_11ea_9e34_3e22fb000b67row3_col2\" class=\"data row3 col2\" >wire rope cable maintenance mechanic</td>\n",
       "                        <td id=\"T_17b21f10_d7ac_11ea_9e34_3e22fb000b67row3_col3\" class=\"data row3 col3\" >$              77,916</td>\n",
       "                        <td id=\"T_17b21f10_d7ac_11ea_9e34_3e22fb000b67row3_col4\" class=\"data row3 col4\" >$             198,307</td>\n",
       "                        <td id=\"T_17b21f10_d7ac_11ea_9e34_3e22fb000b67row3_col5\" class=\"data row3 col5\" >$             332,344</td>\n",
       "                        <td id=\"T_17b21f10_d7ac_11ea_9e34_3e22fb000b67row3_col6\" class=\"data row3 col6\" >2011</td>\n",
       "                        <td id=\"T_17b21f10_d7ac_11ea_9e34_3e22fb000b67row3_col7\" class=\"data row3 col7\" >San Francisco</td>\n",
       "            </tr>\n",
       "            <tr>\n",
       "                                <td id=\"T_17b21f10_d7ac_11ea_9e34_3e22fb000b67row4_col0\" class=\"data row4 col0\" >5</td>\n",
       "                        <td id=\"T_17b21f10_d7ac_11ea_9e34_3e22fb000b67row4_col1\" class=\"data row4 col1\" >patrick gardner</td>\n",
       "                        <td id=\"T_17b21f10_d7ac_11ea_9e34_3e22fb000b67row4_col2\" class=\"data row4 col2\" >deputy chief of department,(fire department)</td>\n",
       "                        <td id=\"T_17b21f10_d7ac_11ea_9e34_3e22fb000b67row4_col3\" class=\"data row4 col3\" >$             134,402</td>\n",
       "                        <td id=\"T_17b21f10_d7ac_11ea_9e34_3e22fb000b67row4_col4\" class=\"data row4 col4\" >$             182,235</td>\n",
       "                        <td id=\"T_17b21f10_d7ac_11ea_9e34_3e22fb000b67row4_col5\" class=\"data row4 col5\" >$             326,373</td>\n",
       "                        <td id=\"T_17b21f10_d7ac_11ea_9e34_3e22fb000b67row4_col6\" class=\"data row4 col6\" >2011</td>\n",
       "                        <td id=\"T_17b21f10_d7ac_11ea_9e34_3e22fb000b67row4_col7\" class=\"data row4 col7\" >San Francisco</td>\n",
       "            </tr>\n",
       "            <tr>\n",
       "                                <td id=\"T_17b21f10_d7ac_11ea_9e34_3e22fb000b67row5_col0\" class=\"data row5 col0\" >6</td>\n",
       "                        <td id=\"T_17b21f10_d7ac_11ea_9e34_3e22fb000b67row5_col1\" class=\"data row5 col1\" >david sullivan</td>\n",
       "                        <td id=\"T_17b21f10_d7ac_11ea_9e34_3e22fb000b67row5_col2\" class=\"data row5 col2\" >assistant deputy chief ii</td>\n",
       "                        <td id=\"T_17b21f10_d7ac_11ea_9e34_3e22fb000b67row5_col3\" class=\"data row5 col3\" >$             118,602</td>\n",
       "                        <td id=\"T_17b21f10_d7ac_11ea_9e34_3e22fb000b67row5_col4\" class=\"data row5 col4\" >$             189,083</td>\n",
       "                        <td id=\"T_17b21f10_d7ac_11ea_9e34_3e22fb000b67row5_col5\" class=\"data row5 col5\" >$             316,286</td>\n",
       "                        <td id=\"T_17b21f10_d7ac_11ea_9e34_3e22fb000b67row5_col6\" class=\"data row5 col6\" >2011</td>\n",
       "                        <td id=\"T_17b21f10_d7ac_11ea_9e34_3e22fb000b67row5_col7\" class=\"data row5 col7\" >San Francisco</td>\n",
       "            </tr>\n",
       "            <tr>\n",
       "                                <td id=\"T_17b21f10_d7ac_11ea_9e34_3e22fb000b67row6_col0\" class=\"data row6 col0\" >7</td>\n",
       "                        <td id=\"T_17b21f10_d7ac_11ea_9e34_3e22fb000b67row6_col1\" class=\"data row6 col1\" >alson lee</td>\n",
       "                        <td id=\"T_17b21f10_d7ac_11ea_9e34_3e22fb000b67row6_col2\" class=\"data row6 col2\" >battalion chief, (fire department)</td>\n",
       "                        <td id=\"T_17b21f10_d7ac_11ea_9e34_3e22fb000b67row6_col3\" class=\"data row6 col3\" >$              92,492</td>\n",
       "                        <td id=\"T_17b21f10_d7ac_11ea_9e34_3e22fb000b67row6_col4\" class=\"data row6 col4\" >$             134,426</td>\n",
       "                        <td id=\"T_17b21f10_d7ac_11ea_9e34_3e22fb000b67row6_col5\" class=\"data row6 col5\" >$             315,981</td>\n",
       "                        <td id=\"T_17b21f10_d7ac_11ea_9e34_3e22fb000b67row6_col6\" class=\"data row6 col6\" >2011</td>\n",
       "                        <td id=\"T_17b21f10_d7ac_11ea_9e34_3e22fb000b67row6_col7\" class=\"data row6 col7\" >San Francisco</td>\n",
       "            </tr>\n",
       "            <tr>\n",
       "                                <td id=\"T_17b21f10_d7ac_11ea_9e34_3e22fb000b67row7_col0\" class=\"data row7 col0\" >8</td>\n",
       "                        <td id=\"T_17b21f10_d7ac_11ea_9e34_3e22fb000b67row7_col1\" class=\"data row7 col1\" >david kushner</td>\n",
       "                        <td id=\"T_17b21f10_d7ac_11ea_9e34_3e22fb000b67row7_col2\" class=\"data row7 col2\" >deputy director of investments</td>\n",
       "                        <td id=\"T_17b21f10_d7ac_11ea_9e34_3e22fb000b67row7_col3\" class=\"data row7 col3\" >$             256,577</td>\n",
       "                        <td id=\"T_17b21f10_d7ac_11ea_9e34_3e22fb000b67row7_col4\" class=\"data row7 col4\" >$              51,322</td>\n",
       "                        <td id=\"T_17b21f10_d7ac_11ea_9e34_3e22fb000b67row7_col5\" class=\"data row7 col5\" >$             307,899</td>\n",
       "                        <td id=\"T_17b21f10_d7ac_11ea_9e34_3e22fb000b67row7_col6\" class=\"data row7 col6\" >2011</td>\n",
       "                        <td id=\"T_17b21f10_d7ac_11ea_9e34_3e22fb000b67row7_col7\" class=\"data row7 col7\" >San Francisco</td>\n",
       "            </tr>\n",
       "            <tr>\n",
       "                                <td id=\"T_17b21f10_d7ac_11ea_9e34_3e22fb000b67row8_col0\" class=\"data row8 col0\" >9</td>\n",
       "                        <td id=\"T_17b21f10_d7ac_11ea_9e34_3e22fb000b67row8_col1\" class=\"data row8 col1\" >michael morris</td>\n",
       "                        <td id=\"T_17b21f10_d7ac_11ea_9e34_3e22fb000b67row8_col2\" class=\"data row8 col2\" >battalion chief, (fire department)</td>\n",
       "                        <td id=\"T_17b21f10_d7ac_11ea_9e34_3e22fb000b67row8_col3\" class=\"data row8 col3\" >$             176,933</td>\n",
       "                        <td id=\"T_17b21f10_d7ac_11ea_9e34_3e22fb000b67row8_col4\" class=\"data row8 col4\" >$              40,132</td>\n",
       "                        <td id=\"T_17b21f10_d7ac_11ea_9e34_3e22fb000b67row8_col5\" class=\"data row8 col5\" >$             303,428</td>\n",
       "                        <td id=\"T_17b21f10_d7ac_11ea_9e34_3e22fb000b67row8_col6\" class=\"data row8 col6\" >2011</td>\n",
       "                        <td id=\"T_17b21f10_d7ac_11ea_9e34_3e22fb000b67row8_col7\" class=\"data row8 col7\" >San Francisco</td>\n",
       "            </tr>\n",
       "            <tr>\n",
       "                                <td id=\"T_17b21f10_d7ac_11ea_9e34_3e22fb000b67row9_col0\" class=\"data row9 col0\" >10</td>\n",
       "                        <td id=\"T_17b21f10_d7ac_11ea_9e34_3e22fb000b67row9_col1\" class=\"data row9 col1\" >joanne hayes-white</td>\n",
       "                        <td id=\"T_17b21f10_d7ac_11ea_9e34_3e22fb000b67row9_col2\" class=\"data row9 col2\" >chief of department, (fire department)</td>\n",
       "                        <td id=\"T_17b21f10_d7ac_11ea_9e34_3e22fb000b67row9_col3\" class=\"data row9 col3\" >$             285,262</td>\n",
       "                        <td id=\"T_17b21f10_d7ac_11ea_9e34_3e22fb000b67row9_col4\" class=\"data row9 col4\" >$              17,116</td>\n",
       "                        <td id=\"T_17b21f10_d7ac_11ea_9e34_3e22fb000b67row9_col5\" class=\"data row9 col5\" >$             302,378</td>\n",
       "                        <td id=\"T_17b21f10_d7ac_11ea_9e34_3e22fb000b67row9_col6\" class=\"data row9 col6\" >2011</td>\n",
       "                        <td id=\"T_17b21f10_d7ac_11ea_9e34_3e22fb000b67row9_col7\" class=\"data row9 col7\" >San Francisco</td>\n",
       "            </tr>\n",
       "    </tbody></table>"
      ],
      "text/plain": [
       "<pandas.io.formats.style.Styler at 0x7fc7920ca290>"
      ]
     },
     "execution_count": 8,
     "metadata": {},
     "output_type": "execute_result"
    }
   ],
   "source": [
    "df.style.format({\"BasePay\": \"${:20,.0f}\", \n",
    "                 \"OtherPay\": \"${:20,.0f}\", \n",
    "                 \"TotalPay\": \"${:20,.0f}\",\n",
    "                 \"TotalPayBenefits\":\"${:20,.0f}\"})\\\n",
    "        .format({\"JobTitle\": lambda x:x.lower(),\n",
    "                 \"EmployeeName\": lambda x:x.lower()})\\\n",
    "        .hide_index()\\\n",
    "        .background_gradient(cmap='Blues')"
   ]
  },
  {
   "cell_type": "code",
   "execution_count": 9,
   "metadata": {
    "slideshow": {
     "slide_type": "subslide"
    }
   },
   "outputs": [
    {
     "data": {
      "text/html": [
       "<style  type=\"text/css\" >\n",
       "    #T_17b68d16_d7ac_11ea_9e34_3e22fb000b67row0_col3 {\n",
       "            width:  10em;\n",
       "             height:  80%;\n",
       "            background:  linear-gradient(90deg,#ee1f5f 43.2%, transparent 43.2%);\n",
       "        }    #T_17b68d16_d7ac_11ea_9e34_3e22fb000b67row0_col4 {\n",
       "            width:  10em;\n",
       "             height:  80%;\n",
       "            background:  linear-gradient(90deg,lightgreen 100.0%, transparent 100.0%);\n",
       "        }    #T_17b68d16_d7ac_11ea_9e34_3e22fb000b67row0_col5 {\n",
       "            width:  10em;\n",
       "             height:  80%;\n",
       "            background:  linear-gradient(90deg,#FFA07A 100.0%, transparent 100.0%);\n",
       "        }    #T_17b68d16_d7ac_11ea_9e34_3e22fb000b67row1_col3 {\n",
       "            width:  10em;\n",
       "             height:  80%;\n",
       "            background:  linear-gradient(90deg,#ee1f5f 37.6%, transparent 37.6%);\n",
       "        }    #T_17b68d16_d7ac_11ea_9e34_3e22fb000b67row1_col4 {\n",
       "            width:  10em;\n",
       "             height:  80%;\n",
       "            background:  linear-gradient(90deg,lightgreen 31.6%, transparent 31.6%);\n",
       "        }    #T_17b68d16_d7ac_11ea_9e34_3e22fb000b67row1_col5 {\n",
       "            width:  10em;\n",
       "             height:  80%;\n",
       "            background:  linear-gradient(90deg,#FFA07A 89.2%, transparent 89.2%);\n",
       "        }    #T_17b68d16_d7ac_11ea_9e34_3e22fb000b67row2_col3 {\n",
       "            width:  10em;\n",
       "             height:  80%;\n",
       "            background:  linear-gradient(90deg,#ee1f5f 65.0%, transparent 65.0%);\n",
       "        }    #T_17b68d16_d7ac_11ea_9e34_3e22fb000b67row2_col4 {\n",
       "            width:  10em;\n",
       "             height:  80%;\n",
       "        }    #T_17b68d16_d7ac_11ea_9e34_3e22fb000b67row2_col5 {\n",
       "            width:  10em;\n",
       "             height:  80%;\n",
       "            background:  linear-gradient(90deg,#FFA07A 12.4%, transparent 12.4%);\n",
       "        }    #T_17b68d16_d7ac_11ea_9e34_3e22fb000b67row3_col3 {\n",
       "            width:  10em;\n",
       "             height:  80%;\n",
       "        }    #T_17b68d16_d7ac_11ea_9e34_3e22fb000b67row3_col4 {\n",
       "            width:  10em;\n",
       "             height:  80%;\n",
       "            background:  linear-gradient(90deg,lightgreen 47.4%, transparent 47.4%);\n",
       "        }    #T_17b68d16_d7ac_11ea_9e34_3e22fb000b67row3_col5 {\n",
       "            width:  10em;\n",
       "             height:  80%;\n",
       "            background:  linear-gradient(90deg,#FFA07A 11.3%, transparent 11.3%);\n",
       "        }    #T_17b68d16_d7ac_11ea_9e34_3e22fb000b67row4_col3 {\n",
       "            width:  10em;\n",
       "             height:  80%;\n",
       "            background:  linear-gradient(90deg,#ee1f5f 27.2%, transparent 27.2%);\n",
       "        }    #T_17b68d16_d7ac_11ea_9e34_3e22fb000b67row4_col4 {\n",
       "            width:  10em;\n",
       "             height:  80%;\n",
       "            background:  linear-gradient(90deg,lightgreen 43.2%, transparent 43.2%);\n",
       "        }    #T_17b68d16_d7ac_11ea_9e34_3e22fb000b67row4_col5 {\n",
       "            width:  10em;\n",
       "             height:  80%;\n",
       "            background:  linear-gradient(90deg,#FFA07A 9.0%, transparent 9.0%);\n",
       "        }    #T_17b68d16_d7ac_11ea_9e34_3e22fb000b67row5_col3 {\n",
       "            width:  10em;\n",
       "             height:  80%;\n",
       "            background:  linear-gradient(90deg,#ee1f5f 19.6%, transparent 19.6%);\n",
       "        }    #T_17b68d16_d7ac_11ea_9e34_3e22fb000b67row5_col4 {\n",
       "            width:  10em;\n",
       "             height:  80%;\n",
       "            background:  linear-gradient(90deg,lightgreen 45.0%, transparent 45.0%);\n",
       "        }    #T_17b68d16_d7ac_11ea_9e34_3e22fb000b67row5_col5 {\n",
       "            width:  10em;\n",
       "             height:  80%;\n",
       "            background:  linear-gradient(90deg,#FFA07A 5.2%, transparent 5.2%);\n",
       "        }    #T_17b68d16_d7ac_11ea_9e34_3e22fb000b67row6_col3 {\n",
       "            width:  10em;\n",
       "             height:  80%;\n",
       "            background:  linear-gradient(90deg,#ee1f5f 7.0%, transparent 7.0%);\n",
       "        }    #T_17b68d16_d7ac_11ea_9e34_3e22fb000b67row6_col4 {\n",
       "            width:  10em;\n",
       "             height:  80%;\n",
       "            background:  linear-gradient(90deg,lightgreen 30.7%, transparent 30.7%);\n",
       "        }    #T_17b68d16_d7ac_11ea_9e34_3e22fb000b67row6_col5 {\n",
       "            width:  10em;\n",
       "             height:  80%;\n",
       "            background:  linear-gradient(90deg,#FFA07A 5.1%, transparent 5.1%);\n",
       "        }    #T_17b68d16_d7ac_11ea_9e34_3e22fb000b67row7_col3 {\n",
       "            width:  10em;\n",
       "             height:  80%;\n",
       "            background:  linear-gradient(90deg,#ee1f5f 86.2%, transparent 86.2%);\n",
       "        }    #T_17b68d16_d7ac_11ea_9e34_3e22fb000b67row7_col4 {\n",
       "            width:  10em;\n",
       "             height:  80%;\n",
       "            background:  linear-gradient(90deg,lightgreen 9.1%, transparent 9.1%);\n",
       "        }    #T_17b68d16_d7ac_11ea_9e34_3e22fb000b67row7_col5 {\n",
       "            width:  10em;\n",
       "             height:  80%;\n",
       "            background:  linear-gradient(90deg,#FFA07A 2.1%, transparent 2.1%);\n",
       "        }    #T_17b68d16_d7ac_11ea_9e34_3e22fb000b67row8_col3 {\n",
       "            width:  10em;\n",
       "             height:  80%;\n",
       "            background:  linear-gradient(90deg,#ee1f5f 47.8%, transparent 47.8%);\n",
       "        }    #T_17b68d16_d7ac_11ea_9e34_3e22fb000b67row8_col4 {\n",
       "            width:  10em;\n",
       "             height:  80%;\n",
       "            background:  linear-gradient(90deg,lightgreen 6.2%, transparent 6.2%);\n",
       "        }    #T_17b68d16_d7ac_11ea_9e34_3e22fb000b67row8_col5 {\n",
       "            width:  10em;\n",
       "             height:  80%;\n",
       "            background:  linear-gradient(90deg,#FFA07A 0.4%, transparent 0.4%);\n",
       "        }    #T_17b68d16_d7ac_11ea_9e34_3e22fb000b67row9_col3 {\n",
       "            width:  10em;\n",
       "             height:  80%;\n",
       "            background:  linear-gradient(90deg,#ee1f5f 100.0%, transparent 100.0%);\n",
       "        }    #T_17b68d16_d7ac_11ea_9e34_3e22fb000b67row9_col4 {\n",
       "            width:  10em;\n",
       "             height:  80%;\n",
       "            background:  linear-gradient(90deg,lightgreen 0.2%, transparent 0.2%);\n",
       "        }    #T_17b68d16_d7ac_11ea_9e34_3e22fb000b67row9_col5 {\n",
       "            width:  10em;\n",
       "             height:  80%;\n",
       "        }</style><table id=\"T_17b68d16_d7ac_11ea_9e34_3e22fb000b67\" ><thead>    <tr>        <th class=\"col_heading level0 col0\" >Id</th>        <th class=\"col_heading level0 col1\" >EmployeeName</th>        <th class=\"col_heading level0 col2\" >JobTitle</th>        <th class=\"col_heading level0 col3\" >BasePay</th>        <th class=\"col_heading level0 col4\" >OtherPay</th>        <th class=\"col_heading level0 col5\" >TotalPay</th>        <th class=\"col_heading level0 col6\" >Year</th>        <th class=\"col_heading level0 col7\" >Agency</th>    </tr></thead><tbody>\n",
       "                <tr>\n",
       "                                <td id=\"T_17b68d16_d7ac_11ea_9e34_3e22fb000b67row0_col0\" class=\"data row0 col0\" >1</td>\n",
       "                        <td id=\"T_17b68d16_d7ac_11ea_9e34_3e22fb000b67row0_col1\" class=\"data row0 col1\" >nathaniel ford</td>\n",
       "                        <td id=\"T_17b68d16_d7ac_11ea_9e34_3e22fb000b67row0_col2\" class=\"data row0 col2\" >general manager-metropolitan transit authority</td>\n",
       "                        <td id=\"T_17b68d16_d7ac_11ea_9e34_3e22fb000b67row0_col3\" class=\"data row0 col3\" >$             167,411</td>\n",
       "                        <td id=\"T_17b68d16_d7ac_11ea_9e34_3e22fb000b67row0_col4\" class=\"data row0 col4\" >$             400,184</td>\n",
       "                        <td id=\"T_17b68d16_d7ac_11ea_9e34_3e22fb000b67row0_col5\" class=\"data row0 col5\" >$             567,595</td>\n",
       "                        <td id=\"T_17b68d16_d7ac_11ea_9e34_3e22fb000b67row0_col6\" class=\"data row0 col6\" >2011</td>\n",
       "                        <td id=\"T_17b68d16_d7ac_11ea_9e34_3e22fb000b67row0_col7\" class=\"data row0 col7\" >San Francisco</td>\n",
       "            </tr>\n",
       "            <tr>\n",
       "                                <td id=\"T_17b68d16_d7ac_11ea_9e34_3e22fb000b67row1_col0\" class=\"data row1 col0\" >2</td>\n",
       "                        <td id=\"T_17b68d16_d7ac_11ea_9e34_3e22fb000b67row1_col1\" class=\"data row1 col1\" >gary jimenez</td>\n",
       "                        <td id=\"T_17b68d16_d7ac_11ea_9e34_3e22fb000b67row1_col2\" class=\"data row1 col2\" >captain iii (police department)</td>\n",
       "                        <td id=\"T_17b68d16_d7ac_11ea_9e34_3e22fb000b67row1_col3\" class=\"data row1 col3\" >$             155,966</td>\n",
       "                        <td id=\"T_17b68d16_d7ac_11ea_9e34_3e22fb000b67row1_col4\" class=\"data row1 col4\" >$             137,811</td>\n",
       "                        <td id=\"T_17b68d16_d7ac_11ea_9e34_3e22fb000b67row1_col5\" class=\"data row1 col5\" >$             538,909</td>\n",
       "                        <td id=\"T_17b68d16_d7ac_11ea_9e34_3e22fb000b67row1_col6\" class=\"data row1 col6\" >2011</td>\n",
       "                        <td id=\"T_17b68d16_d7ac_11ea_9e34_3e22fb000b67row1_col7\" class=\"data row1 col7\" >San Francisco</td>\n",
       "            </tr>\n",
       "            <tr>\n",
       "                                <td id=\"T_17b68d16_d7ac_11ea_9e34_3e22fb000b67row2_col0\" class=\"data row2 col0\" >3</td>\n",
       "                        <td id=\"T_17b68d16_d7ac_11ea_9e34_3e22fb000b67row2_col1\" class=\"data row2 col1\" >albert pardini</td>\n",
       "                        <td id=\"T_17b68d16_d7ac_11ea_9e34_3e22fb000b67row2_col2\" class=\"data row2 col2\" >captain iii (police department)</td>\n",
       "                        <td id=\"T_17b68d16_d7ac_11ea_9e34_3e22fb000b67row2_col3\" class=\"data row2 col3\" >$             212,739</td>\n",
       "                        <td id=\"T_17b68d16_d7ac_11ea_9e34_3e22fb000b67row2_col4\" class=\"data row2 col4\" >$              16,453</td>\n",
       "                        <td id=\"T_17b68d16_d7ac_11ea_9e34_3e22fb000b67row2_col5\" class=\"data row2 col5\" >$             335,280</td>\n",
       "                        <td id=\"T_17b68d16_d7ac_11ea_9e34_3e22fb000b67row2_col6\" class=\"data row2 col6\" >2011</td>\n",
       "                        <td id=\"T_17b68d16_d7ac_11ea_9e34_3e22fb000b67row2_col7\" class=\"data row2 col7\" >San Francisco</td>\n",
       "            </tr>\n",
       "            <tr>\n",
       "                                <td id=\"T_17b68d16_d7ac_11ea_9e34_3e22fb000b67row3_col0\" class=\"data row3 col0\" >4</td>\n",
       "                        <td id=\"T_17b68d16_d7ac_11ea_9e34_3e22fb000b67row3_col1\" class=\"data row3 col1\" >christopher chong</td>\n",
       "                        <td id=\"T_17b68d16_d7ac_11ea_9e34_3e22fb000b67row3_col2\" class=\"data row3 col2\" >wire rope cable maintenance mechanic</td>\n",
       "                        <td id=\"T_17b68d16_d7ac_11ea_9e34_3e22fb000b67row3_col3\" class=\"data row3 col3\" >$              77,916</td>\n",
       "                        <td id=\"T_17b68d16_d7ac_11ea_9e34_3e22fb000b67row3_col4\" class=\"data row3 col4\" >$             198,307</td>\n",
       "                        <td id=\"T_17b68d16_d7ac_11ea_9e34_3e22fb000b67row3_col5\" class=\"data row3 col5\" >$             332,344</td>\n",
       "                        <td id=\"T_17b68d16_d7ac_11ea_9e34_3e22fb000b67row3_col6\" class=\"data row3 col6\" >2011</td>\n",
       "                        <td id=\"T_17b68d16_d7ac_11ea_9e34_3e22fb000b67row3_col7\" class=\"data row3 col7\" >San Francisco</td>\n",
       "            </tr>\n",
       "            <tr>\n",
       "                                <td id=\"T_17b68d16_d7ac_11ea_9e34_3e22fb000b67row4_col0\" class=\"data row4 col0\" >5</td>\n",
       "                        <td id=\"T_17b68d16_d7ac_11ea_9e34_3e22fb000b67row4_col1\" class=\"data row4 col1\" >patrick gardner</td>\n",
       "                        <td id=\"T_17b68d16_d7ac_11ea_9e34_3e22fb000b67row4_col2\" class=\"data row4 col2\" >deputy chief of department,(fire department)</td>\n",
       "                        <td id=\"T_17b68d16_d7ac_11ea_9e34_3e22fb000b67row4_col3\" class=\"data row4 col3\" >$             134,402</td>\n",
       "                        <td id=\"T_17b68d16_d7ac_11ea_9e34_3e22fb000b67row4_col4\" class=\"data row4 col4\" >$             182,235</td>\n",
       "                        <td id=\"T_17b68d16_d7ac_11ea_9e34_3e22fb000b67row4_col5\" class=\"data row4 col5\" >$             326,373</td>\n",
       "                        <td id=\"T_17b68d16_d7ac_11ea_9e34_3e22fb000b67row4_col6\" class=\"data row4 col6\" >2011</td>\n",
       "                        <td id=\"T_17b68d16_d7ac_11ea_9e34_3e22fb000b67row4_col7\" class=\"data row4 col7\" >San Francisco</td>\n",
       "            </tr>\n",
       "            <tr>\n",
       "                                <td id=\"T_17b68d16_d7ac_11ea_9e34_3e22fb000b67row5_col0\" class=\"data row5 col0\" >6</td>\n",
       "                        <td id=\"T_17b68d16_d7ac_11ea_9e34_3e22fb000b67row5_col1\" class=\"data row5 col1\" >david sullivan</td>\n",
       "                        <td id=\"T_17b68d16_d7ac_11ea_9e34_3e22fb000b67row5_col2\" class=\"data row5 col2\" >assistant deputy chief ii</td>\n",
       "                        <td id=\"T_17b68d16_d7ac_11ea_9e34_3e22fb000b67row5_col3\" class=\"data row5 col3\" >$             118,602</td>\n",
       "                        <td id=\"T_17b68d16_d7ac_11ea_9e34_3e22fb000b67row5_col4\" class=\"data row5 col4\" >$             189,083</td>\n",
       "                        <td id=\"T_17b68d16_d7ac_11ea_9e34_3e22fb000b67row5_col5\" class=\"data row5 col5\" >$             316,286</td>\n",
       "                        <td id=\"T_17b68d16_d7ac_11ea_9e34_3e22fb000b67row5_col6\" class=\"data row5 col6\" >2011</td>\n",
       "                        <td id=\"T_17b68d16_d7ac_11ea_9e34_3e22fb000b67row5_col7\" class=\"data row5 col7\" >San Francisco</td>\n",
       "            </tr>\n",
       "            <tr>\n",
       "                                <td id=\"T_17b68d16_d7ac_11ea_9e34_3e22fb000b67row6_col0\" class=\"data row6 col0\" >7</td>\n",
       "                        <td id=\"T_17b68d16_d7ac_11ea_9e34_3e22fb000b67row6_col1\" class=\"data row6 col1\" >alson lee</td>\n",
       "                        <td id=\"T_17b68d16_d7ac_11ea_9e34_3e22fb000b67row6_col2\" class=\"data row6 col2\" >battalion chief, (fire department)</td>\n",
       "                        <td id=\"T_17b68d16_d7ac_11ea_9e34_3e22fb000b67row6_col3\" class=\"data row6 col3\" >$              92,492</td>\n",
       "                        <td id=\"T_17b68d16_d7ac_11ea_9e34_3e22fb000b67row6_col4\" class=\"data row6 col4\" >$             134,426</td>\n",
       "                        <td id=\"T_17b68d16_d7ac_11ea_9e34_3e22fb000b67row6_col5\" class=\"data row6 col5\" >$             315,981</td>\n",
       "                        <td id=\"T_17b68d16_d7ac_11ea_9e34_3e22fb000b67row6_col6\" class=\"data row6 col6\" >2011</td>\n",
       "                        <td id=\"T_17b68d16_d7ac_11ea_9e34_3e22fb000b67row6_col7\" class=\"data row6 col7\" >San Francisco</td>\n",
       "            </tr>\n",
       "            <tr>\n",
       "                                <td id=\"T_17b68d16_d7ac_11ea_9e34_3e22fb000b67row7_col0\" class=\"data row7 col0\" >8</td>\n",
       "                        <td id=\"T_17b68d16_d7ac_11ea_9e34_3e22fb000b67row7_col1\" class=\"data row7 col1\" >david kushner</td>\n",
       "                        <td id=\"T_17b68d16_d7ac_11ea_9e34_3e22fb000b67row7_col2\" class=\"data row7 col2\" >deputy director of investments</td>\n",
       "                        <td id=\"T_17b68d16_d7ac_11ea_9e34_3e22fb000b67row7_col3\" class=\"data row7 col3\" >$             256,577</td>\n",
       "                        <td id=\"T_17b68d16_d7ac_11ea_9e34_3e22fb000b67row7_col4\" class=\"data row7 col4\" >$              51,322</td>\n",
       "                        <td id=\"T_17b68d16_d7ac_11ea_9e34_3e22fb000b67row7_col5\" class=\"data row7 col5\" >$             307,899</td>\n",
       "                        <td id=\"T_17b68d16_d7ac_11ea_9e34_3e22fb000b67row7_col6\" class=\"data row7 col6\" >2011</td>\n",
       "                        <td id=\"T_17b68d16_d7ac_11ea_9e34_3e22fb000b67row7_col7\" class=\"data row7 col7\" >San Francisco</td>\n",
       "            </tr>\n",
       "            <tr>\n",
       "                                <td id=\"T_17b68d16_d7ac_11ea_9e34_3e22fb000b67row8_col0\" class=\"data row8 col0\" >9</td>\n",
       "                        <td id=\"T_17b68d16_d7ac_11ea_9e34_3e22fb000b67row8_col1\" class=\"data row8 col1\" >michael morris</td>\n",
       "                        <td id=\"T_17b68d16_d7ac_11ea_9e34_3e22fb000b67row8_col2\" class=\"data row8 col2\" >battalion chief, (fire department)</td>\n",
       "                        <td id=\"T_17b68d16_d7ac_11ea_9e34_3e22fb000b67row8_col3\" class=\"data row8 col3\" >$             176,933</td>\n",
       "                        <td id=\"T_17b68d16_d7ac_11ea_9e34_3e22fb000b67row8_col4\" class=\"data row8 col4\" >$              40,132</td>\n",
       "                        <td id=\"T_17b68d16_d7ac_11ea_9e34_3e22fb000b67row8_col5\" class=\"data row8 col5\" >$             303,428</td>\n",
       "                        <td id=\"T_17b68d16_d7ac_11ea_9e34_3e22fb000b67row8_col6\" class=\"data row8 col6\" >2011</td>\n",
       "                        <td id=\"T_17b68d16_d7ac_11ea_9e34_3e22fb000b67row8_col7\" class=\"data row8 col7\" >San Francisco</td>\n",
       "            </tr>\n",
       "            <tr>\n",
       "                                <td id=\"T_17b68d16_d7ac_11ea_9e34_3e22fb000b67row9_col0\" class=\"data row9 col0\" >10</td>\n",
       "                        <td id=\"T_17b68d16_d7ac_11ea_9e34_3e22fb000b67row9_col1\" class=\"data row9 col1\" >joanne hayes-white</td>\n",
       "                        <td id=\"T_17b68d16_d7ac_11ea_9e34_3e22fb000b67row9_col2\" class=\"data row9 col2\" >chief of department, (fire department)</td>\n",
       "                        <td id=\"T_17b68d16_d7ac_11ea_9e34_3e22fb000b67row9_col3\" class=\"data row9 col3\" >$             285,262</td>\n",
       "                        <td id=\"T_17b68d16_d7ac_11ea_9e34_3e22fb000b67row9_col4\" class=\"data row9 col4\" >$              17,116</td>\n",
       "                        <td id=\"T_17b68d16_d7ac_11ea_9e34_3e22fb000b67row9_col5\" class=\"data row9 col5\" >$             302,378</td>\n",
       "                        <td id=\"T_17b68d16_d7ac_11ea_9e34_3e22fb000b67row9_col6\" class=\"data row9 col6\" >2011</td>\n",
       "                        <td id=\"T_17b68d16_d7ac_11ea_9e34_3e22fb000b67row9_col7\" class=\"data row9 col7\" >San Francisco</td>\n",
       "            </tr>\n",
       "    </tbody></table>"
      ],
      "text/plain": [
       "<pandas.io.formats.style.Styler at 0x7fc78228a710>"
      ]
     },
     "execution_count": 9,
     "metadata": {},
     "output_type": "execute_result"
    }
   ],
   "source": [
    "df.style.format({\"BasePay\": \"${:20,.0f}\", \n",
    "                 \"OtherPay\": \"${:20,.0f}\", \n",
    "                 \"TotalPay\": \"${:20,.0f}\",\n",
    "                 \"TotalPayBenefits\":\"${:20,.0f}\"})\\\n",
    "        .format({\"JobTitle\": lambda x:x.lower(),\n",
    "                 \"EmployeeName\": lambda x:x.lower()})\\\n",
    "        .hide_index()\\\n",
    "        .bar(subset=[\"OtherPay\",], color='lightgreen')\\\n",
    "        .bar(subset=[\"BasePay\"], color='#ee1f5f')\\\n",
    "        .bar(subset=[\"TotalPay\"], color='#FFA07A')\n"
   ]
  },
  {
   "cell_type": "code",
   "execution_count": 10,
   "metadata": {
    "scrolled": true,
    "slideshow": {
     "slide_type": "subslide"
    }
   },
   "outputs": [
    {
     "data": {
      "text/html": [
       "<div>\n",
       "<style scoped>\n",
       "    .dataframe tbody tr th:only-of-type {\n",
       "        vertical-align: middle;\n",
       "    }\n",
       "\n",
       "    .dataframe tbody tr th {\n",
       "        vertical-align: top;\n",
       "    }\n",
       "\n",
       "    .dataframe thead th {\n",
       "        text-align: right;\n",
       "    }\n",
       "</style>\n",
       "<table border=\"1\" class=\"dataframe\">\n",
       "  <thead>\n",
       "    <tr style=\"text-align: right;\">\n",
       "      <th></th>\n",
       "      <th>Id</th>\n",
       "      <th>EmployeeName</th>\n",
       "      <th>JobTitle</th>\n",
       "      <th>BasePay</th>\n",
       "      <th>OtherPay</th>\n",
       "      <th>TotalPay</th>\n",
       "      <th>Year</th>\n",
       "      <th>Agency</th>\n",
       "    </tr>\n",
       "  </thead>\n",
       "  <tbody>\n",
       "    <tr>\n",
       "      <th>0</th>\n",
       "      <td>1</td>\n",
       "      <td>NATHANIEL FORD</td>\n",
       "      <td>GENERAL MANAGER-METROPOLITAN TRANSIT AUTHORITY</td>\n",
       "      <td>167411.18</td>\n",
       "      <td>400184.25</td>\n",
       "      <td>567595.43</td>\n",
       "      <td>2011</td>\n",
       "      <td>San Francisco</td>\n",
       "    </tr>\n",
       "    <tr>\n",
       "      <th>1</th>\n",
       "      <td>2</td>\n",
       "      <td>GARY JIMENEZ</td>\n",
       "      <td>CAPTAIN III (POLICE DEPARTMENT)</td>\n",
       "      <td>155966.02</td>\n",
       "      <td>137811.38</td>\n",
       "      <td>538909.28</td>\n",
       "      <td>2011</td>\n",
       "      <td>San Francisco</td>\n",
       "    </tr>\n",
       "    <tr>\n",
       "      <th>2</th>\n",
       "      <td>3</td>\n",
       "      <td>ALBERT PARDINI</td>\n",
       "      <td>CAPTAIN III (POLICE DEPARTMENT)</td>\n",
       "      <td>212739.13</td>\n",
       "      <td>16452.60</td>\n",
       "      <td>335279.91</td>\n",
       "      <td>2011</td>\n",
       "      <td>San Francisco</td>\n",
       "    </tr>\n",
       "    <tr>\n",
       "      <th>3</th>\n",
       "      <td>4</td>\n",
       "      <td>CHRISTOPHER CHONG</td>\n",
       "      <td>WIRE ROPE CABLE MAINTENANCE MECHANIC</td>\n",
       "      <td>77916.00</td>\n",
       "      <td>198306.90</td>\n",
       "      <td>332343.61</td>\n",
       "      <td>2011</td>\n",
       "      <td>San Francisco</td>\n",
       "    </tr>\n",
       "    <tr>\n",
       "      <th>4</th>\n",
       "      <td>5</td>\n",
       "      <td>PATRICK GARDNER</td>\n",
       "      <td>DEPUTY CHIEF OF DEPARTMENT,(FIRE DEPARTMENT)</td>\n",
       "      <td>134401.60</td>\n",
       "      <td>182234.59</td>\n",
       "      <td>326373.19</td>\n",
       "      <td>2011</td>\n",
       "      <td>San Francisco</td>\n",
       "    </tr>\n",
       "    <tr>\n",
       "      <th>5</th>\n",
       "      <td>6</td>\n",
       "      <td>DAVID SULLIVAN</td>\n",
       "      <td>ASSISTANT DEPUTY CHIEF II</td>\n",
       "      <td>118602.00</td>\n",
       "      <td>189082.74</td>\n",
       "      <td>316285.74</td>\n",
       "      <td>2011</td>\n",
       "      <td>San Francisco</td>\n",
       "    </tr>\n",
       "    <tr>\n",
       "      <th>6</th>\n",
       "      <td>7</td>\n",
       "      <td>ALSON LEE</td>\n",
       "      <td>BATTALION CHIEF, (FIRE DEPARTMENT)</td>\n",
       "      <td>92492.01</td>\n",
       "      <td>134426.14</td>\n",
       "      <td>315981.05</td>\n",
       "      <td>2011</td>\n",
       "      <td>San Francisco</td>\n",
       "    </tr>\n",
       "    <tr>\n",
       "      <th>7</th>\n",
       "      <td>8</td>\n",
       "      <td>DAVID KUSHNER</td>\n",
       "      <td>DEPUTY DIRECTOR OF INVESTMENTS</td>\n",
       "      <td>256576.96</td>\n",
       "      <td>51322.50</td>\n",
       "      <td>307899.46</td>\n",
       "      <td>2011</td>\n",
       "      <td>San Francisco</td>\n",
       "    </tr>\n",
       "    <tr>\n",
       "      <th>8</th>\n",
       "      <td>9</td>\n",
       "      <td>MICHAEL MORRIS</td>\n",
       "      <td>BATTALION CHIEF, (FIRE DEPARTMENT)</td>\n",
       "      <td>176932.64</td>\n",
       "      <td>40132.23</td>\n",
       "      <td>303427.55</td>\n",
       "      <td>2011</td>\n",
       "      <td>San Francisco</td>\n",
       "    </tr>\n",
       "    <tr>\n",
       "      <th>9</th>\n",
       "      <td>10</td>\n",
       "      <td>JOANNE HAYES-WHITE</td>\n",
       "      <td>CHIEF OF DEPARTMENT, (FIRE DEPARTMENT)</td>\n",
       "      <td>285262.00</td>\n",
       "      <td>17115.73</td>\n",
       "      <td>302377.73</td>\n",
       "      <td>2011</td>\n",
       "      <td>San Francisco</td>\n",
       "    </tr>\n",
       "  </tbody>\n",
       "</table>\n",
       "</div>"
      ],
      "text/plain": [
       "   Id        EmployeeName                                        JobTitle  \\\n",
       "0   1      NATHANIEL FORD  GENERAL MANAGER-METROPOLITAN TRANSIT AUTHORITY   \n",
       "1   2        GARY JIMENEZ                 CAPTAIN III (POLICE DEPARTMENT)   \n",
       "2   3      ALBERT PARDINI                 CAPTAIN III (POLICE DEPARTMENT)   \n",
       "3   4   CHRISTOPHER CHONG            WIRE ROPE CABLE MAINTENANCE MECHANIC   \n",
       "4   5     PATRICK GARDNER    DEPUTY CHIEF OF DEPARTMENT,(FIRE DEPARTMENT)   \n",
       "5   6      DAVID SULLIVAN                       ASSISTANT DEPUTY CHIEF II   \n",
       "6   7           ALSON LEE              BATTALION CHIEF, (FIRE DEPARTMENT)   \n",
       "7   8       DAVID KUSHNER                  DEPUTY DIRECTOR OF INVESTMENTS   \n",
       "8   9      MICHAEL MORRIS              BATTALION CHIEF, (FIRE DEPARTMENT)   \n",
       "9  10  JOANNE HAYES-WHITE          CHIEF OF DEPARTMENT, (FIRE DEPARTMENT)   \n",
       "\n",
       "     BasePay   OtherPay   TotalPay  Year         Agency  \n",
       "0  167411.18  400184.25  567595.43  2011  San Francisco  \n",
       "1  155966.02  137811.38  538909.28  2011  San Francisco  \n",
       "2  212739.13   16452.60  335279.91  2011  San Francisco  \n",
       "3   77916.00  198306.90  332343.61  2011  San Francisco  \n",
       "4  134401.60  182234.59  326373.19  2011  San Francisco  \n",
       "5  118602.00  189082.74  316285.74  2011  San Francisco  \n",
       "6   92492.01  134426.14  315981.05  2011  San Francisco  \n",
       "7  256576.96   51322.50  307899.46  2011  San Francisco  \n",
       "8  176932.64   40132.23  303427.55  2011  San Francisco  \n",
       "9  285262.00   17115.73  302377.73  2011  San Francisco  "
      ]
     },
     "execution_count": 10,
     "metadata": {},
     "output_type": "execute_result"
    }
   ],
   "source": [
    "df"
   ]
  },
  {
   "cell_type": "markdown",
   "metadata": {
    "slideshow": {
     "slide_type": "slide"
    }
   },
   "source": [
    "## How to show it"
   ]
  },
  {
   "cell_type": "markdown",
   "metadata": {
    "slideshow": {
     "slide_type": "fragment"
    }
   },
   "source": [
    "- Download as html"
   ]
  },
  {
   "cell_type": "markdown",
   "metadata": {
    "slideshow": {
     "slide_type": "fragment"
    }
   },
   "source": [
    "- jupyter nbconvert "
   ]
  },
  {
   "cell_type": "markdown",
   "metadata": {
    "slideshow": {
     "slide_type": "fragment"
    }
   },
   "source": [
    "- Via rise for interactive presentations"
   ]
  },
  {
   "cell_type": "markdown",
   "metadata": {
    "slideshow": {
     "slide_type": "slide"
    }
   },
   "source": [
    "## More customisations"
   ]
  },
  {
   "cell_type": "markdown",
   "metadata": {
    "slideshow": {
     "slide_type": "fragment"
    }
   },
   "source": [
    "- Themes\n"
   ]
  },
  {
   "cell_type": "markdown",
   "metadata": {
    "slideshow": {
     "slide_type": "fragment"
    }
   },
   "source": [
    "- Animation"
   ]
  },
  {
   "cell_type": "markdown",
   "metadata": {
    "slideshow": {
     "slide_type": "fragment"
    }
   },
   "source": [
    "- [More](https://www.youtube.com/watch?v=Gx2TnIdt0hw)"
   ]
  },
  {
   "cell_type": "markdown",
   "metadata": {
    "slideshow": {
     "slide_type": "subslide"
    }
   },
   "source": [
    "## Themes"
   ]
  },
  {
   "cell_type": "markdown",
   "metadata": {
    "slideshow": {
     "slide_type": "fragment"
    }
   },
   "source": [
    "<table>\n",
    "<th>Name</th><th>Effect</th>\n",
    "<tr><td>black</td><td>Black background, white text, blue links (default)</td>\n",
    "<tr><td>white</td><td>White background, black text, blue links</td>\n",
    "<tr><td>league</td><td>Gray background, white text, blue links</td>\n",
    "<tr><td>beige</td><td>Beige background, dark text, brown links</td>\n",
    "<tr><td>sky</td><td>Blue background, thin dark text, blue links</td>\n",
    "<tr><td>night</td><td>Black background, thick white text, orange links</td>\n",
    "<tr><td>serif</td><td>Cappuccino background, gray text, brown links</td>\n",
    "<tr><td>simple</td><td>White background, black text, blue links</td>\n",
    "<tr><td>solarized</td><td>Cream-colored background, dark green text, blue links</td>\n",
    "<tr><td>blood</td><td>Dark background, thick white text, red links</td>\n",
    "<tr><td>moon</td><td>Dark blue background, thick grey text, blue links</td>\n",
    "</table>"
   ]
  },
  {
   "cell_type": "markdown",
   "metadata": {
    "slideshow": {
     "slide_type": "fragment"
    }
   },
   "source": [
    "jupyter nbconvert my_slide.ipynb --to slides --post serve --SlidesExporter.reveal_theme=beige"
   ]
  },
  {
   "cell_type": "markdown",
   "metadata": {
    "slideshow": {
     "slide_type": "slide"
    }
   },
   "source": [
    "## Bonus - Exporting to medium"
   ]
  },
  {
   "cell_type": "markdown",
   "metadata": {
    "slideshow": {
     "slide_type": "fragment"
    }
   },
   "source": [
    "- pip install jupyter_to_medium"
   ]
  },
  {
   "cell_type": "markdown",
   "metadata": {
    "slideshow": {
     "slide_type": "fragment"
    }
   },
   "source": [
    "- Email yourfriends@medium.com to get integration token"
   ]
  },
  {
   "cell_type": "markdown",
   "metadata": {
    "slideshow": {
     "slide_type": "fragment"
    }
   },
   "source": [
    "- Deploy as medium"
   ]
  },
  {
   "cell_type": "code",
   "execution_count": null,
   "metadata": {},
   "outputs": [],
   "source": []
  },
  {
   "cell_type": "code",
   "execution_count": null,
   "metadata": {},
   "outputs": [],
   "source": []
  },
  {
   "cell_type": "code",
   "execution_count": null,
   "metadata": {},
   "outputs": [],
   "source": []
  }
 ],
 "metadata": {
  "kernelspec": {
   "display_name": "Python 3",
   "language": "python",
   "name": "python3"
  },
  "language_info": {
   "codemirror_mode": {
    "name": "ipython",
    "version": 3
   },
   "file_extension": ".py",
   "mimetype": "text/x-python",
   "name": "python",
   "nbconvert_exporter": "python",
   "pygments_lexer": "ipython3",
   "version": "3.8.8"
  }
 },
 "nbformat": 4,
 "nbformat_minor": 4
}
