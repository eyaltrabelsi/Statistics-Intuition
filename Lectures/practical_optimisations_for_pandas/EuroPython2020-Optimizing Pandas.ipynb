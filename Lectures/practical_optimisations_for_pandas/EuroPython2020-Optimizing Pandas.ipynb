{
 "cells": [
  {
   "cell_type": "markdown",
   "metadata": {
    "slideshow": {
     "slide_type": "slide"
    }
   },
   "source": [
    "# Practical Optimisations for Pandas 🐼\n",
    "## Eyal Trabelsi"
   ]
  },
  {
   "cell_type": "markdown",
   "metadata": {
    "slideshow": {
     "slide_type": "slide"
    }
   },
   "source": [
    "# About Me 🙈\n"
   ]
  },
  {
   "cell_type": "markdown",
   "metadata": {
    "slideshow": {
     "slide_type": "fragment"
    }
   },
   "source": [
    "- Software Engineer at Salesforce 👷"
   ]
  },
  {
   "cell_type": "markdown",
   "metadata": {
    "slideshow": {
     "slide_type": "fragment"
    }
   },
   "source": [
    "- Big passion for python, data and performance optimisations 🐍🤖"
   ]
  },
  {
   "cell_type": "markdown",
   "metadata": {
    "slideshow": {
     "slide_type": "fragment"
    }
   },
   "source": [
    "- Online at [medium](https://medium.com/@Eyaltra) | [twitter](https://twitter.com/eyaltra) 🌐"
   ]
  },
  {
   "cell_type": "markdown",
   "metadata": {
    "slideshow": {
     "slide_type": "slide"
    }
   },
   "source": [
    "# What's Pandas?🐼\n"
   ]
  },
  {
   "cell_type": "markdown",
   "metadata": {
    "slideshow": {
     "slide_type": "fragment"
    }
   },
   "source": [
    "- Library for data manipulation"
   ]
  },
  {
   "cell_type": "markdown",
   "metadata": {
    "slideshow": {
     "slide_type": "fragment"
    }
   },
   "source": [
    "- Dataset on Memory"
   ]
  },
  {
   "cell_type": "markdown",
   "metadata": {
    "slideshow": {
     "slide_type": "fragment"
    }
   },
   "source": [
    "- Widely used "
   ]
  },
  {
   "cell_type": "markdown",
   "metadata": {
    "slideshow": {
     "slide_type": "slide"
    }
   },
   "source": [
    "# Performance?! Why ?🤨"
   ]
  },
  {
   "cell_type": "markdown",
   "metadata": {
    "slideshow": {
     "slide_type": "fragment"
    }
   },
   "source": [
    "- Fast is better than slow 🐇\n"
   ]
  },
  {
   "cell_type": "markdown",
   "metadata": {
    "slideshow": {
     "slide_type": "fragment"
    }
   },
   "source": [
    "- Memory efficiency is good 💾\n"
   ]
  },
  {
   "cell_type": "markdown",
   "metadata": {
    "slideshow": {
     "slide_type": "fragment"
    }
   },
   "source": [
    "- Saving money is awesome [💸](https://aws.amazon.com/ec2/pricing/on-demand/)\n"
   ]
  },
  {
   "cell_type": "markdown",
   "metadata": {
    "slideshow": {
     "slide_type": "fragment"
    }
   },
   "source": [
    "- Hardware will only take you so far 💻"
   ]
  },
  {
   "cell_type": "markdown",
   "metadata": {
    "slideshow": {
     "slide_type": "subslide"
    }
   },
   "source": [
    "![](https://vignette.wikia.nocookie.net/memepediadankmemes/images/8/80/Acb.jpg/revision/latest/scale-to-width-down/340?cb=20180822064733)"
   ]
  },
  {
   "cell_type": "markdown",
   "metadata": {
    "slideshow": {
     "slide_type": "notes"
    }
   },
   "source": [
    "- Ok now that i have got you attention, the next question i want to tackle is when should we optimize our code"
   ]
  },
  {
   "cell_type": "markdown",
   "metadata": {
    "slideshow": {
     "slide_type": "slide"
    }
   },
   "source": [
    "# When ⏰"
   ]
  },
  {
   "cell_type": "markdown",
   "metadata": {
    "slideshow": {
     "slide_type": "notes"
    }
   },
   "source": [
    "- since program readability is our top priority, as python aim to make the programmer life easier, we should only optimize our code when needed.\n",
    "\n",
    "- so  in other words All optimization are premature.\n",
    "- unless\n"
   ]
  },
  {
   "cell_type": "markdown",
   "metadata": {
    "slideshow": {
     "slide_type": "fragment"
    }
   },
   "source": [
    "- Program doesn't meet requirements 🚔\n"
   ]
  },
  {
   "cell_type": "markdown",
   "metadata": {
    "slideshow": {
     "slide_type": "notes"
    }
   },
   "source": [
    "- wheter its too slow for the user\n",
    "- or whether its take too much memory"
   ]
  },
  {
   "cell_type": "markdown",
   "metadata": {
    "slideshow": {
     "slide_type": "fragment"
    }
   },
   "source": [
    "- Program execution affects development pace 👷"
   ]
  },
  {
   "cell_type": "markdown",
   "metadata": {
    "slideshow": {
     "slide_type": "fragment"
    }
   },
   "source": [
    "- [Only bottlenecks](https://www.youtube.com/watch?v=DUCMjsrYSrQ)"
   ]
  },
  {
   "cell_type": "markdown",
   "metadata": {
    "slideshow": {
     "slide_type": "notes"
    }
   },
   "source": [
    "- We should only optimize the program bottlenecks\n",
    "- whether memory and execution time in order to be productive\n",
    "- There is a great talk about how it can be done using profiling and the link is provieded"
   ]
  },
  {
   "cell_type": "markdown",
   "metadata": {
    "slideshow": {
     "slide_type": "fragment"
    }
   },
   "source": [
    "- [Well Tested](https://www.youtube.com/watch?v=ARKbfWk4Xyw)"
   ]
  },
  {
   "cell_type": "markdown",
   "metadata": {
    "slideshow": {
     "slide_type": "notes"
    }
   },
   "source": [
    "- Like every refactoring task, you want to have same behaviour and return the same restult.\n",
    "- The best way to feel safe while refactoring is  by writting tests"
   ]
  },
  {
   "cell_type": "markdown",
   "metadata": {
    "slideshow": {
     "slide_type": "subslide"
    }
   },
   "source": [
    "![](https://i.redd.it/8ku1ygqwuuj11.jpg)"
   ]
  },
  {
   "cell_type": "markdown",
   "metadata": {
    "slideshow": {
     "slide_type": "notes"
    }
   },
   "source": [
    "- altough people mostly think the problem lays in python realms its not actually the case and i will show it to you today"
   ]
  },
  {
   "cell_type": "markdown",
   "metadata": {
    "slideshow": {
     "slide_type": "subslide"
    }
   },
   "source": [
    "![](https://i.chzbgr.com/full/9093474560/hA8EAB03B/panda-darth-panda-finds-your-lack-of-faith-disturbing-wckpemecom)"
   ]
  },
  {
   "cell_type": "markdown",
   "metadata": {
    "slideshow": {
     "slide_type": "notes"
    }
   },
   "source": [
    "- so hopefully now that i have gained your trust \n",
    "- we can tackle  The one milion dollar question.\n",
    "- how can we optimize our pandas code.\n"
   ]
  },
  {
   "cell_type": "markdown",
   "metadata": {
    "slideshow": {
     "slide_type": "slide"
    }
   },
   "source": [
    "# Dataset 📉"
   ]
  },
  {
   "cell_type": "code",
   "execution_count": 60,
   "metadata": {
    "slideshow": {
     "slide_type": "skip"
    }
   },
   "outputs": [
    {
     "name": "stdout",
     "output_type": "stream",
     "text": [
      "Requirement already satisfied: numba in /opt/conda/lib/python3.7/site-packages (0.45.1)\n",
      "Requirement already satisfied: numexpr in /opt/conda/lib/python3.7/site-packages (2.6.9)\n",
      "Requirement already satisfied: numpy in /opt/conda/lib/python3.7/site-packages (from numba) (1.17.3)\n",
      "Requirement already satisfied: llvmlite>=0.29.0dev0 in /opt/conda/lib/python3.7/site-packages (from numba) (0.29.0)\n"
     ]
    }
   ],
   "source": [
    "! pip install numba numexpr"
   ]
  },
  {
   "cell_type": "code",
   "execution_count": 6,
   "metadata": {
    "slideshow": {
     "slide_type": "skip"
    }
   },
   "outputs": [],
   "source": [
    "import math\n",
    "import time\n",
    "import warnings\n",
    "from dateutil.parser import parse\n",
    "\n",
    "import janitor\n",
    "import numpy as np\n",
    "import pandas as pd\n",
    "from numba import jit\n",
    "from sklearn import datasets\n",
    "from pandas.api.types import is_datetime64_any_dtype as is_datetime"
   ]
  },
  {
   "cell_type": "code",
   "execution_count": 7,
   "metadata": {
    "slideshow": {
     "slide_type": "skip"
    }
   },
   "outputs": [],
   "source": [
    "warnings.filterwarnings(\"ignore\", category=pd.errors.DtypeWarning)\n",
    "pd.options.display.max_columns = 999"
   ]
  },
  {
   "cell_type": "code",
   "execution_count": 8,
   "metadata": {
    "slideshow": {
     "slide_type": "skip"
    }
   },
   "outputs": [],
   "source": [
    "path = 'https://raw.githubusercontent.com/FBosler/you-datascientist/master/invoices.csv'\n",
    "\n",
    "def load_dataset(naivly=False):\n",
    "    df = (pd.concat([pd.read_csv(path)\n",
    "                       .clean_names()\n",
    "                       .remove_columns([\"meal_id\", \"company_id\"]) \n",
    "                     for i in range(20)])\n",
    "            .assign(meal_tip=lambda x: x.meal_price.map(lambda x: x * 0.2))\n",
    "            .astype({\"meal_price\": int})\n",
    "            .rename(columns={\"meal_price\": \"meal_price_with_tip\"}))\n",
    "\n",
    "    if naivly:\n",
    "        for col in df.columns:\n",
    "            df[col] = df[col].astype(object)\n",
    "    return df"
   ]
  },
  {
   "cell_type": "code",
   "execution_count": 9,
   "metadata": {
    "slideshow": {
     "slide_type": "fragment"
    }
   },
   "outputs": [
    {
     "data": {
      "text/html": [
       "<div>\n",
       "<style scoped>\n",
       "    .dataframe tbody tr th:only-of-type {\n",
       "        vertical-align: middle;\n",
       "    }\n",
       "\n",
       "    .dataframe tbody tr th {\n",
       "        vertical-align: top;\n",
       "    }\n",
       "\n",
       "    .dataframe thead th {\n",
       "        text-align: right;\n",
       "    }\n",
       "</style>\n",
       "<table border=\"1\" class=\"dataframe\">\n",
       "  <thead>\n",
       "    <tr style=\"text-align: right;\">\n",
       "      <th></th>\n",
       "      <th>order_id</th>\n",
       "      <th>date</th>\n",
       "      <th>date_of_meal</th>\n",
       "      <th>participants</th>\n",
       "      <th>meal_price</th>\n",
       "      <th>type_of_meal</th>\n",
       "      <th>heroes_adjustment</th>\n",
       "      <th>meal_tip</th>\n",
       "    </tr>\n",
       "  </thead>\n",
       "  <tbody>\n",
       "    <tr>\n",
       "      <th>0</th>\n",
       "      <td>839FKFW2LLX4LMBB</td>\n",
       "      <td>2016-05-27</td>\n",
       "      <td>2016-05-31 07:00:00+02:00</td>\n",
       "      <td>['David Bishop']</td>\n",
       "      <td>469</td>\n",
       "      <td>Breakfast</td>\n",
       "      <td>False</td>\n",
       "      <td>93.8</td>\n",
       "    </tr>\n",
       "    <tr>\n",
       "      <th>1</th>\n",
       "      <td>97OX39BGVMHODLJM</td>\n",
       "      <td>2018-09-27</td>\n",
       "      <td>2018-10-01 20:00:00+02:00</td>\n",
       "      <td>['David Bishop']</td>\n",
       "      <td>22</td>\n",
       "      <td>Dinner</td>\n",
       "      <td>False</td>\n",
       "      <td>4.4</td>\n",
       "    </tr>\n",
       "    <tr>\n",
       "      <th>2</th>\n",
       "      <td>041ORQM5OIHTIU6L</td>\n",
       "      <td>2014-08-24</td>\n",
       "      <td>2014-08-23 14:00:00+02:00</td>\n",
       "      <td>['Karen Stansell']</td>\n",
       "      <td>314</td>\n",
       "      <td>Lunch</td>\n",
       "      <td>False</td>\n",
       "      <td>62.8</td>\n",
       "    </tr>\n",
       "    <tr>\n",
       "      <th>3</th>\n",
       "      <td>YT796QI18WNGZ7ZJ</td>\n",
       "      <td>2014-04-12</td>\n",
       "      <td>2014-04-07 21:00:00+02:00</td>\n",
       "      <td>['Addie Patino']</td>\n",
       "      <td>438</td>\n",
       "      <td>Dinner</td>\n",
       "      <td>False</td>\n",
       "      <td>87.6</td>\n",
       "    </tr>\n",
       "    <tr>\n",
       "      <th>4</th>\n",
       "      <td>6YLROQT27B6HRF4E</td>\n",
       "      <td>2015-07-28</td>\n",
       "      <td>2015-07-27 14:00:00+02:00</td>\n",
       "      <td>['Addie Patino' 'Susan Guerrero']</td>\n",
       "      <td>690</td>\n",
       "      <td>Lunch</td>\n",
       "      <td>False</td>\n",
       "      <td>138.0</td>\n",
       "    </tr>\n",
       "  </tbody>\n",
       "</table>\n",
       "</div>"
      ],
      "text/plain": [
       "           order_id        date               date_of_meal  \\\n",
       "0  839FKFW2LLX4LMBB  2016-05-27  2016-05-31 07:00:00+02:00   \n",
       "1  97OX39BGVMHODLJM  2018-09-27  2018-10-01 20:00:00+02:00   \n",
       "2  041ORQM5OIHTIU6L  2014-08-24  2014-08-23 14:00:00+02:00   \n",
       "3  YT796QI18WNGZ7ZJ  2014-04-12  2014-04-07 21:00:00+02:00   \n",
       "4  6YLROQT27B6HRF4E  2015-07-28  2015-07-27 14:00:00+02:00   \n",
       "\n",
       "                        participants  meal_price type_of_meal  \\\n",
       "0                   ['David Bishop']         469    Breakfast   \n",
       "1                   ['David Bishop']          22       Dinner   \n",
       "2                 ['Karen Stansell']         314        Lunch   \n",
       "3                   ['Addie Patino']         438       Dinner   \n",
       "4  ['Addie Patino' 'Susan Guerrero']         690        Lunch   \n",
       "\n",
       "   heroes_adjustment  meal_tip  \n",
       "0              False      93.8  \n",
       "1              False       4.4  \n",
       "2              False      62.8  \n",
       "3              False      87.6  \n",
       "4              False     138.0  "
      ]
     },
     "execution_count": 9,
     "metadata": {},
     "output_type": "execute_result"
    }
   ],
   "source": [
    "df = load_dataset()\n",
    "df.head()"
   ]
  },
  {
   "cell_type": "markdown",
   "metadata": {
    "slideshow": {
     "slide_type": "notes"
    }
   },
   "source": [
    "- Our dataset is a row 1m data that contain meal invoices\n",
    "- Before i begin its important to state that all these optimization depends on the size of your data and for small dataset these optimizations might be irelevant\n"
   ]
  },
  {
   "cell_type": "markdown",
   "metadata": {
    "slideshow": {
     "slide_type": "slide"
    }
   },
   "source": [
    "# How 👀"
   ]
  },
  {
   "cell_type": "markdown",
   "metadata": {
    "slideshow": {
     "slide_type": "slide"
    }
   },
   "source": [
    "# Use What You Need 🧑"
   ]
  },
  {
   "cell_type": "markdown",
   "metadata": {
    "slideshow": {
     "slide_type": "fragment"
    }
   },
   "source": [
    "- Keep needed columns only"
   ]
  },
  {
   "cell_type": "markdown",
   "metadata": {
    "slideshow": {
     "slide_type": "notes"
    }
   },
   "source": [
    "- For many use cases you dont actually need the entire dataset\n",
    "- There might be unneeded columns which we dont use in our analysis or data manipulation and this can save a lot of memory"
   ]
  },
  {
   "cell_type": "markdown",
   "metadata": {
    "slideshow": {
     "slide_type": "fragment"
    }
   },
   "source": [
    "- Keep needed rows only"
   ]
  },
  {
   "cell_type": "markdown",
   "metadata": {
    "slideshow": {
     "slide_type": "notes"
    }
   },
   "source": [
    "- again For many usecase you dont need all the rows.\n",
    "- For example if you want to understand the dataset layout you dont need all 1m rows\n",
    "- this will reduce both your memory footprint and execution time"
   ]
  },
  {
   "cell_type": "markdown",
   "metadata": {
    "slideshow": {
     "slide_type": "subslide"
    }
   },
   "source": [
    "![](https://i.pinimg.com/originals/66/79/8a/66798a0940a01c4ccc5c2be810d8a678.jpg)"
   ]
  },
  {
   "cell_type": "markdown",
   "metadata": {
    "slideshow": {
     "slide_type": "slide"
    }
   },
   "source": [
    "# Dont Reinvent the Wheel 🎡"
   ]
  },
  {
   "cell_type": "markdown",
   "metadata": {
    "slideshow": {
     "slide_type": "fragment"
    }
   },
   "source": [
    "- Vast ecosystem"
   ]
  },
  {
   "cell_type": "markdown",
   "metadata": {
    "slideshow": {
     "slide_type": "fragment"
    }
   },
   "source": [
    "- Use existing solutions"
   ]
  },
  {
   "cell_type": "markdown",
   "metadata": {
    "slideshow": {
     "slide_type": "fragment"
    }
   },
   "source": [
    "- Less bugs"
   ]
  },
  {
   "cell_type": "markdown",
   "metadata": {
    "slideshow": {
     "slide_type": "fragment"
    }
   },
   "source": [
    "- Highly optimized"
   ]
  },
  {
   "cell_type": "markdown",
   "metadata": {
    "slideshow": {
     "slide_type": "notes"
    }
   },
   "source": [
    "- For example instead of implmenting kmeans by your own\n",
    "- use scipy/sckitlearn implementation, not only you will have less bugs\n",
    "- but it will probably be highly optimized"
   ]
  },
  {
   "cell_type": "markdown",
   "metadata": {
    "slideshow": {
     "slide_type": "subslide"
    }
   },
   "source": [
    "![](https://i.imgflip.com/1px0z1.jpg)"
   ]
  },
  {
   "cell_type": "markdown",
   "metadata": {
    "slideshow": {
     "slide_type": "slide"
    }
   },
   "source": [
    "# Avoid Loops ♾"
   ]
  },
  {
   "cell_type": "markdown",
   "metadata": {
    "slideshow": {
     "slide_type": "notes"
    }
   },
   "source": [
    "- Pandas is design for vector manipulations Which make loops inefficient\n",
    "- a Rookie mistake in pandas will be to just loop over all the rows\" either using iterows or regular iterations"
   ]
  },
  {
   "cell_type": "markdown",
   "metadata": {
    "slideshow": {
     "slide_type": "fragment"
    }
   },
   "source": [
    "### Bad Option 😈"
   ]
  },
  {
   "cell_type": "code",
   "execution_count": 1,
   "metadata": {
    "slideshow": {
     "slide_type": "fragment"
    }
   },
   "outputs": [],
   "source": [
    "def iterrows_original_meal_price(df):\n",
    "    for i, row in df.iterrows():\n",
    "        df.loc[i][\"original_meal_price\"] = row[\"meal_price_with_tip\"] - row[\"meal_tip\"]\n",
    "    return df"
   ]
  },
  {
   "cell_type": "code",
   "execution_count": 5,
   "metadata": {
    "slideshow": {
     "slide_type": "fragment"
    }
   },
   "outputs": [
    {
     "name": "stdout",
     "output_type": "stream",
     "text": [
      "35min 13s ± 0 ns per loop (mean ± std. dev. of 1 run, 1 loop each)\n"
     ]
    }
   ],
   "source": [
    "%%timeit -r 1 -n 1\n",
    "iterrows_original_meal_price(df)"
   ]
  },
  {
   "cell_type": "markdown",
   "metadata": {
    "slideshow": {
     "slide_type": "notes"
    }
   },
   "source": [
    "- As you might guessed this bring us  unsatisfied results of half an hour.\n",
    "- there is a much Nicer way and  it is to use map or apply."
   ]
  },
  {
   "cell_type": "markdown",
   "metadata": {
    "slideshow": {
     "slide_type": "subslide"
    }
   },
   "source": [
    "### Better Option 🤵"
   ]
  },
  {
   "cell_type": "markdown",
   "metadata": {
    "slideshow": {
     "slide_type": "notes"
    }
   },
   "source": [
    "- apply accepts any user defined function that applies a transformation/aggregation on a DataFrame. "
   ]
  },
  {
   "cell_type": "code",
   "execution_count": 4,
   "metadata": {
    "slideshow": {
     "slide_type": "fragment"
    }
   },
   "outputs": [],
   "source": [
    "def apply_original_meal_price(df):\n",
    "    df[\"original_meal_price\"] = df.apply(lambda x: x['meal_price_with_tip'] - x['meal_tip'], axis=1)\n",
    "    return df"
   ]
  },
  {
   "cell_type": "code",
   "execution_count": 5,
   "metadata": {
    "slideshow": {
     "slide_type": "fragment"
    }
   },
   "outputs": [
    {
     "name": "stdout",
     "output_type": "stream",
     "text": [
      "22.5 s ± 170 ms per loop (mean ± std. dev. of 7 runs, 1 loop each)\n"
     ]
    }
   ],
   "source": [
    "%%timeit \n",
    "apply_original_meal_price(df)"
   ]
  },
  {
   "cell_type": "markdown",
   "metadata": {
    "slideshow": {
     "slide_type": "notes"
    }
   },
   "source": [
    "- As we can the performance look better as it took 21 seconds and about 100 times faster then iterows \n",
    "- but can we do any better? The obvious answer is yes using vectorization"
   ]
  },
  {
   "cell_type": "markdown",
   "metadata": {
    "slideshow": {
     "slide_type": "subslide"
    }
   },
   "source": [
    "## 100x Improvement In Execution Time ⌛"
   ]
  },
  {
   "cell_type": "markdown",
   "metadata": {
    "slideshow": {
     "slide_type": "fragment"
    }
   },
   "source": [
    "## Iterrow is evil 😈"
   ]
  },
  {
   "cell_type": "markdown",
   "metadata": {
    "slideshow": {
     "slide_type": "subslide"
    }
   },
   "source": [
    "### Best Option 👼"
   ]
  },
  {
   "cell_type": "code",
   "execution_count": 65,
   "metadata": {
    "slideshow": {
     "slide_type": "fragment"
    }
   },
   "outputs": [],
   "source": [
    "def vectorized_original_meal_price(df):\n",
    "    df[\"original_meal_price\"] = df[\"meal_price_with_tip\"] - df[\"meal_tip\"] \n",
    "    return df"
   ]
  },
  {
   "cell_type": "markdown",
   "metadata": {
    "slideshow": {
     "slide_type": "notes"
    }
   },
   "source": [
    "- Vectorization is the process of executing operations on entire arrays.\n",
    "- Pandas/numpy/scipy includes a generous collection of vectorized functions from mathematical operations to aggregations."
   ]
  },
  {
   "cell_type": "code",
   "execution_count": 66,
   "metadata": {
    "slideshow": {
     "slide_type": "fragment"
    }
   },
   "outputs": [
    {
     "name": "stdout",
     "output_type": "stream",
     "text": [
      "2.46 ms ± 18.1 µs per loop (mean ± std. dev. of 7 runs, 100 loops each)\n"
     ]
    }
   ],
   "source": [
    "%%timeit \n",
    "vectorized_original_meal_price(df)"
   ]
  },
  {
   "cell_type": "markdown",
   "metadata": {
    "slideshow": {
     "slide_type": "notes"
    }
   },
   "source": [
    "- We can see the benefit of vetorized function right away we got from  to 2ms and about 100,00.\n"
   ]
  },
  {
   "cell_type": "markdown",
   "metadata": {
    "slideshow": {
     "slide_type": "subslide"
    }
   },
   "source": [
    "## Another 8000x Improvement In Execution Time ⌛"
   ]
  },
  {
   "cell_type": "markdown",
   "metadata": {
    "slideshow": {
     "slide_type": "fragment"
    }
   },
   "source": [
    "## Use Vectorized Operations 😇"
   ]
  },
  {
   "cell_type": "markdown",
   "metadata": {
    "slideshow": {
     "slide_type": "slide"
    }
   },
   "source": [
    "# Picking the Right Type 🌈"
   ]
  },
  {
   "cell_type": "markdown",
   "metadata": {
    "slideshow": {
     "slide_type": "subslide"
    }
   },
   "source": [
    "## Motivation 🏆"
   ]
  },
  {
   "cell_type": "code",
   "execution_count": 67,
   "metadata": {
    "slideshow": {
     "slide_type": "fragment"
    }
   },
   "outputs": [
    {
     "data": {
      "text/plain": [
       "array([1., 1., 1., ..., 1., 1., 1.])"
      ]
     },
     "execution_count": 67,
     "metadata": {},
     "output_type": "execute_result"
    }
   ],
   "source": [
    "ones = np.ones(shape=5000)\n",
    "ones"
   ]
  },
  {
   "cell_type": "code",
   "execution_count": 84,
   "metadata": {
    "slideshow": {
     "slide_type": "fragment"
    }
   },
   "outputs": [
    {
     "data": {
      "text/plain": [
       "object        160000\n",
       "complex128     80000\n",
       "float64        40000\n",
       "int64          40000\n",
       "int32          20000\n",
       "int16          10000\n",
       "int8            5000\n",
       "bool            5000\n",
       "dtype: int64"
      ]
     },
     "execution_count": 84,
     "metadata": {},
     "output_type": "execute_result"
    }
   ],
   "source": [
    "types = ['object', 'complex128', 'float64', 'int64', 'int32', 'int16', 'int8', 'bool']\n",
    "df = pd.DataFrame(dict([(t, ones.astype(t)) for t in types]))\n",
    "df.memory_usage(index=False, deep=True)"
   ]
  },
  {
   "cell_type": "markdown",
   "metadata": {
    "slideshow": {
     "slide_type": "subslide"
    }
   },
   "source": [
    "## Where We Stand 🌈"
   ]
  },
  {
   "cell_type": "code",
   "execution_count": 69,
   "metadata": {
    "slideshow": {
     "slide_type": "skip"
    }
   },
   "outputs": [],
   "source": [
    "df = load_dataset(naivly=True)"
   ]
  },
  {
   "cell_type": "markdown",
   "metadata": {
    "slideshow": {
     "slide_type": "fragment"
    }
   },
   "source": [
    "### Dataframe Size 🏋️"
   ]
  },
  {
   "cell_type": "code",
   "execution_count": 70,
   "metadata": {
    "slideshow": {
     "slide_type": "fragment"
    }
   },
   "outputs": [
    {
     "data": {
      "text/plain": [
       "478844140"
      ]
     },
     "execution_count": 70,
     "metadata": {},
     "output_type": "execute_result"
    }
   ],
   "source": [
    "df.memory_usage(deep=True).sum()"
   ]
  },
  {
   "cell_type": "markdown",
   "metadata": {
    "slideshow": {
     "slide_type": "fragment"
    }
   },
   "source": [
    "### Columns Sizes 🏋️"
   ]
  },
  {
   "cell_type": "code",
   "execution_count": 71,
   "metadata": {
    "slideshow": {
     "slide_type": "fragment"
    }
   },
   "outputs": [
    {
     "data": {
      "text/plain": [
       "Index                 8002720\n",
       "order_id             73024820\n",
       "date                 67022780\n",
       "date_of_meal         82027880\n",
       "participants         84977580\n",
       "meal_price           36012240\n",
       "type_of_meal         63688760\n",
       "heroes_adjustment    32076480\n",
       "meal_tip             32010880\n",
       "dtype: int64"
      ]
     },
     "execution_count": 71,
     "metadata": {},
     "output_type": "execute_result"
    }
   ],
   "source": [
    "df.memory_usage(deep=True)"
   ]
  },
  {
   "cell_type": "code",
   "execution_count": 72,
   "metadata": {
    "slideshow": {
     "slide_type": "skip"
    }
   },
   "outputs": [
    {
     "data": {
      "text/plain": [
       "order_id             object\n",
       "date                 object\n",
       "date_of_meal         object\n",
       "participants         object\n",
       "meal_price           object\n",
       "type_of_meal         object\n",
       "heroes_adjustment    object\n",
       "meal_tip             object\n",
       "dtype: object"
      ]
     },
     "execution_count": 72,
     "metadata": {},
     "output_type": "execute_result"
    }
   ],
   "source": [
    "df.dtypes"
   ]
  },
  {
   "cell_type": "markdown",
   "metadata": {
    "slideshow": {
     "slide_type": "notes"
    }
   },
   "source": [
    "- I hope its clear that the type of the column effect the memory foot print.\n",
    "- There is a great picture explain"
   ]
  },
  {
   "cell_type": "markdown",
   "metadata": {
    "slideshow": {
     "slide_type": "subslide"
    }
   },
   "source": [
    "## Supported Types 🌈"
   ]
  },
  {
   "cell_type": "markdown",
   "metadata": {
    "slideshow": {
     "slide_type": "fragment"
    }
   },
   "source": [
    "- int64 \n"
   ]
  },
  {
   "cell_type": "markdown",
   "metadata": {
    "slideshow": {
     "slide_type": "fragment"
    }
   },
   "source": [
    "- float64"
   ]
  },
  {
   "cell_type": "markdown",
   "metadata": {
    "slideshow": {
     "slide_type": "fragment"
    }
   },
   "source": [
    "- bool"
   ]
  },
  {
   "cell_type": "markdown",
   "metadata": {
    "slideshow": {
     "slide_type": "fragment"
    }
   },
   "source": [
    "- objects\n"
   ]
  },
  {
   "cell_type": "markdown",
   "metadata": {
    "slideshow": {
     "slide_type": "fragment"
    }
   },
   "source": [
    "- datetime64\n"
   ]
  },
  {
   "cell_type": "markdown",
   "metadata": {
    "slideshow": {
     "slide_type": "fragment"
    }
   },
   "source": [
    "- timedelta"
   ]
  },
  {
   "cell_type": "markdown",
   "metadata": {
    "slideshow": {
     "slide_type": "fragment"
    }
   },
   "source": [
    "- [Category](https://pandas.pydata.org/pandas-docs/stable/user_guide/categorical.html)"
   ]
  },
  {
   "cell_type": "markdown",
   "metadata": {
    "slideshow": {
     "slide_type": "notes"
    }
   },
   "source": [
    "- The category type is good when the same elements occur over and over again.\n",
    "- and its New in version 0.23.0."
   ]
  },
  {
   "cell_type": "markdown",
   "metadata": {
    "slideshow": {
     "slide_type": "fragment"
    }
   },
   "source": [
    "- [Sparse Types](https://pandas.pydata.org/docs/user_guide/sparse.html)\n"
   ]
  },
  {
   "cell_type": "markdown",
   "metadata": {
    "slideshow": {
     "slide_type": "notes"
    }
   },
   "source": [
    "- The sparse types is good when most of the array includes nulls.\n",
    "- and its New in version 0.24.0"
   ]
  },
  {
   "cell_type": "markdown",
   "metadata": {
    "slideshow": {
     "slide_type": "fragment"
    }
   },
   "source": [
    "- [Nullable Integer](https://pandas.pydata.org/docs/user_guide/integer_na.html)/[Nullable Bolean](https://pandas.pydata.org/docs/user_guide/boolean.html)\n"
   ]
  },
  {
   "cell_type": "markdown",
   "metadata": {
    "slideshow": {
     "slide_type": "notes"
    }
   },
   "source": [
    "- The Nullable type is good when element are integer/boolean and includes nulls.\n",
    "- This is because NaN is a float and it forces the entire array to be cast as float and thus has a bigger memory footprint. \n",
    "- and its New in version 0.24.0"
   ]
  },
  {
   "cell_type": "markdown",
   "metadata": {
    "slideshow": {
     "slide_type": "notes"
    }
   },
   "source": [
    "so its pretty obvious that we should aim for the type that has lowest memory footprint with the same functionality"
   ]
  },
  {
   "cell_type": "markdown",
   "metadata": {
    "slideshow": {
     "slide_type": "subslide"
    }
   },
   "source": [
    "## Optimizing Types 🌈"
   ]
  },
  {
   "cell_type": "markdown",
   "metadata": {
    "slideshow": {
     "slide_type": "fragment"
    }
   },
   "source": [
    "- Loading dataframes with specific types"
   ]
  },
  {
   "cell_type": "markdown",
   "metadata": {
    "slideshow": {
     "slide_type": "fragment"
    }
   },
   "source": [
    "- Use to_numeric/to_datetime/to_timedelta functions with downcast parameter"
   ]
  },
  {
   "cell_type": "markdown",
   "metadata": {
    "slideshow": {
     "slide_type": "-"
    }
   },
   "source": [
    " "
   ]
  },
  {
   "cell_type": "code",
   "execution_count": 11,
   "metadata": {
    "slideshow": {
     "slide_type": "fragment"
    }
   },
   "outputs": [],
   "source": [
    "df = df.astype({'order_id': 'category',\n",
    "                'date': 'category',\n",
    "                'date_of_meal': 'category',\n",
    "                'participants': 'category',\n",
    "                'meal_price': 'int16',\n",
    "                'type_of_meal': 'category',\n",
    "                'heroes_adjustment': 'bool',\n",
    "                'meal_tip': 'float32'})"
   ]
  },
  {
   "cell_type": "markdown",
   "metadata": {
    "slideshow": {
     "slide_type": "subslide"
    }
   },
   "source": [
    "## Optimized Types 🌈"
   ]
  },
  {
   "cell_type": "markdown",
   "metadata": {
    "slideshow": {
     "slide_type": "fragment"
    }
   },
   "source": [
    "### Dataframe Size 🏋️\n"
   ]
  },
  {
   "cell_type": "code",
   "execution_count": 75,
   "metadata": {
    "slideshow": {
     "slide_type": "fragment"
    }
   },
   "outputs": [
    {
     "data": {
      "text/plain": [
       "36999962"
      ]
     },
     "execution_count": 75,
     "metadata": {},
     "output_type": "execute_result"
    }
   ],
   "source": [
    "df.memory_usage(deep=True).sum()"
   ]
  },
  {
   "cell_type": "markdown",
   "metadata": {
    "slideshow": {
     "slide_type": "fragment"
    }
   },
   "source": [
    "### Columns Sizes 🏋️"
   ]
  },
  {
   "cell_type": "code",
   "execution_count": 76,
   "metadata": {
    "slideshow": {
     "slide_type": "fragment"
    }
   },
   "outputs": [
    {
     "data": {
      "text/plain": [
       "Index                8002720\n",
       "order_id             8963321\n",
       "date                 2204942\n",
       "date_of_meal         3942538\n",
       "participants         5883450\n",
       "meal_price           2000680\n",
       "type_of_meal         1000611\n",
       "heroes_adjustment    1000340\n",
       "meal_tip             4001360\n",
       "dtype: int64"
      ]
     },
     "execution_count": 76,
     "metadata": {},
     "output_type": "execute_result"
    }
   ],
   "source": [
    "df.memory_usage(deep=True)"
   ]
  },
  {
   "cell_type": "code",
   "execution_count": 77,
   "metadata": {
    "slideshow": {
     "slide_type": "skip"
    }
   },
   "outputs": [
    {
     "data": {
      "text/plain": [
       "order_id             category\n",
       "date                 category\n",
       "date_of_meal         category\n",
       "participants         category\n",
       "meal_price              int16\n",
       "type_of_meal         category\n",
       "heroes_adjustment        bool\n",
       "meal_tip              float32\n",
       "dtype: object"
      ]
     },
     "execution_count": 77,
     "metadata": {},
     "output_type": "execute_result"
    }
   ],
   "source": [
    "df.dtypes"
   ]
  },
  {
   "cell_type": "markdown",
   "metadata": {
    "slideshow": {
     "slide_type": "subslide"
    }
   },
   "source": [
    "## 12x Improvement In Memory ⌛"
   ]
  },
  {
   "cell_type": "markdown",
   "metadata": {
    "slideshow": {
     "slide_type": "notes"
    }
   },
   "source": [
    "- its important to note that i have loaded the dataframe with very naive types in order to emphasis the change\n",
    "- but in most use cases you could expect to at least halve the memory foot print"
   ]
  },
  {
   "cell_type": "markdown",
   "metadata": {
    "slideshow": {
     "slide_type": "skip"
    }
   },
   "source": [
    "## Types Magic Explanation 🧙\n"
   ]
  },
  {
   "cell_type": "markdown",
   "metadata": {
    "slideshow": {
     "slide_type": "skip"
    }
   },
   "source": [
    "- DataFrame is stored in seperated blocks depending on thier types.\n"
   ]
  },
  {
   "cell_type": "markdown",
   "metadata": {
    "slideshow": {
     "slide_type": "skip"
    }
   },
   "source": [
    "- Under the hood, pandas groups the columns into blocks of values of the same type.\n"
   ]
  },
  {
   "cell_type": "markdown",
   "metadata": {
    "slideshow": {
     "slide_type": "skip"
    }
   },
   "source": [
    "- For blocks representing numeric values like integers and floats, pandas combines the columns and stores them as a NumPy ndarray. Also for extension arrays."
   ]
  },
  {
   "cell_type": "markdown",
   "metadata": {
    "slideshow": {
     "slide_type": "skip"
    }
   },
   "source": [
    "- The NumPy ndarray is built around a C array, and the values are stored in a contiguous block of memory. Due to this storage scheme, accessing a slice of values is incredibly fast."
   ]
  },
  {
   "cell_type": "markdown",
   "metadata": {
    "slideshow": {
     "slide_type": "skip"
    }
   },
   "source": [
    "![](https://www.dataquest.io/wp-content/uploads/2019/01/df_blocks.png)"
   ]
  },
  {
   "cell_type": "markdown",
   "metadata": {
    "slideshow": {
     "slide_type": "subslide"
    }
   },
   "source": [
    "## Custom Types 🦸🏼🦸‍♀️"
   ]
  },
  {
   "cell_type": "markdown",
   "metadata": {
    "slideshow": {
     "slide_type": "notes"
    }
   },
   "source": [
    "- This optimization is for extreme cases as it requires a lot of effort and skills.\n",
    "- basicly its implementing you own custom types using extension array"
   ]
  },
  {
   "cell_type": "markdown",
   "metadata": {
    "slideshow": {
     "slide_type": "fragment"
    }
   },
   "source": [
    "- [Your Own Types](https://www.youtube.com/watch?v=xx7H5EkzQH0)"
   ]
  },
  {
   "cell_type": "markdown",
   "metadata": {
    "slideshow": {
     "slide_type": "fragment"
    }
   },
   "source": [
    "- Open Sourced Types like [cyberpandas](https://github.com/ContinuumIO/cyberpandas) and [geopandas](https://github.com/geopandas/geopandas) "
   ]
  },
  {
   "cell_type": "markdown",
   "metadata": {
    "slideshow": {
     "slide_type": "notes"
    }
   },
   "source": [
    "There are open sourced Types like cyberpandas for ip like objects and geopadnas for spatial like objects\n"
   ]
  },
  {
   "cell_type": "markdown",
   "metadata": {
    "slideshow": {
     "slide_type": "subslide"
    }
   },
   "source": [
    "![](https://i.kym-cdn.com/photos/images/facebook/000/549/339/210.jpg)"
   ]
  },
  {
   "cell_type": "markdown",
   "metadata": {
    "slideshow": {
     "slide_type": "slide"
    }
   },
   "source": [
    "# Pandas Usage 🐼"
   ]
  },
  {
   "cell_type": "markdown",
   "metadata": {
    "slideshow": {
     "slide_type": "subslide"
    }
   },
   "source": [
    "## Chunks 🍰"
   ]
  },
  {
   "cell_type": "markdown",
   "metadata": {
    "slideshow": {
     "slide_type": "fragment"
    }
   },
   "source": [
    "- Splitting large data to smaller parts"
   ]
  },
  {
   "cell_type": "markdown",
   "metadata": {
    "slideshow": {
     "slide_type": "fragment"
    }
   },
   "source": [
    "- Work with large datasets"
   ]
  },
  {
   "cell_type": "code",
   "execution_count": 52,
   "metadata": {
    "slideshow": {
     "slide_type": "skip"
    }
   },
   "outputs": [],
   "source": [
    "def proccess():\n",
    "    pass"
   ]
  },
  {
   "cell_type": "code",
   "execution_count": 53,
   "metadata": {
    "slideshow": {
     "slide_type": "fragment"
    }
   },
   "outputs": [],
   "source": [
    "def proccess_file(huge_file_path, chunksize = 10 ** 6):\n",
    "    for chunk in pd.read_csv(path, chunksize=chunksize):\n",
    "        process(chunk)    "
   ]
  },
  {
   "cell_type": "markdown",
   "metadata": {
    "slideshow": {
     "slide_type": "subslide"
    }
   },
   "source": [
    "## Mean/Sum/Mode/Min/etc optimization 🧮\n"
   ]
  },
  {
   "cell_type": "markdown",
   "metadata": {
    "slideshow": {
     "slide_type": "fragment"
    }
   },
   "source": [
    "- Types matter"
   ]
  },
  {
   "cell_type": "code",
   "execution_count": 32,
   "metadata": {
    "slideshow": {
     "slide_type": "fragment"
    }
   },
   "outputs": [
    {
     "name": "stdout",
     "output_type": "stream",
     "text": [
      "96 ms ± 499 µs per loop (mean ± std. dev. of 7 runs, 10 loops each)\n"
     ]
    }
   ],
   "source": [
    "%%timeit\n",
    "df[\"meal_price_with_tip\"].astype(object).mean()"
   ]
  },
  {
   "cell_type": "code",
   "execution_count": 33,
   "metadata": {
    "slideshow": {
     "slide_type": "fragment"
    }
   },
   "outputs": [
    {
     "name": "stdout",
     "output_type": "stream",
     "text": [
      "4.27 ms ± 34.9 µs per loop (mean ± std. dev. of 7 runs, 100 loops each)\n"
     ]
    }
   ],
   "source": [
    "%%timeit\n",
    "df[\"meal_price_with_tip\"].astype(float).mean()"
   ]
  },
  {
   "cell_type": "markdown",
   "metadata": {
    "slideshow": {
     "slide_type": "fragment"
    }
   },
   "source": [
    "### 20x Performance Improvement⌛"
   ]
  },
  {
   "cell_type": "markdown",
   "metadata": {
    "slideshow": {
     "slide_type": "subslide"
    }
   },
   "source": [
    "## DataFrame Serialization 🏋\n"
   ]
  },
  {
   "cell_type": "markdown",
   "metadata": {
    "slideshow": {
     "slide_type": "fragment"
    }
   },
   "source": [
    "- Various file formats"
   ]
  },
  {
   "cell_type": "markdown",
   "metadata": {
    "slideshow": {
     "slide_type": "fragment"
    }
   },
   "source": [
    "- Loading time\n"
   ]
  },
  {
   "cell_type": "markdown",
   "metadata": {
    "slideshow": {
     "slide_type": "fragment"
    }
   },
   "source": [
    "- Saving time\n"
   ]
  },
  {
   "cell_type": "markdown",
   "metadata": {
    "slideshow": {
     "slide_type": "fragment"
    }
   },
   "source": [
    " - Disk space"
   ]
  },
  {
   "cell_type": "markdown",
   "metadata": {
    "slideshow": {
     "slide_type": "subslide"
    }
   },
   "source": [
    "![](https://miro.medium.com/max/1356/1*6qdaUz8pMFTurG7N14SQjA.png)"
   ]
  },
  {
   "cell_type": "markdown",
   "metadata": {
    "slideshow": {
     "slide_type": "subslide"
    }
   },
   "source": [
    "## Query/Eval 🧬"
   ]
  },
  {
   "cell_type": "markdown",
   "metadata": {
    "slideshow": {
     "slide_type": "fragment"
    }
   },
   "source": [
    "- Use [numexpr](https://pypi.org/project/numexpr/) if installed"
   ]
  },
  {
   "cell_type": "markdown",
   "metadata": {
    "slideshow": {
     "slide_type": "fragment"
    }
   },
   "source": [
    "- Improve Execution Time 👍"
   ]
  },
  {
   "cell_type": "markdown",
   "metadata": {
    "slideshow": {
     "slide_type": "notes"
    }
   },
   "source": [
    "- The expected behaviour is up to 2 time faster"
   ]
  },
  {
   "cell_type": "markdown",
   "metadata": {
    "slideshow": {
     "slide_type": "fragment"
    }
   },
   "source": [
    "- Improve Memory 👍"
   ]
  },
  {
   "cell_type": "markdown",
   "metadata": {
    "slideshow": {
     "slide_type": "skip"
    }
   },
   "source": [
    "- The main benefit of eval/query is the saved memory\n",
    "\n",
    "- NumPy allocate memory to every itermediate step.\n",
    "\n",
    "- and this Gives you the ability to compute this type of compound expression element by element, without the need to allocate full intermediate arrays."
   ]
  },
  {
   "cell_type": "markdown",
   "metadata": {
    "slideshow": {
     "slide_type": "fragment"
    }
   },
   "source": [
    "- Not all Operations are supported 👎"
   ]
  },
  {
   "cell_type": "markdown",
   "metadata": {
    "slideshow": {
     "slide_type": "subslide"
    }
   },
   "source": [
    "## Example"
   ]
  },
  {
   "cell_type": "code",
   "execution_count": 28,
   "metadata": {
    "slideshow": {
     "slide_type": "fragment"
    }
   },
   "outputs": [
    {
     "name": "stdout",
     "output_type": "stream",
     "text": [
      "103 ms ± 348 µs per loop (mean ± std. dev. of 7 runs, 10 loops each)\n"
     ]
    }
   ],
   "source": [
    "%%timeit\n",
    "df[df.type_of_meal==\"Breakfast\"]"
   ]
  },
  {
   "cell_type": "code",
   "execution_count": 29,
   "metadata": {
    "slideshow": {
     "slide_type": "fragment"
    }
   },
   "outputs": [
    {
     "name": "stdout",
     "output_type": "stream",
     "text": [
      "82.4 ms ± 223 µs per loop (mean ± std. dev. of 7 runs, 10 loops each)\n"
     ]
    }
   ],
   "source": [
    "%%timeit\n",
    "df.query(\"type_of_meal=='Breakfast'\")"
   ]
  },
  {
   "cell_type": "markdown",
   "metadata": {
    "slideshow": {
     "slide_type": "subslide"
    }
   },
   "source": [
    "## % 20 Performance Improvement⌛"
   ]
  },
  {
   "cell_type": "markdown",
   "metadata": {
    "slideshow": {
     "slide_type": "fragment"
    }
   },
   "source": [
    "## Use on big datasets 🧞"
   ]
  },
  {
   "cell_type": "markdown",
   "metadata": {
    "slideshow": {
     "slide_type": "notes"
    }
   },
   "source": [
    "- The pandas API indicate to only use eval on  more than 10,000 rows, as the traditional method is faster for smaller arrays.\n"
   ]
  },
  {
   "cell_type": "markdown",
   "metadata": {
    "slideshow": {
     "slide_type": "subslide"
    }
   },
   "source": [
    "## Concat vs Append ➕\n"
   ]
  },
  {
   "cell_type": "markdown",
   "metadata": {
    "slideshow": {
     "slide_type": "fragment"
    }
   },
   "source": [
    "- Every append creates a new dataframe object"
   ]
  },
  {
   "cell_type": "markdown",
   "metadata": {
    "slideshow": {
     "slide_type": "fragment"
    }
   },
   "source": [
    "- Multiple appends are inefficient"
   ]
  },
  {
   "cell_type": "markdown",
   "metadata": {
    "slideshow": {
     "slide_type": "fragment"
    }
   },
   "source": [
    "- Use concat"
   ]
  },
  {
   "cell_type": "markdown",
   "metadata": {
    "slideshow": {
     "slide_type": "subslide"
    }
   },
   "source": [
    "## Sorting Optimization 📟"
   ]
  },
  {
   "cell_type": "markdown",
   "metadata": {
    "slideshow": {
     "slide_type": "fragment"
    }
   },
   "source": [
    "- Vanilla python"
   ]
  },
  {
   "cell_type": "markdown",
   "metadata": {
    "slideshow": {
     "slide_type": "fragment"
    }
   },
   "source": [
    "- Pandas "
   ]
  },
  {
   "cell_type": "markdown",
   "metadata": {
    "slideshow": {
     "slide_type": "fragment"
    }
   },
   "source": [
    "- Numpy"
   ]
  },
  {
   "cell_type": "markdown",
   "metadata": {
    "slideshow": {
     "slide_type": "fragment"
    }
   },
   "source": [
    "- Pytorch/Tensorflow"
   ]
  },
  {
   "cell_type": "markdown",
   "metadata": {
    "slideshow": {
     "slide_type": "subslide"
    }
   },
   "source": [
    "![](https://github.com/eyaltrabelsi/my-notebooks/raw/master/Lectures/practical_optimisations_for_pandas/Sort.png)"
   ]
  },
  {
   "cell_type": "markdown",
   "metadata": {
    "slideshow": {
     "slide_type": "subslide"
    }
   },
   "source": [
    "## GroupBy Optimizations 👩‍👩‍👧"
   ]
  },
  {
   "cell_type": "markdown",
   "metadata": {
    "slideshow": {
     "slide_type": "fragment"
    }
   },
   "source": [
    "- Filter early"
   ]
  },
  {
   "cell_type": "markdown",
   "metadata": {
    "slideshow": {
     "slide_type": "fragment"
    }
   },
   "source": [
    "- Custom functions are slow"
   ]
  },
  {
   "cell_type": "markdown",
   "metadata": {
    "slideshow": {
     "slide_type": "fragment"
    }
   },
   "source": [
    "- Extract logic for custom functions [when possible](https://medium.com/dunder-data/pandas-challenge-001-optimize-custom-grouping-function-44a9f2f321f8)"
   ]
  },
  {
   "cell_type": "markdown",
   "metadata": {
    "slideshow": {
     "slide_type": "subslide"
    }
   },
   "source": [
    "## Merge Optimization 🔍"
   ]
  },
  {
   "cell_type": "markdown",
   "metadata": {
    "slideshow": {
     "slide_type": "fragment"
    }
   },
   "source": [
    "- Filter/Aggregate early"
   ]
  },
  {
   "cell_type": "markdown",
   "metadata": {
    "slideshow": {
     "slide_type": "fragment"
    }
   },
   "source": [
    "- Semi join"
   ]
  },
  {
   "cell_type": "markdown",
   "metadata": {
    "slideshow": {
     "slide_type": "fragment"
    }
   },
   "source": [
    "- [Join on index](https://stackoverflow.com/questions/53645882/pandas-merging-101)"
   ]
  },
  {
   "cell_type": "markdown",
   "metadata": {
    "slideshow": {
     "slide_type": "slide"
    }
   },
   "source": [
    "# Compiled Code ?! Why 🤯"
   ]
  },
  {
   "cell_type": "markdown",
   "metadata": {
    "slideshow": {
     "slide_type": "fragment"
    }
   },
   "source": [
    "- Python dynamic nature "
   ]
  },
  {
   "cell_type": "markdown",
   "metadata": {
    "slideshow": {
     "slide_type": "fragment"
    }
   },
   "source": [
    "- No compilation optimization"
   ]
  },
  {
   "cell_type": "markdown",
   "metadata": {
    "slideshow": {
     "slide_type": "fragment"
    }
   },
   "source": [
    "- Pure Python can be slow "
   ]
  },
  {
   "cell_type": "markdown",
   "metadata": {
    "slideshow": {
     "slide_type": "-"
    }
   },
   "source": [
    " "
   ]
  },
  {
   "cell_type": "code",
   "execution_count": 17,
   "metadata": {
    "slideshow": {
     "slide_type": "fragment"
    }
   },
   "outputs": [],
   "source": [
    "def foo(N):\n",
    "    accumulator = 0\n",
    "    for i in range(N):\n",
    "        accumulator = accumulator + i\n",
    "    return accumulator"
   ]
  },
  {
   "cell_type": "markdown",
   "metadata": {
    "slideshow": {
     "slide_type": "skip"
    }
   },
   "source": [
    "- Cython"
   ]
  },
  {
   "cell_type": "markdown",
   "metadata": {
    "slideshow": {
     "slide_type": "notes"
    }
   },
   "source": [
    "- the Cython project which converts Python code to compatiable C code"
   ]
  },
  {
   "cell_type": "markdown",
   "metadata": {
    "slideshow": {
     "slide_type": "skip"
    }
   },
   "source": [
    "- Numba"
   ]
  },
  {
   "cell_type": "markdown",
   "metadata": {
    "slideshow": {
     "slide_type": "notes"
    }
   },
   "source": [
    "- and the second one the Numba project, which converts Python code to fast LLVM bytecode"
   ]
  },
  {
   "cell_type": "code",
   "execution_count": 18,
   "metadata": {
    "slideshow": {
     "slide_type": "fragment"
    }
   },
   "outputs": [
    {
     "name": "stdout",
     "output_type": "stream",
     "text": [
      "17.9 s ± 25.7 ms per loop (mean ± std. dev. of 7 runs, 1 loop each)\n"
     ]
    }
   ],
   "source": [
    "%%timeit\n",
    "df.meal_price_with_tip.map(foo)"
   ]
  },
  {
   "cell_type": "markdown",
   "metadata": {
    "slideshow": {
     "slide_type": "subslide"
    }
   },
   "source": [
    "## Cython and Numba for the rescue 👨‍🚒"
   ]
  },
  {
   "cell_type": "markdown",
   "metadata": {
    "slideshow": {
     "slide_type": "subslide"
    }
   },
   "source": [
    "## Cython 🤯"
   ]
  },
  {
   "cell_type": "markdown",
   "metadata": {
    "slideshow": {
     "slide_type": "fragment"
    }
   },
   "source": [
    "- Up to 50x speedup from pure python 👍\n"
   ]
  },
  {
   "cell_type": "markdown",
   "metadata": {
    "slideshow": {
     "slide_type": "fragment"
    }
   },
   "source": [
    "- Learning Curve 👎"
   ]
  },
  {
   "cell_type": "markdown",
   "metadata": {
    "slideshow": {
     "slide_type": "fragment"
    }
   },
   "source": [
    "- Separated Compilation Step 👎 👍\n"
   ]
  },
  {
   "cell_type": "markdown",
   "metadata": {
    "slideshow": {
     "slide_type": "notes"
    }
   },
   "source": [
    "- The compilation is both a con and a pro\n",
    "- on one hand, there is an additional work to integrate the cython code \n",
    "- and on the other hand, there is no compilation overhead on runtime"
   ]
  },
  {
   "cell_type": "code",
   "execution_count": 19,
   "metadata": {
    "slideshow": {
     "slide_type": "skip"
    }
   },
   "outputs": [],
   "source": [
    "%load_ext Cython"
   ]
  },
  {
   "cell_type": "markdown",
   "metadata": {
    "slideshow": {
     "slide_type": "subslide"
    }
   },
   "source": [
    "## Example "
   ]
  },
  {
   "cell_type": "code",
   "execution_count": 20,
   "metadata": {
    "slideshow": {
     "slide_type": "fragment"
    }
   },
   "outputs": [],
   "source": [
    "%%cython\n",
    "def cython_foo(long N):\n",
    "    cdef long accumulator\n",
    "    accumulator = 0\n",
    "\n",
    "    cdef long i\n",
    "    for i in range(N):\n",
    "        accumulator += i\n",
    "\n",
    "    return accumulator"
   ]
  },
  {
   "cell_type": "code",
   "execution_count": 21,
   "metadata": {
    "slideshow": {
     "slide_type": "fragment"
    }
   },
   "outputs": [
    {
     "name": "stdout",
     "output_type": "stream",
     "text": [
      "365 ms ± 2 ms per loop (mean ± std. dev. of 7 runs, 1 loop each)\n"
     ]
    }
   ],
   "source": [
    "%%timeit\n",
    "df.meal_price_with_tip.map(cython_foo)"
   ]
  },
  {
   "cell_type": "markdown",
   "metadata": {
    "slideshow": {
     "slide_type": "fragment"
    }
   },
   "source": [
    "### 49x  Performance Improvement⌛"
   ]
  },
  {
   "cell_type": "markdown",
   "metadata": {
    "slideshow": {
     "slide_type": "subslide"
    }
   },
   "source": [
    "## Numba 🤯"
   ]
  },
  {
   "cell_type": "markdown",
   "metadata": {
    "slideshow": {
     "slide_type": "fragment"
    }
   },
   "source": [
    "- Up to 200x speedup from pure python  👍\n"
   ]
  },
  {
   "cell_type": "markdown",
   "metadata": {
    "slideshow": {
     "slide_type": "fragment"
    }
   },
   "source": [
    "- Easy 👍\n"
   ]
  },
  {
   "cell_type": "markdown",
   "metadata": {
    "slideshow": {
     "slide_type": "notes"
    }
   },
   "source": [
    "using numba is really easy its simply adding a decorator to a method"
   ]
  },
  {
   "cell_type": "markdown",
   "metadata": {
    "slideshow": {
     "slide_type": "fragment"
    }
   },
   "source": [
    "- Highly Configurable  👍"
   ]
  },
  {
   "cell_type": "markdown",
   "metadata": {
    "slideshow": {
     "slide_type": "fragment"
    }
   },
   "source": [
    "- Debugging 👎 👍"
   ]
  },
  {
   "cell_type": "markdown",
   "metadata": {
    "slideshow": {
     "slide_type": "notes"
    }
   },
   "source": [
    "- Debugging is both a con and a pro\n",
    "- on one hand, debugging the buissness logic is easy we can just remove the decorator and then we debug it as python code\n",
    "- on the other hand, if there is an issue in the compiled code itself its not quite easy to debug these issues."
   ]
  },
  {
   "cell_type": "markdown",
   "metadata": {
    "slideshow": {
     "slide_type": "fragment"
    }
   },
   "source": [
    "- Mostly Numeric 👎 "
   ]
  },
  {
   "cell_type": "markdown",
   "metadata": {
    "slideshow": {
     "slide_type": "subslide"
    }
   },
   "source": [
    "## Example "
   ]
  },
  {
   "cell_type": "code",
   "execution_count": 22,
   "metadata": {
    "slideshow": {
     "slide_type": "fragment"
    }
   },
   "outputs": [],
   "source": [
    "@jit(nopython=True)\n",
    "def numba_foo(N):\n",
    "    accumulator = 0\n",
    "    for i in range(N):\n",
    "        accumulator = accumulator + i\n",
    "    return accumulator"
   ]
  },
  {
   "cell_type": "code",
   "execution_count": 23,
   "metadata": {
    "slideshow": {
     "slide_type": "fragment"
    }
   },
   "outputs": [
    {
     "name": "stdout",
     "output_type": "stream",
     "text": [
      "414 ms ± 596 µs per loop (mean ± std. dev. of 7 runs, 1 loop each)\n"
     ]
    }
   ],
   "source": [
    "%%timeit\n",
    "df.meal_price_with_tip.map(numba_foo)"
   ]
  },
  {
   "cell_type": "markdown",
   "metadata": {
    "slideshow": {
     "slide_type": "fragment"
    }
   },
   "source": [
    "### 43x  Performance Improvement⌛"
   ]
  },
  {
   "cell_type": "code",
   "execution_count": null,
   "metadata": {
    "slideshow": {
     "slide_type": "skip"
    }
   },
   "outputs": [],
   "source": [
    "@jit(nopython=True, parallel=True)\n",
    "def numba_foo(N):\n",
    "    accumulator = 0\n",
    "    for i in range(N):\n",
    "        accumulator = accumulator + i\n",
    "    return accumulator"
   ]
  },
  {
   "cell_type": "code",
   "execution_count": null,
   "metadata": {
    "slideshow": {
     "slide_type": "skip"
    }
   },
   "outputs": [],
   "source": [
    "%%timeit\n",
    "df.meal_price_with_tip.map(numba_foo)"
   ]
  },
  {
   "cell_type": "markdown",
   "metadata": {
    "slideshow": {
     "slide_type": "subslide"
    }
   },
   "source": [
    "### 1️⃣ Vectorized methods "
   ]
  },
  {
   "cell_type": "markdown",
   "metadata": {
    "slideshow": {
     "slide_type": "fragment"
    }
   },
   "source": [
    "### 2️⃣ Numba "
   ]
  },
  {
   "cell_type": "markdown",
   "metadata": {
    "slideshow": {
     "slide_type": "fragment"
    }
   },
   "source": [
    "### 3️⃣ Cython "
   ]
  },
  {
   "cell_type": "markdown",
   "metadata": {
    "slideshow": {
     "slide_type": "slide"
    }
   },
   "source": [
    "# General Python Optimizations 🐍"
   ]
  },
  {
   "cell_type": "markdown",
   "metadata": {
    "slideshow": {
     "slide_type": "notes"
    }
   },
   "source": [
    "- Since pandas is writen in python we can optimize our pandas code by using python optimization "
   ]
  },
  {
   "cell_type": "markdown",
   "metadata": {
    "slideshow": {
     "slide_type": "subslide"
    }
   },
   "source": [
    "## Caching 🏎\n"
   ]
  },
  {
   "cell_type": "markdown",
   "metadata": {
    "slideshow": {
     "slide_type": "fragment"
    }
   },
   "source": [
    "- Avoid unnecessary work/computation."
   ]
  },
  {
   "cell_type": "markdown",
   "metadata": {
    "slideshow": {
     "slide_type": "fragment"
    }
   },
   "source": [
    "- Faster code "
   ]
  },
  {
   "cell_type": "markdown",
   "metadata": {
    "slideshow": {
     "slide_type": "subslide"
    }
   },
   "source": [
    "## Intermediate Variables👩‍👩‍👧‍👧"
   ]
  },
  {
   "cell_type": "markdown",
   "metadata": {
    "slideshow": {
     "slide_type": "fragment"
    }
   },
   "source": [
    "- Intermediate calculations "
   ]
  },
  {
   "cell_type": "markdown",
   "metadata": {
    "slideshow": {
     "slide_type": "fragment"
    }
   },
   "source": [
    "- Memory foot print of both objects"
   ]
  },
  {
   "cell_type": "markdown",
   "metadata": {
    "slideshow": {
     "slide_type": "fragment"
    }
   },
   "source": [
    "- Smarter variables allocation "
   ]
  },
  {
   "cell_type": "code",
   "execution_count": 32,
   "metadata": {
    "slideshow": {
     "slide_type": "skip"
    }
   },
   "outputs": [],
   "source": [
    "def another_foo(data):\n",
    "    return data * 2\n",
    "\n",
    "def foo(data):\n",
    "    return data + 10\n"
   ]
  },
  {
   "cell_type": "markdown",
   "metadata": {
    "slideshow": {
     "slide_type": "subslide"
    }
   },
   "source": [
    "## Example"
   ]
  },
  {
   "cell_type": "code",
   "execution_count": 28,
   "metadata": {
    "slideshow": {
     "slide_type": "skip"
    }
   },
   "outputs": [],
   "source": [
    "%reload_ext memory_profiler"
   ]
  },
  {
   "cell_type": "code",
   "execution_count": 37,
   "metadata": {
    "slideshow": {
     "slide_type": "fragment"
    }
   },
   "outputs": [],
   "source": [
    "def load_data():\n",
    "    return np.ones((2 ** 30), dtype=np.uint8)"
   ]
  },
  {
   "cell_type": "code",
   "execution_count": 50,
   "metadata": {
    "slideshow": {
     "slide_type": "fragment"
    }
   },
   "outputs": [
    {
     "name": "stdout",
     "output_type": "stream",
     "text": [
      "peak memory: 8106.62 MiB, increment: 3042.64 MiB\n"
     ]
    }
   ],
   "source": [
    "%%memit\n",
    "def proccess():\n",
    "    data = load_data()\n",
    "    return another_foo(foo(data))\n",
    "\n",
    "proccess()"
   ]
  },
  {
   "cell_type": "code",
   "execution_count": 51,
   "metadata": {
    "slideshow": {
     "slide_type": "fragment"
    }
   },
   "outputs": [
    {
     "name": "stdout",
     "output_type": "stream",
     "text": [
      "peak memory: 7102.64 MiB, increment: 2038.66 MiB\n"
     ]
    }
   ],
   "source": [
    "%%memit\n",
    "def proccess():\n",
    "    data = load_data()\n",
    "    data = foo(data)\n",
    "    data = another_foo(data)\n",
    "    return data\n",
    "\n",
    "proccess()"
   ]
  },
  {
   "cell_type": "markdown",
   "metadata": {
    "slideshow": {
     "slide_type": "subslide"
    }
   },
   "source": [
    "## Concurrency And Parallelism 🎸🎺🎻🎷"
   ]
  },
  {
   "cell_type": "markdown",
   "metadata": {
    "slideshow": {
     "slide_type": "fragment"
    }
   },
   "source": [
    "- pandas methods use single process"
   ]
  },
  {
   "cell_type": "markdown",
   "metadata": {
    "slideshow": {
     "slide_type": "fragment"
    }
   },
   "source": [
    "- CPU bound can benefit parallelism"
   ]
  },
  {
   "cell_type": "markdown",
   "metadata": {
    "slideshow": {
     "slide_type": "fragment"
    }
   },
   "source": [
    "- IO bound is very bad without parallesim/concurrency"
   ]
  },
  {
   "cell_type": "markdown",
   "metadata": {
    "slideshow": {
     "slide_type": "subslide"
    }
   },
   "source": [
    "## High Performance Python Book 📖"
   ]
  },
  {
   "cell_type": "markdown",
   "metadata": {
    "slideshow": {
     "slide_type": "fragment"
    }
   },
   "source": [
    "![](data:image/webp;base64,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)"
   ]
  },
  {
   "cell_type": "markdown",
   "metadata": {
    "slideshow": {
     "slide_type": "slide"
    }
   },
   "source": [
    "# Pandas Alternatives 🐨🐻"
   ]
  },
  {
   "cell_type": "markdown",
   "metadata": {
    "slideshow": {
     "slide_type": "fragment"
    }
   },
   "source": [
    "- Libraries that provide dataframe apis"
   ]
  },
  {
   "cell_type": "markdown",
   "metadata": {
    "slideshow": {
     "slide_type": "fragment"
    }
   },
   "source": [
    "- [modin](https://www.youtube.com/watch?v=-HjLd_3ahCw)"
   ]
  },
  {
   "cell_type": "markdown",
   "metadata": {
    "slideshow": {
     "slide_type": "fragment"
    }
   },
   "source": [
    "- [cudf](https://www.youtube.com/watch?v=lV7rtDW94do) "
   ]
  },
  {
   "cell_type": "markdown",
   "metadata": {
    "slideshow": {
     "slide_type": "fragment"
    }
   },
   "source": [
    "- [pyspark](http://spark.apache.org/docs/latest/api/python/index.html)"
   ]
  },
  {
   "cell_type": "markdown",
   "metadata": {
    "slideshow": {
     "slide_type": "fragment"
    }
   },
   "source": [
    "- **No free lunch** 🥢\n"
   ]
  },
  {
   "cell_type": "markdown",
   "metadata": {
    "slideshow": {
     "slide_type": "skip"
    }
   },
   "source": [
    "fillna cudf sux , group by cudf best, modin can be bad cudf hard"
   ]
  },
  {
   "cell_type": "markdown",
   "metadata": {
    "slideshow": {
     "slide_type": "slide"
    }
   },
   "source": [
    "# How 👀"
   ]
  },
  {
   "cell_type": "markdown",
   "metadata": {
    "slideshow": {
     "slide_type": "fragment"
    }
   },
   "source": [
    "- Use What You Need 💾⌛"
   ]
  },
  {
   "cell_type": "markdown",
   "metadata": {
    "slideshow": {
     "slide_type": "fragment"
    }
   },
   "source": [
    "- Dont Reinvent the Wheel ⌛💾"
   ]
  },
  {
   "cell_type": "markdown",
   "metadata": {
    "slideshow": {
     "slide_type": "fragment"
    }
   },
   "source": [
    "- Avoid Loops ⌛"
   ]
  },
  {
   "cell_type": "markdown",
   "metadata": {
    "slideshow": {
     "slide_type": "fragment"
    }
   },
   "source": [
    "- Picking the Right Types 💾⌛"
   ]
  },
  {
   "cell_type": "markdown",
   "metadata": {
    "slideshow": {
     "slide_type": "fragment"
    }
   },
   "source": [
    "- Pandas Usage ⌛💾"
   ]
  },
  {
   "cell_type": "markdown",
   "metadata": {
    "slideshow": {
     "slide_type": "fragment"
    }
   },
   "source": [
    "- Compiled Code ⌛"
   ]
  },
  {
   "cell_type": "markdown",
   "metadata": {
    "slideshow": {
     "slide_type": "fragment"
    }
   },
   "source": [
    "- General Python Optimizations ⌛💾"
   ]
  },
  {
   "cell_type": "markdown",
   "metadata": {
    "slideshow": {
     "slide_type": "fragment"
    }
   },
   "source": [
    "- Pandas Alternatives ⌛💾"
   ]
  },
  {
   "cell_type": "markdown",
   "metadata": {
    "slideshow": {
     "slide_type": "slide"
    }
   },
   "source": [
    "# Additional Resources 📚"
   ]
  },
  {
   "cell_type": "markdown",
   "metadata": {
    "slideshow": {
     "slide_type": "fragment"
    }
   },
   "source": [
    "- [Vectorization Mindset 📖](https://www.youtube.com/watch?v=EEUXKG97YRw)\n",
    "- [Numpy](https://numpy.org/doc/stable/reference/index.html)/[Pandas](https://pandas.pydata.org/pandas-docs/stable/index.html)/[Scipy](https://docs.scipy.org/doc/scipy/reference/special.html) vectorizations methods 📖\n",
    "- [Serialization Time](https://towardsdatascience.com/the-best-format-to-save-pandas-data-414dca023e0d) 📖\n",
    "- [Chunks](https://pandas.pydata.org/docs/user_guide/scale.html) 📖\n",
    "- [Sorting](https://towardsdatascience.com/surprising-sorting-tips-for-data-scientists-9c360776d7e)📖\n",
    "- [Caching](https://medium.com/datadriveninvestor/all-things-caching-use-cases-benefits-strategies-choosing-a-caching-technology-exploring-fa6c1f2e93aa) 📖\n",
    "- [Numba Workshop](https://www.youtube.com/watch?v=1AwG0T4gaO0) 🛠\n",
    "- [Cython Workshop](https://www.youtube.com/watch?v=FepqwPI6U80)🛠\n",
    "- [Numba VS C++](https://murillogroupmsu.com/numba-versus-c/) ⚖\n",
    "- [Cython VS C](https://notes-on-cython.readthedocs.io/en/latest/std_dev.html) ⚖\n",
    "- [Intermediate Variables](https://pythonspeed.com/articles/function-calls-prevent-garbage-collection/) 📖\n",
    "- [High Performance Python Book ](https://amzn.to/38CKsuU) 📖\n",
    "- [Pandas Alternatives](https://www.youtube.com/watch?v=RRtqIagk93k) 📖"
   ]
  },
  {
   "cell_type": "markdown",
   "metadata": {
    "slideshow": {
     "slide_type": "slide"
    }
   },
   "source": [
    "![](https://i.pinimg.com/originals/b9/0a/79/b90a79b4c361d079144597d0bcdd61de.jpg)"
   ]
  }
 ],
 "metadata": {
  "celltoolbar": "Slideshow",
  "kernelspec": {
   "display_name": "Python 3",
   "language": "python",
   "name": "python3"
  },
  "language_info": {
   "codemirror_mode": {
    "name": "ipython",
    "version": 3
   },
   "file_extension": ".py",
   "mimetype": "text/x-python",
   "name": "python",
   "nbconvert_exporter": "python",
   "pygments_lexer": "ipython3",
   "version": "3.7.4"
  }
 },
 "nbformat": 4,
 "nbformat_minor": 4
}
