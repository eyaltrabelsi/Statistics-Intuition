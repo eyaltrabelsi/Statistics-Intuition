{
 "cells": [
  {
   "cell_type": "markdown",
   "metadata": {},
   "source": [
    "# Query Optimization for Mere Humans"
   ]
  },
  {
   "cell_type": "markdown",
   "metadata": {
    "slideshow": {
     "slide_type": "slide"
    }
   },
   "source": [
    "# About Me 🙈"
   ]
  },
  {
   "cell_type": "markdown",
   "metadata": {},
   "source": [
    " "
   ]
  },
  {
   "cell_type": "markdown",
   "metadata": {
    "slideshow": {
     "slide_type": "-"
    }
   },
   "source": [
    "- Data architect at bigabid 👷.\n",
    "- Data architect consultant 🤓.\n",
    "- Big passion for python, big data, databases and machine learning 🐍🤖.\n",
    "- Online at [medium](https://medium.com/@Eyaltra) | [website](https://eyaltrabelsi.github.io/) 🌐"
   ]
  },
  {
   "cell_type": "markdown",
   "metadata": {
    "slideshow": {
     "slide_type": "slide"
    }
   },
   "source": [
    "# Today ⌛\n"
   ]
  },
  {
   "cell_type": "markdown",
   "metadata": {
    "slideshow": {
     "slide_type": "-"
    }
   },
   "source": [
    " "
   ]
  },
  {
   "cell_type": "markdown",
   "metadata": {
    "slideshow": {
     "slide_type": "-"
    }
   },
   "source": [
    "\n",
    "- Problem Overview.\n",
    "- Execution Plans.\n",
    "- 2 Fake Examples.\n",
    "- Can database interaction be better?\n"
   ]
  },
  {
   "cell_type": "markdown",
   "metadata": {
    "slideshow": {
     "slide_type": "subslide"
    }
   },
   "source": [
    " # Identify flaws in queries is tough🩺\n"
   ]
  },
  {
   "cell_type": "markdown",
   "metadata": {
    "slideshow": {
     "slide_type": "-"
    }
   },
   "source": [
    " "
   ]
  },
  {
   "cell_type": "markdown",
   "metadata": {
    "slideshow": {
     "slide_type": "fragment"
    }
   },
   "source": [
    "\n",
    "- Its require skill to write sql queries without error.\n",
    "- Its require skill to optimize sql queries.\n",
    "- Databases provide execution plans"
   ]
  },
  {
   "cell_type": "markdown",
   "metadata": {
    "slideshow": {
     "slide_type": "subslide"
    }
   },
   "source": [
    "# Query Execution Flow 🪜\n",
    "\n"
   ]
  },
  {
   "cell_type": "markdown",
   "metadata": {
    "slideshow": {
     "slide_type": "-"
    }
   },
   "source": [
    " "
   ]
  },
  {
   "cell_type": "markdown",
   "metadata": {
    "slideshow": {
     "slide_type": "-"
    }
   },
   "source": [
    "\n",
    "<img src=\"execution_flow.png\" width=\"400\" height=\"600\">\n"
   ]
  },
  {
   "cell_type": "markdown",
   "metadata": {
    "slideshow": {
     "slide_type": "skip"
    }
   },
   "source": [
    "**We want to reduce mental capacity !!** - [but if you want to go the extra mile](https://www.interdb.jp/pg/pgsql03.html)."
   ]
  },
  {
   "cell_type": "markdown",
   "metadata": {
    "slideshow": {
     "slide_type": "subslide"
    }
   },
   "source": [
    "- **My opinion** still a way to go in terms of toolings.\n",
    "- We are stuck with **execution plans**.\n",
    "- **Buzzword alert !!** we should democretized execution plans."
   ]
  },
  {
   "cell_type": "markdown",
   "metadata": {
    "slideshow": {
     "slide_type": "slide"
    }
   },
   "source": [
    "# Let's explain Explain 📜\n"
   ]
  },
  {
   "cell_type": "markdown",
   "metadata": {},
   "source": [
    " "
   ]
  },
  {
   "cell_type": "markdown",
   "metadata": {
    "slideshow": {
     "slide_type": "skip"
    }
   },
   "source": [
    "\n",
    "- **explain**: show what the planner planned to do.\n",
    "- **explain analyze**: what the planner plans to do, **executes the query** and also shows how it did it.\n",
    "\n"
   ]
  },
  {
   "cell_type": "markdown",
   "metadata": {
    "slideshow": {
     "slide_type": "fragment"
    }
   },
   "source": [
    "``` mysql\n",
    "EXPLAIN [ ( option [, ...] ) ] statement\n",
    "```\n",
    "``` sql\n",
    "- ANALYZE [ boolean ]\n",
    "- VERBOSE [ boolean ]\n",
    "- COSTS [ boolean ]\n",
    "- SETTINGS [ boolean ]\n",
    "- BUFFERS [ boolean ]\n",
    "- WAL [ boolean ]\n",
    "- TIMING [ boolean ]\n",
    "- SUMMARY [ boolean ]\n",
    "- FORMAT { TEXT | XML | JSON | YAML }\n",
    "\n",
    "```\n",
    "\n"
   ]
  },
  {
   "cell_type": "markdown",
   "metadata": {},
   "source": [
    " "
   ]
  },
  {
   "cell_type": "markdown",
   "metadata": {
    "slideshow": {
     "slide_type": "fragment"
    }
   },
   "source": [
    "- **Pro Tip**💃: go over an execution plan at least once; similar across databases.\n",
    "- **Pro Tip**💃: prefer EXPLAIN ANALYZE as it holds more information.\n"
   ]
  },
  {
   "cell_type": "markdown",
   "metadata": {
    "slideshow": {
     "slide_type": "subslide"
    }
   },
   "source": [
    "# Why shouldn't I always use explain analyze? 😵‍💫\n"
   ]
  },
  {
   "cell_type": "markdown",
   "metadata": {},
   "source": [
    " "
   ]
  },
  {
   "cell_type": "markdown",
   "metadata": {
    "slideshow": {
     "slide_type": "fragment"
    }
   },
   "source": [
    "- Destructive operations.\n",
    "- When resources are scarce:\n",
    "    - The query never finishes.\n",
    "    - Monitoring production.\n",
    "- When you don't need actual stats:\n",
    "    - Checking index usage.\n",
    "    - Checking partition scans.\n",
    "- When checking query compilation."
   ]
  },
  {
   "cell_type": "markdown",
   "metadata": {
    "slideshow": {
     "slide_type": "skip"
    }
   },
   "source": [
    "- use transactions in case of destructive operations so that you can ROLLBACk the changes."
   ]
  },
  {
   "cell_type": "markdown",
   "metadata": {
    "slideshow": {
     "slide_type": "subslide"
    }
   },
   "source": [
    "# Explain Anatomy🫀"
   ]
  },
  {
   "cell_type": "markdown",
   "metadata": {},
   "source": [
    " "
   ]
  },
  {
   "cell_type": "markdown",
   "metadata": {
    "slideshow": {
     "slide_type": "fragment"
    }
   },
   "source": [
    "``` postgresql\n",
    "EXPLAIN ANALYZE\n",
    "SELECT COUNT(*) FROM users WHERE twitter != '';\n",
    "```\n",
    "![](basic_execution_plan.png)\n"
   ]
  },
  {
   "cell_type": "markdown",
   "metadata": {
    "slideshow": {
     "slide_type": "fragment"
    }
   },
   "source": [
    "- Look crypted at first :( . \n",
    "- It's longer than our query :(( .\n",
    "- Real-world execution plans are overwhelming if you dont focus :(( . "
   ]
  },
  {
   "cell_type": "markdown",
   "metadata": {
    "slideshow": {
     "slide_type": "subslide"
    }
   },
   "source": [
    "![](basic_execution_plan_high_level_stats.png)"
   ]
  },
  {
   "cell_type": "markdown",
   "metadata": {
    "slideshow": {
     "slide_type": "fragment"
    }
   },
   "source": [
    "- Query execution took 1.27 seconds.\n",
    "- Query planning took 0.4 millis."
   ]
  },
  {
   "cell_type": "markdown",
   "metadata": {
    "slideshow": {
     "slide_type": "subslide"
    }
   },
   "source": [
    "![](node_details_execution_plan.png)\n"
   ]
  },
  {
   "cell_type": "markdown",
   "metadata": {
    "slideshow": {
     "slide_type": "fragment"
    }
   },
   "source": [
    "- Structured as inverse tree.\n",
    "- **Many operations**: 'Seq Scan', 'Values Scan', 'Sample Scan', 'Function Scan', 'CTEScan', 'Index Scan', 'Bitmap Heap Scan', 'Bitmap Index Scan', 'Index Only Scan','Subquery Scan', 'Hash Join','Nested Loop', 'Merge Join', 'Hash', 'Gather', 'Gather Merge','Unique','Result', 'SetOp', 'GroupAggregate','Aggregate', 'HashAggregate', 'WindowAgg', 'Limit', 'Sort', 'materialize', 'LockRows', 'Append', 'Merge Append' etc."
   ]
  },
  {
   "cell_type": "markdown",
   "metadata": {},
   "source": [
    " "
   ]
  },
  {
   "cell_type": "markdown",
   "metadata": {
    "slideshow": {
     "slide_type": "fragment"
    }
   },
   "source": [
    "- **Pro Tip**💃: Cheat on your homework with [explain glossary](https://www.pgmustard.com/docs/explain).\n",
    "- **Pro Tip**💃: Focus is key."
   ]
  },
  {
   "cell_type": "markdown",
   "metadata": {
    "slideshow": {
     "slide_type": "subslide"
    }
   },
   "source": [
    "![](node_metrics_execution_plan.png)\n"
   ]
  },
  {
   "cell_type": "markdown",
   "metadata": {
    "slideshow": {
     "slide_type": "fragment"
    }
   },
   "source": [
    "- **Plan Rows**: the estimated number of produced rows of Aggregate node is 1.\n",
    "- **Actual Rows**: the actual number of produced rows of Aggregate node is 1 (per-loop average).\n",
    "- **Plan Width**: the estimated average size of rows of Aggregate node is 8 bytes.\n",
    "- the estimated number of rows cam be off depending on statistics.\n",
    "\n",
    "\n"
   ]
  },
  {
   "cell_type": "markdown",
   "metadata": {
    "slideshow": {
     "slide_type": "subslide"
    }
   },
   "source": [
    "![](node_metrics_execution_plan.png)\n"
   ]
  },
  {
   "cell_type": "markdown",
   "metadata": {
    "slideshow": {
     "slide_type": "fragment"
    }
   },
   "source": [
    "- **Startup Cost**: arbirary units that represent estimated time to return the first row of Aggregate node is 845110(aggregated).\n",
    "- **Total Cost**: arbirary units that represent estimated time to return all the rows  of Aggregate node is 845110 (aggregated). \n",
    "- **Actual Startup Time**: the time it took to return the first row in ms  of Aggregate node is 1271.157 (aggregated). \n",
    "- **Actual Total Time**: the time it took to return all the rows in ms of Aggregate node is 1271.158 (per-loop average and aggregated).\n"
   ]
  },
  {
   "cell_type": "markdown",
   "metadata": {
    "slideshow": {
     "slide_type": "subslide"
    }
   },
   "source": [
    "![](node_metrics_execution_plan.png)\n",
    "\n",
    "\n",
    " "
   ]
  },
  {
   "cell_type": "markdown",
   "metadata": {
    "slideshow": {
     "slide_type": "fragment"
    }
   },
   "source": [
    "- **Actual Loops**: the number of loops the same node was executed is 1.\n",
    "- To make the numbers comparable with the way the cost estimates are shown.\n",
    "- To get the total time and rows, the actual time and rows need to be multiplied by loops values."
   ]
  },
  {
   "cell_type": "markdown",
   "metadata": {},
   "source": [
    " "
   ]
  },
  {
   "cell_type": "markdown",
   "metadata": {
    "slideshow": {
     "slide_type": "fragment"
    }
   },
   "source": [
    "- **Pro Tip**💃: be wary of loops."
   ]
  },
  {
   "cell_type": "markdown",
   "metadata": {
    "slideshow": {
     "slide_type": "subslide"
    }
   },
   "source": [
    "![](basic_execution_plan_high_level_stats.png)"
   ]
  },
  {
   "cell_type": "markdown",
   "metadata": {
    "slideshow": {
     "slide_type": "fragment"
    }
   },
   "source": [
    "- We may not get the optimal execution plan.\n",
    "- Finding the best execution plan is NP-hard.\n",
    "- The planning time may be longer than the execution time. "
   ]
  },
  {
   "cell_type": "markdown",
   "metadata": {
    "slideshow": {
     "slide_type": "skip"
    }
   },
   "source": [
    "- Prepared statements potentially have the largest performance advantage when a single session is being used to execute a large number of similar statements. \n",
    "- The performance difference will be particularly significant if the statements are complex to plan or rewrite\n",
    "- if the query involves a join of many tables or requires the application of several rules. "
   ]
  },
  {
   "cell_type": "markdown",
   "metadata": {
    "slideshow": {
     "slide_type": "subslide"
    }
   },
   "source": [
    "# When explain will work?🤔"
   ]
  },
  {
   "cell_type": "markdown",
   "metadata": {},
   "source": [
    " "
   ]
  },
  {
   "cell_type": "markdown",
   "metadata": {
    "slideshow": {
     "slide_type": "fragment"
    }
   },
   "source": [
    "<br>\n",
    "\n",
    "    + Implies reasons why a query was slow.\n",
    "            - Missing indices.\n",
    "            - Overused indices.\n",
    "            - Missing partitions.\n",
    "            - Unoptimized database configurations*.\n",
    "            - Redundant Operations.\n",
    "            - Stale statistics.\n",
    "    + Implies reason why query cardinality is wrong:\n",
    "            - Missing records.\n",
    "            - Too many records.\n",
    "            - Duplications. "
   ]
  },
  {
   "cell_type": "markdown",
   "metadata": {
    "slideshow": {
     "slide_type": "fragment"
    }
   },
   "source": [
    "    - Doesn't tells you why a particular optimization is not used.\n",
    "    - Doesn't tells you how to rewrite your queries."
   ]
  },
  {
   "cell_type": "markdown",
   "metadata": {
    "slideshow": {
     "slide_type": "slide"
    }
   },
   "source": [
    "# Example: Performance Optimization🐆"
   ]
  },
  {
   "cell_type": "markdown",
   "metadata": {
    "slideshow": {
     "slide_type": "fragment"
    }
   },
   "source": [
    "``` postgresql\n",
    "EXPLAIN ANALYZE\n",
    "SELECT COUNT(*) FROM users WHERE twitter != '';\n",
    "```\n",
    "![](basic_execution_before_index.png)"
   ]
  },
  {
   "cell_type": "markdown",
   "metadata": {
    "slideshow": {
     "slide_type": "fragment"
    }
   },
   "source": [
    "- We perform a [sequential scan](https://www.pgmustard.com/docs/explain/sequential-scan) on the users table.\n",
    "- The scan filters out 2,487,813 rows.\n",
    "- It takes us 1.27 seconds to do all of this."
   ]
  },
  {
   "cell_type": "markdown",
   "metadata": {
    "slideshow": {
     "slide_type": "fragment"
    }
   },
   "source": [
    "- **Pro Tip**💃: Focus on the node on the \"worst\" node."
   ]
  },
  {
   "cell_type": "markdown",
   "metadata": {
    "slideshow": {
     "slide_type": "subslide"
    }
   },
   "source": [
    "![](google_search.png)"
   ]
  },
  {
   "cell_type": "markdown",
   "metadata": {
    "slideshow": {
     "slide_type": "subslide"
    }
   },
   "source": [
    "``` postgresql\n",
    "CREATE INDEX twitter_test ON users (twitter)\n",
    "```\n",
    "![](basic_execution_with_index.png)"
   ]
  },
  {
   "cell_type": "markdown",
   "metadata": {
    "slideshow": {
     "slide_type": "fragment"
    }
   },
   "source": [
    "- We perform an [index only scan](https://www.pgmustard.com/docs/explain/index-only-scan) on the users table.\n",
    "- It takes us 0.29 seconds instead of 1.27 seconds.\n",
    "- We could use buffers to be more precise."
   ]
  },
  {
   "cell_type": "markdown",
   "metadata": {
    "slideshow": {
     "slide_type": "fragment"
    }
   },
   "source": [
    "- **Pro Tip**💃: optimize queries a step by step.\n",
    "- **Pro Tip**💃: When comparing execution plans, look at several metrics. "
   ]
  },
  {
   "cell_type": "markdown",
   "metadata": {
    "slideshow": {
     "slide_type": "subslide"
    }
   },
   "source": [
    "``` postgresql\n",
    "EXPLAIN (ANALYZE, BUFFERS)\n",
    "SELECT COUNT(*) FROM users WHERE twitter != ''\n",
    "```\n",
    "![](basic_execution_with_index_with_buffers.png)\n"
   ]
  },
  {
   "cell_type": "markdown",
   "metadata": {
    "slideshow": {
     "slide_type": "fragment"
    }
   },
   "source": [
    "- The scan filters out 2,487,813 rows.\n",
    "- We have 51,854 pages to read all from cache (400 MB).\n",
    "- We have written 19 pages to disk."
   ]
  },
  {
   "cell_type": "markdown",
   "metadata": {
    "slideshow": {
     "slide_type": "skip"
    }
   },
   "source": [
    "- Let's execute the query a second time, now that the cache is warmed up. One of the reason it does so is that our table is bigger than the cache."
   ]
  },
  {
   "cell_type": "markdown",
   "metadata": {
    "slideshow": {
     "slide_type": "fragment"
    }
   },
   "source": [
    "- **Pro Tip**💃: there is no free lunch."
   ]
  },
  {
   "cell_type": "markdown",
   "metadata": {
    "slideshow": {
     "slide_type": "subslide"
    }
   },
   "source": [
    "# Good optimization options🤞🏻"
   ]
  },
  {
   "cell_type": "markdown",
   "metadata": {},
   "source": [
    " "
   ]
  },
  {
   "cell_type": "markdown",
   "metadata": {
    "slideshow": {
     "slide_type": "fragment"
    }
   },
   "source": [
    "- Picking the right scan method.\n",
    "- Picking the right join method.\n",
    "- Picking the right join order.\n",
    "- Push Filters as soon as possible.\n",
    "- Reducing disk IO operations when needed.    \n"
   ]
  },
  {
   "cell_type": "markdown",
   "metadata": {},
   "source": [
    " "
   ]
  },
  {
   "cell_type": "markdown",
   "metadata": {
    "slideshow": {
     "slide_type": "fragment"
    }
   },
   "source": [
    "- **Pro Tip**💃: can enable/disable settings to check optimizations.\n",
    "\n",
    "``` mysql\n",
    "SET enable_seqscan TO off;\n",
    "EXPLAIN (ANALYZE) SELECT * FROM foo WHERE c1 > 500;\n",
    "SET enable_seqscan TO on;\n",
    "```"
   ]
  },
  {
   "cell_type": "markdown",
   "metadata": {
    "slideshow": {
     "slide_type": "slide"
    }
   },
   "source": [
    "# Example: Empty Results🐛"
   ]
  },
  {
   "cell_type": "markdown",
   "metadata": {},
   "source": [
    " "
   ]
  },
  {
   "cell_type": "markdown",
   "metadata": {
    "slideshow": {
     "slide_type": "fragment"
    }
   },
   "source": [
    "``` postgresql\n",
    "EXPLAIN ANALYZE\n",
    "SELECT COUNT(*) FROM users WHERE twitter = 'd0n@ldtrump';\n",
    "```\n",
    "![](empty_execution_plan_broken.png)"
   ]
  },
  {
   "cell_type": "markdown",
   "metadata": {},
   "source": [
    " "
   ]
  },
  {
   "cell_type": "markdown",
   "metadata": {
    "slideshow": {
     "slide_type": "fragment"
    }
   },
   "source": [
    "- We perform a [sequential scan](https://www.pgmustard.com/docs/explain/sequential-scan) on the users table.\n",
    "- The scan filters out all rows using a Filter."
   ]
  },
  {
   "cell_type": "markdown",
   "metadata": {
    "slideshow": {
     "slide_type": "subslide"
    }
   },
   "source": [
    "![](twitter.png)"
   ]
  },
  {
   "cell_type": "markdown",
   "metadata": {
    "slideshow": {
     "slide_type": "subslide"
    }
   },
   "source": [
    "``` postgresql\n",
    "EXPLAIN ANALYZE\n",
    "SELECT COUNT(*) FROM users WHERE twitter = 'donaldtrump';\n",
    "```\n",
    "![](empty_execution_plan_fixed.png)\n"
   ]
  },
  {
   "cell_type": "markdown",
   "metadata": {
    "slideshow": {
     "slide_type": "fragment"
    }
   },
   "source": [
    "- **Pro Tip**💃: in case we know a problem exists it is a productive tool.\n",
    "- **Pro Tip**💃: in case we don't know a problem exists it may protect us.\n"
   ]
  },
  {
   "cell_type": "markdown",
   "metadata": {
    "slideshow": {
     "slide_type": "slide"
    }
   },
   "source": [
    "# Aren't there easier ways?!🙏\n"
   ]
  },
  {
   "cell_type": "markdown",
   "metadata": {},
   "source": [
    " "
   ]
  },
  {
   "cell_type": "markdown",
   "metadata": {
    "slideshow": {
     "slide_type": "fragment"
    }
   },
   "source": [
    "- UI can be nice.\n",
    "- Hints how to rewrite your queries. \n",
    "- Hints why a particular optimization is not used. \n",
    "- Hints why/where a particular issue orinated.\n"
   ]
  },
  {
   "cell_type": "markdown",
   "metadata": {
    "slideshow": {
     "slide_type": "subslide"
    }
   },
   "source": [
    "- Basic tools to understand execution plans like [pgAdmin](https://www.pgadmin.org/).\n",
    "- Cooler tools to understand execution plans out there like [pev2](https://github.com/dalibo/pev2), [explain.depesz.com](explain.depesz.com),  [eversql](https://www.eversql.com/), [pgMustard](https://www.pgmustard.com/) and  [QueryFlow](https://github.com/eyaltrabelsi/query-flow)\n",
    "- Other tools like [auto_explain](https://www.postgresql.org/docs/current/auto-explain.html) and [pg_stat_plans](https://github.com/2ndQuadrant/pg_stat_plans) to record the execution plans.    "
   ]
  },
  {
   "cell_type": "markdown",
   "metadata": {},
   "source": [
    " "
   ]
  },
  {
   "cell_type": "markdown",
   "metadata": {
    "slideshow": {
     "slide_type": "fragment"
    }
   },
   "source": [
    "- **Pro Tip**💃: use one of these to make life easy."
   ]
  },
  {
   "cell_type": "markdown",
   "metadata": {
    "slideshow": {
     "slide_type": "subslide"
    }
   },
   "source": [
    "\n",
    "## [pev2](https://github.com/dalibo/pev2)\n"
   ]
  },
  {
   "cell_type": "markdown",
   "metadata": {
    "slideshow": {
     "slide_type": "-"
    }
   },
   "source": [
    "![](pev2.png)"
   ]
  },
  {
   "cell_type": "markdown",
   "metadata": {
    "slideshow": {
     "slide_type": "subslide"
    }
   },
   "source": [
    "    + Mature\n",
    "    + Not opinionated.\n",
    "    + UI indicates the proportions of metrics and problematic operations.\n",
    "    - Focus on single query/metric for Postgresql."
   ]
  },
  {
   "cell_type": "markdown",
   "metadata": {
    "slideshow": {
     "slide_type": "subslide"
    }
   },
   "source": [
    "## [QueryFlow](https://github.com/eyaltrabelsi/query-flow)"
   ]
  },
  {
   "cell_type": "markdown",
   "metadata": {},
   "source": [
    "<img src='duration.png'>"
   ]
  },
  {
   "cell_type": "markdown",
   "metadata": {
    "slideshow": {
     "slide_type": "subslide"
    }
   },
   "source": [
    "<img src='missing_records.png'>"
   ]
  },
  {
   "cell_type": "markdown",
   "metadata": {
    "slideshow": {
     "slide_type": "subslide"
    }
   },
   "source": [
    "<img src='stale_statistics.png'>"
   ]
  },
  {
   "cell_type": "markdown",
   "metadata": {
    "slideshow": {
     "slide_type": "subslide"
    }
   },
   "source": [
    "    + Support multiple metrics/queries/engines.\n",
    "    + Operations are linkable with examples.\n",
    "    + UI indicates the proportions of metrics and problematic operations.\n",
    "    - Not mature\n",
    "    - Very opinionated.\n",
    "    - Require installations*."
   ]
  },
  {
   "cell_type": "markdown",
   "metadata": {
    "slideshow": {
     "slide_type": "slide"
    }
   },
   "source": [
    "# Optimistic Future🔮\n",
    "\n"
   ]
  },
  {
   "cell_type": "markdown",
   "metadata": {},
   "source": [
    " "
   ]
  },
  {
   "cell_type": "markdown",
   "metadata": {
    "slideshow": {
     "slide_type": "fragment"
    }
   },
   "source": [
    "- Integrated in IDEs, clients, saas and so on.\n",
    "- Easy and intuitive as opening files in python/js (googling).\n",
    "- Proactive // Reactive."
   ]
  },
  {
   "cell_type": "markdown",
   "metadata": {},
   "source": [
    " "
   ]
  },
  {
   "cell_type": "markdown",
   "metadata": {
    "slideshow": {
     "slide_type": "slide"
    }
   },
   "source": [
    "![](https://i.pinimg.com/originals/b9/0a/79/b90a79b4c361d079144597d0bcdd61de.jpg)"
   ]
  },
  {
   "cell_type": "markdown",
   "metadata": {
    "slideshow": {
     "slide_type": "notes"
    }
   },
   "source": [
    "- [Deeper Understanding of PostgreSQL Execution Plan (video)](https://www.youtube.com/watch?v=Ls-uE1V31lE&list=WL&index=5&ab_channel=PostgresConference)\n",
    "- [EXPLAIN Explained (video)](https://www.youtube.com/watch?v=mCwwFAl1pBU&ab_channel=SouthernCaliforniaLinuxExpo)\n",
    "- [Understanding Explain](https://public.dalibo.com/exports/conferences/_archives/_2012/201211_explain/understanding_explain.pdf)"
   ]
  }
 ],
 "metadata": {
  "celltoolbar": "Slideshow",
  "kernelspec": {
   "display_name": "Python 3",
   "language": "python",
   "name": "python3"
  },
  "language_info": {
   "codemirror_mode": {
    "name": "ipython",
    "version": 3
   },
   "file_extension": ".py",
   "mimetype": "text/x-python",
   "name": "python",
   "nbconvert_exporter": "python",
   "pygments_lexer": "ipython3",
   "version": "3.7.10"
  }
 },
 "nbformat": 4,
 "nbformat_minor": 4
}
