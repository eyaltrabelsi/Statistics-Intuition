{
 "cells": [
  {
   "cell_type": "markdown",
   "metadata": {
    "slideshow": {
     "slide_type": "slide"
    }
   },
   "source": [
    "# Search In Practice- Approximate Nearest Neighbors 🔎"
   ]
  },
  {
   "cell_type": "code",
   "execution_count": null,
   "metadata": {},
   "outputs": [],
   "source": [
    "# Additional Resources 📚"
   ]
  },
  {
   "cell_type": "markdown",
   "metadata": {
    "slideshow": {
     "slide_type": "slide"
    }
   },
   "source": [
    "# Motivation 🎇"
   ]
  },
  {
   "cell_type": "markdown",
   "metadata": {
    "slideshow": {
     "slide_type": "fragment"
    }
   },
   "source": [
    "- Used to find similar entries"
   ]
  },
  {
   "cell_type": "markdown",
   "metadata": {
    "slideshow": {
     "slide_type": "fragment"
    }
   },
   "source": [
    "- Recommendation systems"
   ]
  },
  {
   "cell_type": "markdown",
   "metadata": {
    "slideshow": {
     "slide_type": "fragment"
    }
   },
   "source": [
    "- Search engines"
   ]
  },
  {
   "cell_type": "markdown",
   "metadata": {
    "slideshow": {
     "slide_type": "fragment"
    }
   },
   "source": [
    "- Spell checking"
   ]
  },
  {
   "cell_type": "markdown",
   "metadata": {
    "slideshow": {
     "slide_type": "fragment"
    }
   },
   "source": [
    "- [Many more](https://en.wikipedia.org/wiki/Nearest_neighbor_search#Applications)"
   ]
  },
  {
   "cell_type": "code",
   "execution_count": null,
   "metadata": {},
   "outputs": [],
   "source": []
  },
  {
   "cell_type": "markdown",
   "metadata": {
    "slideshow": {
     "slide_type": "slide"
    }
   },
   "source": [
    "# Nearest Neighbors"
   ]
  },
  {
   "cell_type": "markdown",
   "metadata": {
    "slideshow": {
     "slide_type": "fragment"
    }
   },
   "source": [
    "![](nearest-neighbours1.png)"
   ]
  },
  {
   "cell_type": "markdown",
   "metadata": {
    "slideshow": {
     "slide_type": "subslide"
    }
   },
   "source": [
    "![](nearest-neighbours2.png)"
   ]
  },
  {
   "cell_type": "markdown",
   "metadata": {
    "slideshow": {
     "slide_type": "slide"
    }
   },
   "source": [
    "# Our Dataset 💾"
   ]
  },
  {
   "cell_type": "markdown",
   "metadata": {
    "slideshow": {
     "slide_type": "fragment"
    }
   },
   "source": [
    "- Use the movielens dataset "
   ]
  },
  {
   "cell_type": "markdown",
   "metadata": {
    "slideshow": {
     "slide_type": "fragment"
    }
   },
   "source": [
    "- Contains 100k rows with X dimentions"
   ]
  },
  {
   "cell_type": "code",
   "execution_count": 1,
   "metadata": {
    "slideshow": {
     "slide_type": "notes"
    }
   },
   "outputs": [],
   "source": [
    "import pickle\n",
    "import faiss"
   ]
  },
  {
   "cell_type": "code",
   "execution_count": 2,
   "metadata": {
    "slideshow": {
     "slide_type": "subslide"
    }
   },
   "outputs": [
    {
     "data": {
      "text/plain": [
       "{'name': array(['Toy Story (1995)', 'GoldenEye (1995)', 'Four Rooms (1995)', ...,\n",
       "        'Sliding Doors (1998)', 'You So Crazy (1994)',\n",
       "        'Scream of Stone (Schrei aus Stein) (1991)'], dtype=object),\n",
       " 'vector': array([[-0.01780608, -0.14265831,  0.10308606, ...,  0.09659795,\n",
       "         -0.17529577, -0.03061521],\n",
       "        [-0.03357764,  0.16418771,  0.21801303, ...,  0.16502103,\n",
       "         -0.09166156,  0.05047869],\n",
       "        [-0.2761452 , -0.01991325, -0.04969981, ...,  0.0258275 ,\n",
       "         -0.08328608, -0.0152858 ],\n",
       "        ...,\n",
       "        [ 0.05142734, -0.01683608, -0.20441587, ...,  0.00045828,\n",
       "          0.14679626,  0.2462584 ],\n",
       "        [ 0.04491899, -0.02819411, -0.09472758, ..., -0.02152078,\n",
       "          0.16223577,  0.19897607],\n",
       "        [ 0.02531924,  0.03099714,  0.06437534, ..., -0.07260127,\n",
       "          0.0467432 ,  0.07893164]], dtype=float32)}"
      ]
     },
     "execution_count": 2,
     "metadata": {},
     "output_type": "execute_result"
    }
   ],
   "source": [
    "def load_data():\n",
    "    with open('movies.pickle', 'rb') as f:\n",
    "        data = pickle.load(f)\n",
    "    return data\n",
    "\n",
    "data = load_data()\n",
    "vectors = data[\"vector\"]\n",
    "names = data[\"name\"]\n",
    "data"
   ]
  },
  {
   "cell_type": "code",
   "execution_count": 5,
   "metadata": {
    "slideshow": {
     "slide_type": "skip"
    }
   },
   "outputs": [
    {
     "data": {
      "text/plain": [
       "['analyzing 1682 vectors of size 64',\n",
       " 'no NaN or Infs in data',\n",
       " 'all vectors are distinct',\n",
       " 'range of L2 norms=[0.747558, 1.80436] (0 null vectors)',\n",
       " 'matrix contains no 0s',\n",
       " 'no constant dimensions',\n",
       " 'no dimension has a too large mean',\n",
       " 'stddevs per dimension are in [0.112036 0.158214]',\n",
       " '']"
      ]
     },
     "execution_count": 5,
     "metadata": {},
     "output_type": "execute_result"
    }
   ],
   "source": [
    "faiss.MatrixStats(vectors).comments.split(\"\\n\")"
   ]
  },
  {
   "cell_type": "markdown",
   "metadata": {
    "slideshow": {
     "slide_type": "slide"
    }
   },
   "source": [
    "# Strategies for Exact Nearest Neighbors 🧠"
   ]
  },
  {
   "cell_type": "markdown",
   "metadata": {
    "slideshow": {
     "slide_type": "fragment"
    }
   },
   "source": [
    "- **Exhaustive Search**: Comparing each point to every other point, which will require Linear query time (the size of the dataset and the dimention ).\n"
   ]
  },
  {
   "cell_type": "markdown",
   "metadata": {
    "slideshow": {
     "slide_type": "notes"
    }
   },
   "source": [
    "knn -> O(Nlogk)"
   ]
  },
  {
   "cell_type": "markdown",
   "metadata": {
    "slideshow": {
     "slide_type": "fragment"
    }
   },
   "source": [
    "- **The Grid Trick**: subdividing the space to a Grid, which will require exponential space/time (in the dimensionality of the dataset).\n"
   ]
  },
  {
   "cell_type": "markdown",
   "metadata": {
    "slideshow": {
     "slide_type": "notes"
    }
   },
   "source": [
    "- kd trees\n",
    "- quad-trees\n",
    "- metric trees\n",
    "- logn query time and n^(d/2) space"
   ]
  },
  {
   "cell_type": "markdown",
   "metadata": {
    "slideshow": {
     "slide_type": "fragment"
    }
   },
   "source": [
    "- [Since we are speaking on high dimension datasets the grid trick is impractical](http://www.vldb.org/conf/1998/p194.pdf)."
   ]
  },
  {
   "cell_type": "markdown",
   "metadata": {
    "slideshow": {
     "slide_type": "slide"
    }
   },
   "source": [
    "# Exhaustive Search Using Faiss"
   ]
  },
  {
   "cell_type": "markdown",
   "metadata": {
    "slideshow": {
     "slide_type": "fragment"
    }
   },
   "source": [
    "- Support comparision using matrix multiplication or using loops"
   ]
  },
  {
   "cell_type": "markdown",
   "metadata": {
    "slideshow": {
     "slide_type": "fragment"
    }
   },
   "source": [
    "- Support multiple metrics"
   ]
  },
  {
   "cell_type": "markdown",
   "metadata": {
    "slideshow": {
     "slide_type": "fragment"
    }
   },
   "source": [
    "- Running as a batch\n"
   ]
  },
  {
   "cell_type": "markdown",
   "metadata": {
    "slideshow": {
     "slide_type": "fragment"
    }
   },
   "source": [
    "- Support GPU / CPU\n"
   ]
  },
  {
   "cell_type": "markdown",
   "metadata": {
    "slideshow": {
     "slide_type": "fragment"
    }
   },
   "source": [
    "- Cache Friendly"
   ]
  },
  {
   "cell_type": "markdown",
   "metadata": {
    "slideshow": {
     "slide_type": "notes"
    }
   },
   "source": [
    "- A typical operation in IndexFlatL2 is to exhaustively compare a set of nq query vectors and a set of nb database vectors in dimension d (then select the top-k smallest vectors).\n",
    "- Faiss has two implementations of this operation:\n",
    "    - direct implementation that loops over nq, nb and the dimension of the vectors.\n",
    "    - an implementation that uses the decomposition d(x, y) = ||x||^2 + ||y||^2 - 2 * <x, y>. This is faster because the most expensive operation in O(nq * nb * d) can be handed over to BLAS that normally does this efficiently.\n",
    "\n",
    "We use implementation 1 when nq < 20, and implementation 2 otherwise. The threshold 20 can be adjusted via global variable faiss::distance_compute_blas_threshold (accessible in Python via faiss.cvar.distance_compute_blas_threshold).\n",
    "Note that solution 2 may be less stable numerically than 1 for vectors of very different magnitudes, see discussion in issue #297.\n",
    "\n",
    "- Faiss provides low-level functions to do the brute-force search in this context.\n",
    "- The functions take a matrix of database vectors and a matrix of query vectors and return the k-nearest neighbors and their distances."
   ]
  },
  {
   "cell_type": "code",
   "execution_count": 3,
   "metadata": {
    "slideshow": {
     "slide_type": "subslide"
    }
   },
   "outputs": [],
   "source": [
    "index = faiss.IndexFlatL2(vectors.shape[1])\n",
    "index.add(vectors)"
   ]
  },
  {
   "cell_type": "code",
   "execution_count": 4,
   "metadata": {
    "slideshow": {
     "slide_type": "fragment"
    }
   },
   "outputs": [],
   "source": [
    "search_vector = vectors[90:91]\n",
    "distances, indices = index.search(search_vector, 10)"
   ]
  },
  {
   "cell_type": "code",
   "execution_count": 5,
   "metadata": {
    "slideshow": {
     "slide_type": "fragment"
    }
   },
   "outputs": [
    {
     "name": "stdout",
     "output_type": "stream",
     "text": [
      "The most similar movies to Nightmare Before Christmas, The (1993) are:\n",
      "\n",
      "['Nightmare Before Christmas, The (1993)', 'Heavy Metal (1981)', 'Sirens (1994)', 'Beauty and the Beast (1991)', 'Akira (1988)', 'Fantasia (1940)', 'Benny & Joon (1993)', 'Barbarella (1968)', \"Pete's Dragon (1977)\", 'James and the Giant Peach (1996)']\n"
     ]
    }
   ],
   "source": [
    "print(f\"The most similar movies to {names[90]} are:\\n\")\n",
    "print([names[i] for i in indices[0]])"
   ]
  },
  {
   "cell_type": "markdown",
   "metadata": {
    "slideshow": {
     "slide_type": "slide"
    }
   },
   "source": [
    "# But It’s Not All Rainbows And Unicorns 🦄"
   ]
  },
  {
   "cell_type": "markdown",
   "metadata": {
    "slideshow": {
     "slide_type": "fragment"
    }
   },
   "source": [
    "- Most modern-day applications have massive datasets with high dimensionality."
   ]
  },
  {
   "cell_type": "markdown",
   "metadata": {
    "slideshow": {
     "slide_type": "fragment"
    }
   },
   "source": [
    "- Linear scan will take a while. "
   ]
  },
  {
   "cell_type": "markdown",
   "metadata": {
    "slideshow": {
     "slide_type": "fragment"
    }
   },
   "source": [
    "- Additional constraints such as reasonable memory consumption and/or low latency."
   ]
  },
  {
   "cell_type": "markdown",
   "metadata": {
    "slideshow": {
     "slide_type": "fragment"
    }
   },
   "source": [
    "- The only method guaranting exact nearest neighbor is exhaustive search"
   ]
  },
  {
   "cell_type": "markdown",
   "metadata": {
    "slideshow": {
     "slide_type": "subslide"
    }
   },
   "source": [
    "![](storage-tradeoff.png)"
   ]
  },
  {
   "cell_type": "markdown",
   "metadata": {
    "slideshow": {
     "slide_type": "subslide"
    }
   },
   "source": [
    "![](https://miro.medium.com/max/1336/0*Nt8sGnZm0sBwa2Fs.jpg)"
   ]
  },
  {
   "cell_type": "markdown",
   "metadata": {
    "slideshow": {
     "slide_type": "slide"
    }
   },
   "source": [
    "# Approximate Nearest Neighbors’ Motivation 🎇"
   ]
  },
  {
   "cell_type": "markdown",
   "metadata": {
    "slideshow": {
     "slide_type": "fragment"
    }
   },
   "source": [
    "- Enable fast searches"
   ]
  },
  {
   "cell_type": "markdown",
   "metadata": {
    "slideshow": {
     "slide_type": "fragment"
    }
   },
   "source": [
    "- While controling Memory, Precision, and Performance  tradeoffs "
   ]
  },
  {
   "cell_type": "markdown",
   "metadata": {
    "slideshow": {
     "slide_type": "notes"
    }
   },
   "source": [
    "- Can do full calculation after entries being fetched"
   ]
  },
  {
   "cell_type": "markdown",
   "metadata": {
    "slideshow": {
     "slide_type": "slide"
    }
   },
   "source": [
    "# Strategies for approximate nearest neighbors 🧠"
   ]
  },
  {
   "cell_type": "markdown",
   "metadata": {
    "slideshow": {
     "slide_type": "fragment"
    }
   },
   "source": [
    "- **Vector Transformation** — applied on vector before they are indexed."
   ]
  },
  {
   "cell_type": "markdown",
   "metadata": {
    "slideshow": {
     "slide_type": "notes"
    }
   },
   "source": [
    "amongst them there is dimensionality reduction and vector rotation."
   ]
  },
  {
   "cell_type": "markdown",
   "metadata": {
    "slideshow": {
     "slide_type": "fragment"
    }
   },
   "source": [
    "- **Vector Encoding** — applied on vectors in order to construct the actual index for search."
   ]
  },
  {
   "cell_type": "markdown",
   "metadata": {
    "slideshow": {
     "slide_type": "notes"
    }
   },
   "source": [
    "amongst these there are data structure-based techniques like Trees, LSH and Quantization a technique to encode the vector to a much more compact form.\n"
   ]
  },
  {
   "cell_type": "markdown",
   "metadata": {
    "slideshow": {
     "slide_type": "fragment"
    }
   },
   "source": [
    "- **None Exhaustive Search Component** — applied on vectors in order to avoid exhaustive search. "
   ]
  },
  {
   "cell_type": "markdown",
   "metadata": {
    "slideshow": {
     "slide_type": "notes"
    }
   },
   "source": [
    "amongst these techniques there are Inverted Files and Neighborhood Graphs"
   ]
  },
  {
   "cell_type": "markdown",
   "metadata": {
    "slideshow": {
     "slide_type": "slide"
    }
   },
   "source": [
    "# None Exhaustive Search Component IVF"
   ]
  },
  {
   "cell_type": "markdown",
   "metadata": {
    "slideshow": {
     "slide_type": "fragment"
    }
   },
   "source": [
    "- We can avoid the exhaustive search \n"
   ]
  },
  {
   "cell_type": "markdown",
   "metadata": {
    "slideshow": {
     "slide_type": "fragment"
    }
   },
   "source": [
    "- Partition our dataset in such a way that on search, we only query relevant partitions.\n"
   ]
  },
  {
   "cell_type": "markdown",
   "metadata": {
    "slideshow": {
     "slide_type": "fragment"
    }
   },
   "source": [
    "- Most datasets are actually multi-modal"
   ]
  },
  {
   "cell_type": "markdown",
   "metadata": {
    "slideshow": {
     "slide_type": "fragment"
    }
   },
   "source": [
    "![](https://miro.medium.com/max/1400/0*VSXhuU1WyAgEu4tJ.png)"
   ]
  },
  {
   "cell_type": "markdown",
   "metadata": {
    "slideshow": {
     "slide_type": "subslide"
    }
   },
   "source": [
    "- Dividing the dataset up this way reduce accuracy \n"
   ]
  },
  {
   "cell_type": "markdown",
   "metadata": {
    "slideshow": {
     "slide_type": "fragment"
    }
   },
   "source": [
    "- You can search for multiple partitions \n"
   ]
  },
  {
   "cell_type": "markdown",
   "metadata": {
    "slideshow": {
     "slide_type": "fragment"
    }
   },
   "source": [
    "- Time/accuracy tradeoff sweet spot.\n"
   ]
  },
  {
   "cell_type": "markdown",
   "metadata": {
    "slideshow": {
     "slide_type": "subslide"
    }
   },
   "source": [
    "![](https://miro.medium.com/max/960/0*By82lS1oF4UtEy7Z.gif)"
   ]
  },
  {
   "cell_type": "code",
   "execution_count": 6,
   "metadata": {
    "slideshow": {
     "slide_type": "subslide"
    }
   },
   "outputs": [],
   "source": [
    "\n",
    "quantizer = faiss.IndexFlatL2(vectors.shape[1])\n",
    "index = faiss.IndexIVFFlat(quantizer, \n",
    "                           vectors.shape[1], \n",
    "                           100,             # number_of_partition,\n",
    "                           8)               # search_in_x_partitions\n",
    "index.train(vectors)\n",
    "index.add(vectors)"
   ]
  },
  {
   "cell_type": "code",
   "execution_count": null,
   "metadata": {
    "slideshow": {
     "slide_type": "fragment"
    }
   },
   "outputs": [],
   "source": [
    "search_vector = vectors[90:91]\n",
    "distances, indices = index.search(search_vector, 10)"
   ]
  },
  {
   "cell_type": "code",
   "execution_count": null,
   "metadata": {
    "slideshow": {
     "slide_type": "fragment"
    }
   },
   "outputs": [],
   "source": [
    "print(f\"The most similar movies to {names[90]} are:\\n\")\n",
    "print([names[i] for i in indices[0]])"
   ]
  },
  {
   "cell_type": "markdown",
   "metadata": {
    "slideshow": {
     "slide_type": "slide"
    }
   },
   "source": [
    "# Vector Encoding using Product Quantization"
   ]
  },
  {
   "cell_type": "markdown",
   "metadata": {
    "slideshow": {
     "slide_type": "fragment"
    }
   },
   "source": [
    "- reduce the size of the dataset by replacing every vector with a leaner approximated representation of the vectors "
   ]
  },
  {
   "cell_type": "markdown",
   "metadata": {
    "slideshow": {
     "slide_type": "fragment"
    }
   },
   "source": [
    "- Give similar vectors to the same representation."
   ]
  },
  {
   "cell_type": "markdown",
   "metadata": {
    "slideshow": {
     "slide_type": "fragment"
    }
   },
   "source": [
    "- This can be done by clustering similar vectors and represent each of those as the centroid"
   ]
  },
  {
   "cell_type": "markdown",
   "metadata": {
    "slideshow": {
     "slide_type": "fragment"
    }
   },
   "source": [
    "- We can use k-means again"
   ]
  },
  {
   "cell_type": "markdown",
   "metadata": {
    "slideshow": {
     "slide_type": "notes"
    }
   },
   "source": [
    "This will allow us to represent each vector in a much more efficient way log(k) bit per vector since each vector can be represented in the label of the centroid."
   ]
  },
  {
   "cell_type": "markdown",
   "metadata": {
    "slideshow": {
     "slide_type": "subslide"
    }
   },
   "source": [
    "- In our example, each vector is represented by one of the centroids. \n",
    "- since we have 2042 centroids we can represent each vector with 11 bits, as opposed to 4096 ( 1024*32 )."
   ]
  },
  {
   "cell_type": "markdown",
   "metadata": {
    "slideshow": {
     "slide_type": "-"
    }
   },
   "source": [
    "![](https://miro.medium.com/max/1400/0*_DeC1LZgJKR9NEJ-.jpeg)\n",
    "   "
   ]
  },
  {
   "cell_type": "markdown",
   "metadata": {
    "slideshow": {
     "slide_type": "subslide"
    }
   },
   "source": [
    "- This amazing compaction comes with a great cost "
   ]
  },
  {
   "cell_type": "markdown",
   "metadata": {
    "slideshow": {
     "slide_type": "fragment"
    }
   },
   "source": [
    "- we lose accuracy as we now cant separate the original vector from the centroid."
   ]
  },
  {
   "cell_type": "markdown",
   "metadata": {
    "slideshow": {
     "slide_type": "fragment"
    }
   },
   "source": [
    "- to increase the accuracy of our vectors we need to increase drastically the number of centroids"
   ]
  },
  {
   "cell_type": "markdown",
   "metadata": {
    "slideshow": {
     "slide_type": "fragment"
    }
   },
   "source": [
    "- makes regurlar Quantization phase infeasible in practice."
   ]
  },
  {
   "cell_type": "markdown",
   "metadata": {
    "slideshow": {
     "slide_type": "subslide"
    }
   },
   "source": [
    "- Gave birth to Product Quantization "
   ]
  },
  {
   "cell_type": "markdown",
   "metadata": {
    "slideshow": {
     "slide_type": "fragment"
    }
   },
   "source": [
    "- We can increase the number of centroids by dividing each vector into many vectors and run our quantizer on all of these.\n"
   ]
  },
  {
   "cell_type": "markdown",
   "metadata": {
    "slideshow": {
     "slide_type": "subslide"
    }
   },
   "source": [
    "- In our example, each vector is represented by 8 sub-vectors which can be represented by one of the centroids. \n"
   ]
  },
  {
   "cell_type": "markdown",
   "metadata": {
    "slideshow": {
     "slide_type": "fragment"
    }
   },
   "source": [
    "- Since we have 256 centroids we can represent each matrix in 1 byte\n"
   ]
  },
  {
   "cell_type": "markdown",
   "metadata": {
    "slideshow": {
     "slide_type": "fragment"
    }
   },
   "source": [
    "- Making vector representation 8byte only as oppose to 4096 ( 1024*32 ).\n"
   ]
  },
  {
   "cell_type": "markdown",
   "metadata": {
    "slideshow": {
     "slide_type": "fragment"
    }
   },
   "source": [
    "![](https://miro.medium.com/max/1400/0*rU8Qhmd2d-zeYKwI.jpeg)"
   ]
  },
  {
   "cell_type": "markdown",
   "metadata": {
    "slideshow": {
     "slide_type": "notes"
    }
   },
   "source": [
    "Although it increases the size of the vector a bit compared to the regular quantizer, it’s still O(log(k)) and allows us to increase the accuracy drastically and still work in practice.\n",
    "Unfortunately in terms of search, even though we can calculate the distances in more efficiently using table look-ups and some addition. We are still going to do an exhaustive search.\n",
    "    In our example, this means that this means building a table of subvector distances with 256 rows (one for each centroid) and 8 columns (one for each subvector). Remember that each database vector is now just a sequence of 8 centroid ids.\n",
    "The exact nearest neighb\n",
    "![](https://miro.medium.com/max/1400/0*Aa60Tq3Agbb5dmjt.jpeg)"
   ]
  },
  {
   "cell_type": "code",
   "execution_count": 8,
   "metadata": {
    "slideshow": {
     "slide_type": "subslide"
    }
   },
   "outputs": [],
   "source": [
    "quantizer = faiss.IndexFlatL2(vectors.shape[1])\n",
    "index = faiss.IndexIVFPQ(quantizer, \n",
    "                         vectors.shape[1], \n",
    "                         100,             # number_of_partition,\n",
    "                         8,               # search_in_x_partitions, \n",
    "                         8)               # subvector_size\n",
    "index.train(vectors)\n",
    "index.add(vectors)"
   ]
  },
  {
   "cell_type": "code",
   "execution_count": 9,
   "metadata": {
    "slideshow": {
     "slide_type": "fragment"
    }
   },
   "outputs": [],
   "source": [
    "search_vector = vectors[90:91]\n",
    "distances, indices = index.search(search_vector, 10)\n"
   ]
  },
  {
   "cell_type": "code",
   "execution_count": 10,
   "metadata": {
    "slideshow": {
     "slide_type": "fragment"
    }
   },
   "outputs": [
    {
     "name": "stdout",
     "output_type": "stream",
     "text": [
      "The most similar movies to Nightmare Before Christmas, The (1993) are:\n",
      "\n",
      "['Nightmare Before Christmas, The (1993)', 'Heavy Metal (1981)', 'Pink Floyd - The Wall (1982)', 'Akira (1988)', 'Hamlet (1996)', 'Full Metal Jacket (1987)', 'Supercop (1992)', 'Scream of Stone (Schrei aus Stein) (1991)', 'Scream of Stone (Schrei aus Stein) (1991)', 'Scream of Stone (Schrei aus Stein) (1991)']\n"
     ]
    }
   ],
   "source": [
    "print(f\"The most similar movies to {names[90]} are:\\n\")\n",
    "print([names[i] for i in indices[0]])"
   ]
  },
  {
   "cell_type": "markdown",
   "metadata": {
    "slideshow": {
     "slide_type": "slide"
    }
   },
   "source": [
    "# [Guidelines to choose an index](https://github.com/facebookresearch/faiss/wiki/Guidelines-to-choose-an-index)\n"
   ]
  },
  {
   "cell_type": "markdown",
   "metadata": {
    "slideshow": {
     "slide_type": "fragment"
    }
   },
   "source": [
    "![](data:image/jpeg;base64,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)"
   ]
  },
  {
   "cell_type": "markdown",
   "metadata": {
    "slideshow": {
     "slide_type": "slide"
    }
   },
   "source": [
    "# Higher Level Vector Search "
   ]
  },
  {
   "cell_type": "markdown",
   "metadata": {
    "slideshow": {
     "slide_type": "fragment"
    }
   },
   "source": [
    "- [milvus](https://github.com/milvus-io/milvus)"
   ]
  },
  {
   "cell_type": "markdown",
   "metadata": {
    "slideshow": {
     "slide_type": "notes"
    }
   },
   "source": [
    "- vector similarity search engine powered by Faiss, NMSLIB and Annoy\n",
    "- Support regular database features\n",
    "- support adding vectors\n",
    "- Doesn't support all the features and work on CPU"
   ]
  },
  {
   "cell_type": "markdown",
   "metadata": {
    "slideshow": {
     "slide_type": "fragment"
    }
   },
   "source": [
    "- [jina](https://github.com/jina-ai/jina)"
   ]
  },
  {
   "cell_type": "markdown",
   "metadata": {
    "slideshow": {
     "slide_type": "fragment"
    }
   },
   "source": [
    "![](https://cdn.educba.com/academy/wp-content/uploads/2015/11/43.jpg)"
   ]
  },
  {
   "cell_type": "markdown",
   "metadata": {
    "slideshow": {
     "slide_type": "slide"
    }
   },
   "source": [
    "# Additional Resources 📚"
   ]
  },
  {
   "cell_type": "markdown",
   "metadata": {},
   "source": [
    "- [Exact Nearest Neighbors Algorithms](https://www.youtube.com/watch?v=EipAOnj6bF0)"
   ]
  },
  {
   "cell_type": "markdown",
   "metadata": {
    "slideshow": {
     "slide_type": "fragment"
    }
   },
   "source": [
    "- [Comprehensive Guide To Approximate Nearest Neighbors Algorithms](https://towardsdatascience.com/comprehensive-guide-to-approximate-nearest-neighbors-algorithms-8b94f057d6b6)\n",
    "- [Billion-scale Approximate Nearest Neighbor Search](https://www.youtube.com/watch?v=CjEttJBWr90)\n",
    "- [An Introduction to Faiss and Similarity Search](https://www.youtube.com/watch?v=Un1Q92lfhPM)\n",
    "- https://www.youtube.com/watch?v=3Zg1iKRxgkU&list=WL&index=9&ab_channel=ZillizChannel\n"
   ]
  },
  {
   "cell_type": "markdown",
   "metadata": {
    "slideshow": {
     "slide_type": "fragment"
    }
   },
   "source": [
    "- [Approximate nearest neighbors and vector models, introduction to Annoy](https://www.youtube.com/watch?v=QkCCyLW0ehU)\n"
   ]
  },
  {
   "cell_type": "markdown",
   "metadata": {
    "slideshow": {
     "slide_type": "fragment"
    }
   },
   "source": [
    "- [Scaling Visual Search with Locally Optimized Product Quantization](\n",
    "https://www.youtube.com/watch?v=AQau4-VF64w)"
   ]
  },
  {
   "cell_type": "markdown",
   "metadata": {
    "slideshow": {
     "slide_type": "fragment"
    }
   },
   "source": [
    "- [Approximate Nearest Neighbors in Limited Space](https://www.youtube.com/watch?v=_UvkFgiAZqE)"
   ]
  },
  {
   "cell_type": "markdown",
   "metadata": {
    "slideshow": {
     "slide_type": "fragment"
    }
   },
   "source": [
    "- [Algo Hour - Nearest Neighbor Descent (and friends)](https://www.youtube.com/watch?v=OvT2NY_FV_g&feature=emb_title)\n",
    "- [Fast Scalable Approximate Nearest Neighbor Search for High-dimensional Data](https://www.youtube.com/watch?v=CjEttJBWr90)"
   ]
  },
  {
   "cell_type": "markdown",
   "metadata": {
    "slideshow": {
     "slide_type": "slide"
    }
   },
   "source": [
    "![](https://i.pinimg.com/originals/b9/0a/79/b90a79b4c361d079144597d0bcdd61de.jpg)"
   ]
  },
  {
   "cell_type": "markdown",
   "metadata": {},
   "source": [
    "keeping imageindex fresh\n",
    "remove duplicate images from our index\n",
    "\n",
    "- do not insert very similar vectors"
   ]
  }
 ],
 "metadata": {
  "celltoolbar": "Slideshow",
  "kernelspec": {
   "display_name": "Python 3",
   "language": "python",
   "name": "python3"
  },
  "language_info": {
   "codemirror_mode": {
    "name": "ipython",
    "version": 3
   },
   "file_extension": ".py",
   "mimetype": "text/x-python",
   "name": "python",
   "nbconvert_exporter": "python",
   "pygments_lexer": "ipython3",
   "version": "3.8.8"
  }
 },
 "nbformat": 4,
 "nbformat_minor": 4
}
